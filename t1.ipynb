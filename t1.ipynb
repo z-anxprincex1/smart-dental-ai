{
 "cells": [
  {
   "cell_type": "code",
   "execution_count": 1,
   "id": "09f2b7f2",
   "metadata": {},
   "outputs": [],
   "source": [
    "import pandas as pd"
   ]
  },
  {
   "cell_type": "code",
   "execution_count": 2,
   "id": "8af1516b",
   "metadata": {},
   "outputs": [],
   "source": [
    "file_path = \"./data/ddw1.xlsx\"\n",
    "df = pd.read_excel(file_path)"
   ]
  },
  {
   "cell_type": "code",
   "execution_count": 3,
   "id": "ee2872af",
   "metadata": {},
   "outputs": [
    {
     "data": {
      "text/plain": [
       "24300"
      ]
     },
     "execution_count": 3,
     "metadata": {},
     "output_type": "execute_result"
    }
   ],
   "source": [
    "len(df)"
   ]
  },
  {
   "cell_type": "markdown",
   "id": "5f2c4961",
   "metadata": {},
   "source": [
    "**Features**"
   ]
  },
  {
   "cell_type": "code",
   "execution_count": 4,
   "id": "bed3bf39",
   "metadata": {},
   "outputs": [
    {
     "name": "stdout",
     "output_type": "stream",
     "text": [
      "Index(['RENDERING_NPI', 'PROVIDER_LEGAL_NAME', 'CALENDAR_YEAR',\n",
      "       'DELIVERY_SYSTEM', 'PROVIDER_TYPE', 'AGE_GROUP', 'ADV_USER_CNT',\n",
      "       'ADV_USER_ANNOTATION_CODE', 'ADV_SVC_CNT', 'ADV_SVC_ANNOTATION_CODE',\n",
      "       'PREV_USER_CNT', 'PREV_USER_ANNOTATION_CODE', 'PREV_SVC_CNT',\n",
      "       'PREV_SVC_ANNOTATION_CODE', 'TXMT_USER_CNT',\n",
      "       'TXMT_USER_ ANNOTATION_CODE', 'TXMT_SVC_CNT',\n",
      "       'TXMT_SVC_ANNOTATION_CODE', 'EXAM_USER_CNT',\n",
      "       'EXAM_USER_ANNOTATION_CODE', 'EXAM_SVC_CNT',\n",
      "       'EXAM_SVC_ANNOTATION_CODE'],\n",
      "      dtype='object')\n"
     ]
    }
   ],
   "source": [
    "print(df.columns)"
   ]
  },
  {
   "cell_type": "markdown",
   "id": "85be48cd",
   "metadata": {},
   "source": [
    "**Number of missing values under each feature**"
   ]
  },
  {
   "cell_type": "code",
   "execution_count": 5,
   "id": "6b82dde7",
   "metadata": {},
   "outputs": [
    {
     "name": "stdout",
     "output_type": "stream",
     "text": [
      "RENDERING_NPI                     0\n",
      "PROVIDER_LEGAL_NAME               2\n",
      "CALENDAR_YEAR                     0\n",
      "DELIVERY_SYSTEM                   0\n",
      "PROVIDER_TYPE                     0\n",
      "AGE_GROUP                         0\n",
      "ADV_USER_CNT                   5848\n",
      "ADV_USER_ANNOTATION_CODE      18452\n",
      "ADV_SVC_CNT                    5848\n",
      "ADV_SVC_ANNOTATION_CODE       18452\n",
      "PREV_USER_CNT                  8744\n",
      "PREV_USER_ANNOTATION_CODE     15556\n",
      "PREV_SVC_CNT                   4592\n",
      "PREV_SVC_ANNOTATION_CODE      19708\n",
      "TXMT_USER_CNT                  5792\n",
      "TXMT_USER_ ANNOTATION_CODE    18508\n",
      "TXMT_SVC_CNT                   5792\n",
      "TXMT_SVC_ANNOTATION_CODE      18508\n",
      "EXAM_USER_CNT                  4712\n",
      "EXAM_USER_ANNOTATION_CODE     19588\n",
      "EXAM_SVC_CNT                   4712\n",
      "EXAM_SVC_ANNOTATION_CODE      19588\n",
      "dtype: int64\n"
     ]
    }
   ],
   "source": [
    "missing_val = df.isnull().sum()\n",
    "print(missing_val)"
   ]
  },
  {
   "cell_type": "markdown",
   "id": "9a81c0b6",
   "metadata": {},
   "source": [
    "**Delivery System**"
   ]
  },
  {
   "cell_type": "code",
   "execution_count": 6,
   "id": "3aa17ba8",
   "metadata": {},
   "outputs": [
    {
     "name": "stdout",
     "output_type": "stream",
     "text": [
      "['FFS' 'PHP' 'GMC']\n",
      "missing values: 0\n"
     ]
    }
   ],
   "source": [
    "feature_name = 'DELIVERY_SYSTEM'\n",
    "print(df[feature_name].unique())\n",
    "print(f\"missing values: {df[feature_name].isnull().sum()}\")"
   ]
  },
  {
   "cell_type": "markdown",
   "id": "26567370",
   "metadata": {},
   "source": [
    "**FFS**: (Fee-For-Service), providers are paid a fee for each specific service they perform.\n",
    "\n",
    "**GMC**: (Geographic Managed Care), might be enrolled in a health plan that serves a specific geographic area.\n",
    "\n",
    "**PHP**: (Pre-Paid Health), pays a fixed, regular fee to the health plan, it could provide a pre-determined set of healthcare services as needed. Could be like a subscription service for healthcare, by paying upfront.\n",
    "\n",
    "**Suggestions**:\n",
    "* transform (cat -> num)"
   ]
  },
  {
   "cell_type": "code",
   "execution_count": 7,
   "id": "70ac3aa4",
   "metadata": {},
   "outputs": [
    {
     "data": {
      "text/html": [
       "<div>\n",
       "<style scoped>\n",
       "    .dataframe tbody tr th:only-of-type {\n",
       "        vertical-align: middle;\n",
       "    }\n",
       "\n",
       "    .dataframe tbody tr th {\n",
       "        vertical-align: top;\n",
       "    }\n",
       "\n",
       "    .dataframe thead th {\n",
       "        text-align: right;\n",
       "    }\n",
       "</style>\n",
       "<table border=\"1\" class=\"dataframe\">\n",
       "  <thead>\n",
       "    <tr style=\"text-align: right;\">\n",
       "      <th></th>\n",
       "      <th>RENDERING_NPI</th>\n",
       "      <th>PROVIDER_LEGAL_NAME</th>\n",
       "      <th>CALENDAR_YEAR</th>\n",
       "      <th>DELIVERY_SYSTEM</th>\n",
       "      <th>PROVIDER_TYPE</th>\n",
       "      <th>AGE_GROUP</th>\n",
       "      <th>ADV_USER_CNT</th>\n",
       "      <th>ADV_USER_ANNOTATION_CODE</th>\n",
       "      <th>ADV_SVC_CNT</th>\n",
       "      <th>ADV_SVC_ANNOTATION_CODE</th>\n",
       "      <th>...</th>\n",
       "      <th>PREV_SVC_ANNOTATION_CODE</th>\n",
       "      <th>TXMT_USER_CNT</th>\n",
       "      <th>TXMT_USER_ ANNOTATION_CODE</th>\n",
       "      <th>TXMT_SVC_CNT</th>\n",
       "      <th>TXMT_SVC_ANNOTATION_CODE</th>\n",
       "      <th>EXAM_USER_CNT</th>\n",
       "      <th>EXAM_USER_ANNOTATION_CODE</th>\n",
       "      <th>EXAM_SVC_CNT</th>\n",
       "      <th>EXAM_SVC_ANNOTATION_CODE</th>\n",
       "      <th>DELIVERY_SYSTEM_ENCODED</th>\n",
       "    </tr>\n",
       "  </thead>\n",
       "  <tbody>\n",
       "    <tr>\n",
       "      <th>0</th>\n",
       "      <td>1003003781</td>\n",
       "      <td>CHOTI SUPAK</td>\n",
       "      <td>2018</td>\n",
       "      <td>FFS</td>\n",
       "      <td>RENDERING</td>\n",
       "      <td>AGE 0-20</td>\n",
       "      <td>101.0</td>\n",
       "      <td>NaN</td>\n",
       "      <td>847.0</td>\n",
       "      <td>NaN</td>\n",
       "      <td>...</td>\n",
       "      <td>NaN</td>\n",
       "      <td>37.0</td>\n",
       "      <td>NaN</td>\n",
       "      <td>115.0</td>\n",
       "      <td>NaN</td>\n",
       "      <td>83.0</td>\n",
       "      <td>NaN</td>\n",
       "      <td>98.0</td>\n",
       "      <td>NaN</td>\n",
       "      <td>0</td>\n",
       "    </tr>\n",
       "  </tbody>\n",
       "</table>\n",
       "<p>1 rows × 23 columns</p>\n",
       "</div>"
      ],
      "text/plain": [
       "   RENDERING_NPI PROVIDER_LEGAL_NAME  CALENDAR_YEAR DELIVERY_SYSTEM  \\\n",
       "0     1003003781         CHOTI SUPAK           2018             FFS   \n",
       "\n",
       "  PROVIDER_TYPE AGE_GROUP  ADV_USER_CNT  ADV_USER_ANNOTATION_CODE  \\\n",
       "0     RENDERING  AGE 0-20         101.0                       NaN   \n",
       "\n",
       "   ADV_SVC_CNT  ADV_SVC_ANNOTATION_CODE  ...  PREV_SVC_ANNOTATION_CODE  \\\n",
       "0        847.0                      NaN  ...                       NaN   \n",
       "\n",
       "   TXMT_USER_CNT  TXMT_USER_ ANNOTATION_CODE  TXMT_SVC_CNT  \\\n",
       "0           37.0                         NaN         115.0   \n",
       "\n",
       "   TXMT_SVC_ANNOTATION_CODE  EXAM_USER_CNT  EXAM_USER_ANNOTATION_CODE  \\\n",
       "0                       NaN           83.0                        NaN   \n",
       "\n",
       "   EXAM_SVC_CNT  EXAM_SVC_ANNOTATION_CODE  DELIVERY_SYSTEM_ENCODED  \n",
       "0          98.0                       NaN                        0  \n",
       "\n",
       "[1 rows x 23 columns]"
      ]
     },
     "execution_count": 7,
     "metadata": {},
     "output_type": "execute_result"
    }
   ],
   "source": [
    "from sklearn.preprocessing import LabelEncoder\n",
    "import pandas as pd\n",
    "\n",
    "le = LabelEncoder()\n",
    "\n",
    "df['DELIVERY_SYSTEM_ENCODED'] = le.fit_transform(df['DELIVERY_SYSTEM'])\n",
    "df.head(1)"
   ]
  },
  {
   "cell_type": "markdown",
   "id": "f50437f6",
   "metadata": {},
   "source": [
    "reordering columns"
   ]
  },
  {
   "cell_type": "code",
   "execution_count": 8,
   "id": "abeedfbc",
   "metadata": {},
   "outputs": [
    {
     "data": {
      "text/html": [
       "<div>\n",
       "<style scoped>\n",
       "    .dataframe tbody tr th:only-of-type {\n",
       "        vertical-align: middle;\n",
       "    }\n",
       "\n",
       "    .dataframe tbody tr th {\n",
       "        vertical-align: top;\n",
       "    }\n",
       "\n",
       "    .dataframe thead th {\n",
       "        text-align: right;\n",
       "    }\n",
       "</style>\n",
       "<table border=\"1\" class=\"dataframe\">\n",
       "  <thead>\n",
       "    <tr style=\"text-align: right;\">\n",
       "      <th></th>\n",
       "      <th>RENDERING_NPI</th>\n",
       "      <th>PROVIDER_LEGAL_NAME</th>\n",
       "      <th>CALENDAR_YEAR</th>\n",
       "      <th>DELIVERY_SYSTEM</th>\n",
       "      <th>DELIVERY_SYSTEM_ENCODED</th>\n",
       "      <th>PROVIDER_TYPE</th>\n",
       "      <th>AGE_GROUP</th>\n",
       "      <th>ADV_USER_CNT</th>\n",
       "      <th>ADV_USER_ANNOTATION_CODE</th>\n",
       "      <th>ADV_SVC_CNT</th>\n",
       "      <th>...</th>\n",
       "      <th>PREV_SVC_CNT</th>\n",
       "      <th>PREV_SVC_ANNOTATION_CODE</th>\n",
       "      <th>TXMT_USER_CNT</th>\n",
       "      <th>TXMT_USER_ ANNOTATION_CODE</th>\n",
       "      <th>TXMT_SVC_CNT</th>\n",
       "      <th>TXMT_SVC_ANNOTATION_CODE</th>\n",
       "      <th>EXAM_USER_CNT</th>\n",
       "      <th>EXAM_USER_ANNOTATION_CODE</th>\n",
       "      <th>EXAM_SVC_CNT</th>\n",
       "      <th>EXAM_SVC_ANNOTATION_CODE</th>\n",
       "    </tr>\n",
       "  </thead>\n",
       "  <tbody>\n",
       "    <tr>\n",
       "      <th>0</th>\n",
       "      <td>1003003781</td>\n",
       "      <td>CHOTI SUPAK</td>\n",
       "      <td>2018</td>\n",
       "      <td>FFS</td>\n",
       "      <td>0</td>\n",
       "      <td>RENDERING</td>\n",
       "      <td>AGE 0-20</td>\n",
       "      <td>101.0</td>\n",
       "      <td>NaN</td>\n",
       "      <td>847.0</td>\n",
       "      <td>...</td>\n",
       "      <td>216.0</td>\n",
       "      <td>NaN</td>\n",
       "      <td>37.0</td>\n",
       "      <td>NaN</td>\n",
       "      <td>115.0</td>\n",
       "      <td>NaN</td>\n",
       "      <td>83.0</td>\n",
       "      <td>NaN</td>\n",
       "      <td>98.0</td>\n",
       "      <td>NaN</td>\n",
       "    </tr>\n",
       "  </tbody>\n",
       "</table>\n",
       "<p>1 rows × 23 columns</p>\n",
       "</div>"
      ],
      "text/plain": [
       "   RENDERING_NPI PROVIDER_LEGAL_NAME  CALENDAR_YEAR DELIVERY_SYSTEM  \\\n",
       "0     1003003781         CHOTI SUPAK           2018             FFS   \n",
       "\n",
       "   DELIVERY_SYSTEM_ENCODED PROVIDER_TYPE AGE_GROUP  ADV_USER_CNT  \\\n",
       "0                        0     RENDERING  AGE 0-20         101.0   \n",
       "\n",
       "   ADV_USER_ANNOTATION_CODE  ADV_SVC_CNT  ...  PREV_SVC_CNT  \\\n",
       "0                       NaN        847.0  ...         216.0   \n",
       "\n",
       "   PREV_SVC_ANNOTATION_CODE  TXMT_USER_CNT  TXMT_USER_ ANNOTATION_CODE  \\\n",
       "0                       NaN           37.0                         NaN   \n",
       "\n",
       "   TXMT_SVC_CNT  TXMT_SVC_ANNOTATION_CODE  EXAM_USER_CNT  \\\n",
       "0         115.0                       NaN           83.0   \n",
       "\n",
       "   EXAM_USER_ANNOTATION_CODE  EXAM_SVC_CNT  EXAM_SVC_ANNOTATION_CODE  \n",
       "0                        NaN          98.0                       NaN  \n",
       "\n",
       "[1 rows x 23 columns]"
      ]
     },
     "execution_count": 8,
     "metadata": {},
     "output_type": "execute_result"
    }
   ],
   "source": [
    "new_order = ['RENDERING_NPI', 'PROVIDER_LEGAL_NAME', 'CALENDAR_YEAR',\n",
    "       'DELIVERY_SYSTEM', 'DELIVERY_SYSTEM_ENCODED', 'PROVIDER_TYPE', 'AGE_GROUP', 'ADV_USER_CNT',\n",
    "       'ADV_USER_ANNOTATION_CODE', 'ADV_SVC_CNT', 'ADV_SVC_ANNOTATION_CODE',\n",
    "       'PREV_USER_CNT', 'PREV_USER_ANNOTATION_CODE', 'PREV_SVC_CNT',\n",
    "       'PREV_SVC_ANNOTATION_CODE', 'TXMT_USER_CNT',\n",
    "       'TXMT_USER_ ANNOTATION_CODE', 'TXMT_SVC_CNT',\n",
    "       'TXMT_SVC_ANNOTATION_CODE', 'EXAM_USER_CNT',\n",
    "       'EXAM_USER_ANNOTATION_CODE', 'EXAM_SVC_CNT', 'EXAM_SVC_ANNOTATION_CODE']\n",
    "\n",
    "df = df[new_order]\n",
    "df.head(1)"
   ]
  },
  {
   "cell_type": "markdown",
   "id": "d3296f1b",
   "metadata": {},
   "source": [
    "**More about Provider Type**"
   ]
  },
  {
   "cell_type": "code",
   "execution_count": 9,
   "id": "35f747ea",
   "metadata": {},
   "outputs": [
    {
     "name": "stdout",
     "output_type": "stream",
     "text": [
      "['RENDERING' 'RENDERING SNC']\n",
      "missing values: 0\n"
     ]
    }
   ],
   "source": [
    "feature_name = 'PROVIDER_TYPE'\n",
    "print(df[feature_name].unique())\n",
    "print(f\"missing values: {df[feature_name].isnull().sum()}\")"
   ]
  },
  {
   "cell_type": "markdown",
   "id": "45e3389a",
   "metadata": {},
   "source": [
    "**RENDERING**: providers those that generally have higher prices, operate as a **for-profit**, and provides services to commercial insurance. \n",
    "\n",
    "**RENDERING SNC**: refers to provider in the Safety Net Clinic (SNC), they operate as a mission-driven or **non-profit framework** generally offer affordable prices, for low to average-waged people.\n",
    "\n",
    "**Suggestions**:\n",
    "* transform (cat -> num)"
   ]
  },
  {
   "cell_type": "code",
   "execution_count": 10,
   "id": "ccf10678",
   "metadata": {},
   "outputs": [
    {
     "data": {
      "text/html": [
       "<div>\n",
       "<style scoped>\n",
       "    .dataframe tbody tr th:only-of-type {\n",
       "        vertical-align: middle;\n",
       "    }\n",
       "\n",
       "    .dataframe tbody tr th {\n",
       "        vertical-align: top;\n",
       "    }\n",
       "\n",
       "    .dataframe thead th {\n",
       "        text-align: right;\n",
       "    }\n",
       "</style>\n",
       "<table border=\"1\" class=\"dataframe\">\n",
       "  <thead>\n",
       "    <tr style=\"text-align: right;\">\n",
       "      <th></th>\n",
       "      <th>RENDERING_NPI</th>\n",
       "      <th>PROVIDER_LEGAL_NAME</th>\n",
       "      <th>CALENDAR_YEAR</th>\n",
       "      <th>DELIVERY_SYSTEM</th>\n",
       "      <th>DELIVERY_SYSTEM_ENCODED</th>\n",
       "      <th>PROVIDER_TYPE</th>\n",
       "      <th>PROVIDER_TYPE_ENCODED</th>\n",
       "      <th>AGE_GROUP</th>\n",
       "      <th>ADV_USER_CNT</th>\n",
       "      <th>ADV_USER_ANNOTATION_CODE</th>\n",
       "      <th>...</th>\n",
       "      <th>PREV_SVC_CNT</th>\n",
       "      <th>PREV_SVC_ANNOTATION_CODE</th>\n",
       "      <th>TXMT_USER_CNT</th>\n",
       "      <th>TXMT_USER_ ANNOTATION_CODE</th>\n",
       "      <th>TXMT_SVC_CNT</th>\n",
       "      <th>TXMT_SVC_ANNOTATION_CODE</th>\n",
       "      <th>EXAM_USER_CNT</th>\n",
       "      <th>EXAM_USER_ANNOTATION_CODE</th>\n",
       "      <th>EXAM_SVC_CNT</th>\n",
       "      <th>EXAM_SVC_ANNOTATION_CODE</th>\n",
       "    </tr>\n",
       "  </thead>\n",
       "  <tbody>\n",
       "    <tr>\n",
       "      <th>0</th>\n",
       "      <td>1003003781</td>\n",
       "      <td>CHOTI SUPAK</td>\n",
       "      <td>2018</td>\n",
       "      <td>FFS</td>\n",
       "      <td>0</td>\n",
       "      <td>RENDERING</td>\n",
       "      <td>0</td>\n",
       "      <td>AGE 0-20</td>\n",
       "      <td>101.0</td>\n",
       "      <td>NaN</td>\n",
       "      <td>...</td>\n",
       "      <td>216.0</td>\n",
       "      <td>NaN</td>\n",
       "      <td>37.0</td>\n",
       "      <td>NaN</td>\n",
       "      <td>115.0</td>\n",
       "      <td>NaN</td>\n",
       "      <td>83.0</td>\n",
       "      <td>NaN</td>\n",
       "      <td>98.0</td>\n",
       "      <td>NaN</td>\n",
       "    </tr>\n",
       "  </tbody>\n",
       "</table>\n",
       "<p>1 rows × 24 columns</p>\n",
       "</div>"
      ],
      "text/plain": [
       "   RENDERING_NPI PROVIDER_LEGAL_NAME  CALENDAR_YEAR DELIVERY_SYSTEM  \\\n",
       "0     1003003781         CHOTI SUPAK           2018             FFS   \n",
       "\n",
       "   DELIVERY_SYSTEM_ENCODED PROVIDER_TYPE  PROVIDER_TYPE_ENCODED AGE_GROUP  \\\n",
       "0                        0     RENDERING                      0  AGE 0-20   \n",
       "\n",
       "   ADV_USER_CNT  ADV_USER_ANNOTATION_CODE  ...  PREV_SVC_CNT  \\\n",
       "0         101.0                       NaN  ...         216.0   \n",
       "\n",
       "   PREV_SVC_ANNOTATION_CODE  TXMT_USER_CNT  TXMT_USER_ ANNOTATION_CODE  \\\n",
       "0                       NaN           37.0                         NaN   \n",
       "\n",
       "   TXMT_SVC_CNT  TXMT_SVC_ANNOTATION_CODE  EXAM_USER_CNT  \\\n",
       "0         115.0                       NaN           83.0   \n",
       "\n",
       "   EXAM_USER_ANNOTATION_CODE  EXAM_SVC_CNT  EXAM_SVC_ANNOTATION_CODE  \n",
       "0                        NaN          98.0                       NaN  \n",
       "\n",
       "[1 rows x 24 columns]"
      ]
     },
     "execution_count": 10,
     "metadata": {},
     "output_type": "execute_result"
    }
   ],
   "source": [
    "from sklearn.preprocessing import LabelEncoder\n",
    "import pandas as pd\n",
    "\n",
    "le = LabelEncoder()\n",
    "\n",
    "df['PROVIDER_TYPE_ENCODED'] = le.fit_transform(df['PROVIDER_TYPE'])\n",
    "new_order = ['RENDERING_NPI', 'PROVIDER_LEGAL_NAME', 'CALENDAR_YEAR',\n",
    "       'DELIVERY_SYSTEM', 'DELIVERY_SYSTEM_ENCODED', 'PROVIDER_TYPE', 'PROVIDER_TYPE_ENCODED', 'AGE_GROUP', 'ADV_USER_CNT',\n",
    "       'ADV_USER_ANNOTATION_CODE', 'ADV_SVC_CNT', 'ADV_SVC_ANNOTATION_CODE',\n",
    "       'PREV_USER_CNT', 'PREV_USER_ANNOTATION_CODE', 'PREV_SVC_CNT',\n",
    "       'PREV_SVC_ANNOTATION_CODE', 'TXMT_USER_CNT',\n",
    "       'TXMT_USER_ ANNOTATION_CODE', 'TXMT_SVC_CNT',\n",
    "       'TXMT_SVC_ANNOTATION_CODE', 'EXAM_USER_CNT',\n",
    "       'EXAM_USER_ANNOTATION_CODE', 'EXAM_SVC_CNT', 'EXAM_SVC_ANNOTATION_CODE']\n",
    "df = df[new_order]\n",
    "df.head(1)"
   ]
  },
  {
   "cell_type": "markdown",
   "id": "7bbafa9c",
   "metadata": {},
   "source": [
    "**Age Groups**"
   ]
  },
  {
   "cell_type": "code",
   "execution_count": 11,
   "id": "b7a27c2c",
   "metadata": {},
   "outputs": [
    {
     "name": "stdout",
     "output_type": "stream",
     "text": [
      "['AGE 0-20' 'AGE 21+']\n",
      "missing values: 0\n"
     ]
    }
   ],
   "source": [
    "feature_name = 'AGE_GROUP'\n",
    "print(df[feature_name].unique())\n",
    "print(f\"missing values: {df[feature_name].isnull().sum()}\")"
   ]
  },
  {
   "cell_type": "code",
   "execution_count": 12,
   "id": "2515a259",
   "metadata": {},
   "outputs": [
    {
     "data": {
      "text/html": [
       "<div>\n",
       "<style scoped>\n",
       "    .dataframe tbody tr th:only-of-type {\n",
       "        vertical-align: middle;\n",
       "    }\n",
       "\n",
       "    .dataframe tbody tr th {\n",
       "        vertical-align: top;\n",
       "    }\n",
       "\n",
       "    .dataframe thead th {\n",
       "        text-align: right;\n",
       "    }\n",
       "</style>\n",
       "<table border=\"1\" class=\"dataframe\">\n",
       "  <thead>\n",
       "    <tr style=\"text-align: right;\">\n",
       "      <th></th>\n",
       "      <th>RENDERING_NPI</th>\n",
       "      <th>PROVIDER_LEGAL_NAME</th>\n",
       "      <th>CALENDAR_YEAR</th>\n",
       "      <th>DELIVERY_SYSTEM</th>\n",
       "      <th>DELIVERY_SYSTEM_ENCODED</th>\n",
       "      <th>PROVIDER_TYPE</th>\n",
       "      <th>PROVIDER_TYPE_ENCODED</th>\n",
       "      <th>AGE_GROUP</th>\n",
       "      <th>AGE_GROUP_ENCODED</th>\n",
       "      <th>ADV_USER_CNT</th>\n",
       "      <th>...</th>\n",
       "      <th>PREV_SVC_CNT</th>\n",
       "      <th>PREV_SVC_ANNOTATION_CODE</th>\n",
       "      <th>TXMT_USER_CNT</th>\n",
       "      <th>TXMT_USER_ ANNOTATION_CODE</th>\n",
       "      <th>TXMT_SVC_CNT</th>\n",
       "      <th>TXMT_SVC_ANNOTATION_CODE</th>\n",
       "      <th>EXAM_USER_CNT</th>\n",
       "      <th>EXAM_USER_ANNOTATION_CODE</th>\n",
       "      <th>EXAM_SVC_CNT</th>\n",
       "      <th>EXAM_SVC_ANNOTATION_CODE</th>\n",
       "    </tr>\n",
       "  </thead>\n",
       "  <tbody>\n",
       "    <tr>\n",
       "      <th>0</th>\n",
       "      <td>1003003781</td>\n",
       "      <td>CHOTI SUPAK</td>\n",
       "      <td>2018</td>\n",
       "      <td>FFS</td>\n",
       "      <td>0</td>\n",
       "      <td>RENDERING</td>\n",
       "      <td>0</td>\n",
       "      <td>AGE 0-20</td>\n",
       "      <td>0</td>\n",
       "      <td>101.0</td>\n",
       "      <td>...</td>\n",
       "      <td>216.0</td>\n",
       "      <td>NaN</td>\n",
       "      <td>37.0</td>\n",
       "      <td>NaN</td>\n",
       "      <td>115.0</td>\n",
       "      <td>NaN</td>\n",
       "      <td>83.0</td>\n",
       "      <td>NaN</td>\n",
       "      <td>98.0</td>\n",
       "      <td>NaN</td>\n",
       "    </tr>\n",
       "  </tbody>\n",
       "</table>\n",
       "<p>1 rows × 25 columns</p>\n",
       "</div>"
      ],
      "text/plain": [
       "   RENDERING_NPI PROVIDER_LEGAL_NAME  CALENDAR_YEAR DELIVERY_SYSTEM  \\\n",
       "0     1003003781         CHOTI SUPAK           2018             FFS   \n",
       "\n",
       "   DELIVERY_SYSTEM_ENCODED PROVIDER_TYPE  PROVIDER_TYPE_ENCODED AGE_GROUP  \\\n",
       "0                        0     RENDERING                      0  AGE 0-20   \n",
       "\n",
       "   AGE_GROUP_ENCODED  ADV_USER_CNT  ...  PREV_SVC_CNT  \\\n",
       "0                  0         101.0  ...         216.0   \n",
       "\n",
       "   PREV_SVC_ANNOTATION_CODE  TXMT_USER_CNT  TXMT_USER_ ANNOTATION_CODE  \\\n",
       "0                       NaN           37.0                         NaN   \n",
       "\n",
       "   TXMT_SVC_CNT  TXMT_SVC_ANNOTATION_CODE  EXAM_USER_CNT  \\\n",
       "0         115.0                       NaN           83.0   \n",
       "\n",
       "   EXAM_USER_ANNOTATION_CODE  EXAM_SVC_CNT  EXAM_SVC_ANNOTATION_CODE  \n",
       "0                        NaN          98.0                       NaN  \n",
       "\n",
       "[1 rows x 25 columns]"
      ]
     },
     "execution_count": 12,
     "metadata": {},
     "output_type": "execute_result"
    }
   ],
   "source": [
    "from sklearn.preprocessing import LabelEncoder\n",
    "import pandas as pd\n",
    "\n",
    "le = LabelEncoder()\n",
    "\n",
    "df['AGE_GROUP_ENCODED'] = le.fit_transform(df['AGE_GROUP'])\n",
    "new_order = ['RENDERING_NPI', 'PROVIDER_LEGAL_NAME', 'CALENDAR_YEAR',\n",
    "       'DELIVERY_SYSTEM', 'DELIVERY_SYSTEM_ENCODED', 'PROVIDER_TYPE', 'PROVIDER_TYPE_ENCODED', 'AGE_GROUP', 'AGE_GROUP_ENCODED', 'ADV_USER_CNT',\n",
    "       'ADV_USER_ANNOTATION_CODE', 'ADV_SVC_CNT', 'ADV_SVC_ANNOTATION_CODE',\n",
    "       'PREV_USER_CNT', 'PREV_USER_ANNOTATION_CODE', 'PREV_SVC_CNT',\n",
    "       'PREV_SVC_ANNOTATION_CODE', 'TXMT_USER_CNT',\n",
    "       'TXMT_USER_ ANNOTATION_CODE', 'TXMT_SVC_CNT',\n",
    "       'TXMT_SVC_ANNOTATION_CODE', 'EXAM_USER_CNT',\n",
    "       'EXAM_USER_ANNOTATION_CODE', 'EXAM_SVC_CNT', 'EXAM_SVC_ANNOTATION_CODE']\n",
    "df = df[new_order]\n",
    "df.head(1)"
   ]
  },
  {
   "cell_type": "markdown",
   "id": "6a64e5bb",
   "metadata": {},
   "source": [
    "The rest of the features (from my understanding) are divided into:\n",
    "* **ADV**: advanced procedures\n",
    "* **PREV**: preventive procedures\n",
    "* **TXMT**: treatment and surgical procedures\n",
    "* **EXAM**: examination\n",
    "\n",
    "If we had to order this in terms of criticality (as in increasing order of critical-ness of a procedure), it would be: **EXAM** < **PREV** < **ADV** or **TXMT**\n",
    "\n",
    "Each of these have a **User Count**, **Annotation Code**, **Service Count**, and **Service Annotation Code**\n",
    "\n",
    "Though I could not narrow down what \"Annotation Code\" really is, I could notice the Annotation Codes were only given to those rows where the corresponding \"Count\" was missing. \n",
    "This could mean annotation codes are given to special cases where the data is not present but is a special case scenario that refers to something.\n",
    "\n"
   ]
  },
  {
   "cell_type": "code",
   "execution_count": 13,
   "id": "243f53ef",
   "metadata": {},
   "outputs": [
    {
     "name": "stdout",
     "output_type": "stream",
     "text": [
      "[nan  1.]\n"
     ]
    }
   ],
   "source": [
    "print(df['ADV_USER_ANNOTATION_CODE'].unique())"
   ]
  },
  {
   "cell_type": "code",
   "execution_count": 14,
   "id": "d525a36b",
   "metadata": {},
   "outputs": [
    {
     "name": "stdout",
     "output_type": "stream",
     "text": [
      "[nan  2.  1.]\n"
     ]
    }
   ],
   "source": [
    "print(df['ADV_SVC_ANNOTATION_CODE'].unique())"
   ]
  },
  {
   "cell_type": "code",
   "execution_count": 15,
   "id": "d8cd924a",
   "metadata": {},
   "outputs": [
    {
     "name": "stdout",
     "output_type": "stream",
     "text": [
      "                      feature    unique values\n",
      "0    ADV_USER_ANNOTATION_CODE       [nan, 1.0]\n",
      "1     ADV_SVC_ANNOTATION_CODE  [nan, 2.0, 1.0]\n",
      "2   PREV_USER_ANNOTATION_CODE       [nan, 1.0]\n",
      "3    PREV_SVC_ANNOTATION_CODE  [nan, 1.0, 2.0]\n",
      "4  TXMT_USER_ ANNOTATION_CODE       [nan, 1.0]\n",
      "5    TXMT_SVC_ANNOTATION_CODE  [nan, 2.0, 1.0]\n",
      "6   EXAM_USER_ANNOTATION_CODE       [nan, 1.0]\n",
      "7    EXAM_SVC_ANNOTATION_CODE  [nan, 1.0, 2.0]\n"
     ]
    }
   ],
   "source": [
    "list_anno_code = [f_name for f_name in df.columns if \"ANNOTATION_CODE\" in f_name]\n",
    "\n",
    "anno_table = {\n",
    "    'feature': list_anno_code,\n",
    "    'unique values': [un_vals for un_vals in [df[val].unique() for val in list_anno_code]]\n",
    "}\n",
    "\n",
    "df_anno_table = pd.DataFrame(anno_table)\n",
    "print(df_anno_table)"
   ]
  },
  {
   "cell_type": "markdown",
   "id": "b9de67aa",
   "metadata": {},
   "source": [
    "Since straight up imputing methods (mean/median/mode) wouldn't really make sense in our case as these annotation codes mean a specific case, I'm gonna add -1 in place of NANs to handle missing values."
   ]
  },
  {
   "cell_type": "code",
   "execution_count": 16,
   "id": "da133c0d",
   "metadata": {},
   "outputs": [],
   "source": [
    "for col in list_anno_code:\n",
    "    df[col] = df[col].fillna(-1)"
   ]
  },
  {
   "cell_type": "code",
   "execution_count": 17,
   "id": "e03672c2",
   "metadata": {},
   "outputs": [
    {
     "name": "stdout",
     "output_type": "stream",
     "text": [
      "                      feature     unique values\n",
      "0    ADV_USER_ANNOTATION_CODE       [-1.0, 1.0]\n",
      "1     ADV_SVC_ANNOTATION_CODE  [-1.0, 2.0, 1.0]\n",
      "2   PREV_USER_ANNOTATION_CODE       [-1.0, 1.0]\n",
      "3    PREV_SVC_ANNOTATION_CODE  [-1.0, 1.0, 2.0]\n",
      "4  TXMT_USER_ ANNOTATION_CODE       [-1.0, 1.0]\n",
      "5    TXMT_SVC_ANNOTATION_CODE  [-1.0, 2.0, 1.0]\n",
      "6   EXAM_USER_ANNOTATION_CODE       [-1.0, 1.0]\n",
      "7    EXAM_SVC_ANNOTATION_CODE  [-1.0, 1.0, 2.0]\n"
     ]
    }
   ],
   "source": [
    "anno_table = {\n",
    "    'feature': list_anno_code,\n",
    "    'unique values': [un_vals for un_vals in [df[val].unique() for val in list_anno_code]]\n",
    "}\n",
    "\n",
    "df_anno_table = pd.DataFrame(anno_table)\n",
    "print(df_anno_table)"
   ]
  },
  {
   "cell_type": "markdown",
   "id": "eb0a4a8c",
   "metadata": {},
   "source": [
    "Likewise for the count features we replace missing values with -1."
   ]
  },
  {
   "cell_type": "code",
   "execution_count": 18,
   "id": "7a0179f6",
   "metadata": {},
   "outputs": [
    {
     "name": "stdout",
     "output_type": "stream",
     "text": [
      "RENDERING_NPI                    0\n",
      "PROVIDER_LEGAL_NAME              2\n",
      "CALENDAR_YEAR                    0\n",
      "DELIVERY_SYSTEM                  0\n",
      "DELIVERY_SYSTEM_ENCODED          0\n",
      "PROVIDER_TYPE                    0\n",
      "PROVIDER_TYPE_ENCODED            0\n",
      "AGE_GROUP                        0\n",
      "AGE_GROUP_ENCODED                0\n",
      "ADV_USER_CNT                  5848\n",
      "ADV_USER_ANNOTATION_CODE         0\n",
      "ADV_SVC_CNT                   5848\n",
      "ADV_SVC_ANNOTATION_CODE          0\n",
      "PREV_USER_CNT                 8744\n",
      "PREV_USER_ANNOTATION_CODE        0\n",
      "PREV_SVC_CNT                  4592\n",
      "PREV_SVC_ANNOTATION_CODE         0\n",
      "TXMT_USER_CNT                 5792\n",
      "TXMT_USER_ ANNOTATION_CODE       0\n",
      "TXMT_SVC_CNT                  5792\n",
      "TXMT_SVC_ANNOTATION_CODE         0\n",
      "EXAM_USER_CNT                 4712\n",
      "EXAM_USER_ANNOTATION_CODE        0\n",
      "EXAM_SVC_CNT                  4712\n",
      "EXAM_SVC_ANNOTATION_CODE         0\n",
      "dtype: int64\n"
     ]
    }
   ],
   "source": [
    "missing_val = df.isnull().sum()\n",
    "print(missing_val)"
   ]
  },
  {
   "cell_type": "code",
   "execution_count": 19,
   "id": "15999480",
   "metadata": {},
   "outputs": [],
   "source": [
    "list_cnt_code = [f_name for f_name in df.columns if \"CNT\" in f_name]\n",
    "\n",
    "for col in list_cnt_code:\n",
    "    df[col] = df[col].fillna(-1)"
   ]
  },
  {
   "cell_type": "code",
   "execution_count": 20,
   "id": "fa9f3d76",
   "metadata": {},
   "outputs": [
    {
     "name": "stdout",
     "output_type": "stream",
     "text": [
      "RENDERING_NPI                 0\n",
      "PROVIDER_LEGAL_NAME           2\n",
      "CALENDAR_YEAR                 0\n",
      "DELIVERY_SYSTEM               0\n",
      "DELIVERY_SYSTEM_ENCODED       0\n",
      "PROVIDER_TYPE                 0\n",
      "PROVIDER_TYPE_ENCODED         0\n",
      "AGE_GROUP                     0\n",
      "AGE_GROUP_ENCODED             0\n",
      "ADV_USER_CNT                  0\n",
      "ADV_USER_ANNOTATION_CODE      0\n",
      "ADV_SVC_CNT                   0\n",
      "ADV_SVC_ANNOTATION_CODE       0\n",
      "PREV_USER_CNT                 0\n",
      "PREV_USER_ANNOTATION_CODE     0\n",
      "PREV_SVC_CNT                  0\n",
      "PREV_SVC_ANNOTATION_CODE      0\n",
      "TXMT_USER_CNT                 0\n",
      "TXMT_USER_ ANNOTATION_CODE    0\n",
      "TXMT_SVC_CNT                  0\n",
      "TXMT_SVC_ANNOTATION_CODE      0\n",
      "EXAM_USER_CNT                 0\n",
      "EXAM_USER_ANNOTATION_CODE     0\n",
      "EXAM_SVC_CNT                  0\n",
      "EXAM_SVC_ANNOTATION_CODE      0\n",
      "dtype: int64\n"
     ]
    }
   ],
   "source": [
    "missing_val = df.isnull().sum()\n",
    "print(missing_val)"
   ]
  },
  {
   "cell_type": "markdown",
   "id": "faa649ad",
   "metadata": {},
   "source": [
    "We can still see there's 2 missing values under PROVIDER_LEGAL_NAME, we could just drop them since it's unlikely to have a significant impact on the data.\n",
    "\n",
    "**Also it was later determined that the 2 missing values under PROVIDER_LEGAL_NAME were no longer valid in the NPPES registry, thus dropping it would make more sense**"
   ]
  },
  {
   "cell_type": "code",
   "execution_count": 21,
   "id": "e2b590ad",
   "metadata": {},
   "outputs": [
    {
     "name": "stdout",
     "output_type": "stream",
     "text": [
      "RENDERING_NPI                 0\n",
      "PROVIDER_LEGAL_NAME           0\n",
      "CALENDAR_YEAR                 0\n",
      "DELIVERY_SYSTEM               0\n",
      "DELIVERY_SYSTEM_ENCODED       0\n",
      "PROVIDER_TYPE                 0\n",
      "PROVIDER_TYPE_ENCODED         0\n",
      "AGE_GROUP                     0\n",
      "AGE_GROUP_ENCODED             0\n",
      "ADV_USER_CNT                  0\n",
      "ADV_USER_ANNOTATION_CODE      0\n",
      "ADV_SVC_CNT                   0\n",
      "ADV_SVC_ANNOTATION_CODE       0\n",
      "PREV_USER_CNT                 0\n",
      "PREV_USER_ANNOTATION_CODE     0\n",
      "PREV_SVC_CNT                  0\n",
      "PREV_SVC_ANNOTATION_CODE      0\n",
      "TXMT_USER_CNT                 0\n",
      "TXMT_USER_ ANNOTATION_CODE    0\n",
      "TXMT_SVC_CNT                  0\n",
      "TXMT_SVC_ANNOTATION_CODE      0\n",
      "EXAM_USER_CNT                 0\n",
      "EXAM_USER_ANNOTATION_CODE     0\n",
      "EXAM_SVC_CNT                  0\n",
      "EXAM_SVC_ANNOTATION_CODE      0\n",
      "dtype: int64\n"
     ]
    }
   ],
   "source": [
    "df.dropna(subset=['PROVIDER_LEGAL_NAME'], inplace=True)\n",
    "missing_val = df.isnull().sum()\n",
    "print(missing_val)"
   ]
  },
  {
   "cell_type": "code",
   "execution_count": 22,
   "id": "ba33db38",
   "metadata": {},
   "outputs": [],
   "source": [
    "df.to_csv('./data/csv/cleaned_v1.csv', index=False)\n",
    "df.to_excel('./data/xlsx/cleaned_v1.xlsx', index=False)"
   ]
  },
  {
   "cell_type": "code",
   "execution_count": 23,
   "id": "a6879a7b",
   "metadata": {},
   "outputs": [
    {
     "data": {
      "text/html": [
       "<div>\n",
       "<style scoped>\n",
       "    .dataframe tbody tr th:only-of-type {\n",
       "        vertical-align: middle;\n",
       "    }\n",
       "\n",
       "    .dataframe tbody tr th {\n",
       "        vertical-align: top;\n",
       "    }\n",
       "\n",
       "    .dataframe thead th {\n",
       "        text-align: right;\n",
       "    }\n",
       "</style>\n",
       "<table border=\"1\" class=\"dataframe\">\n",
       "  <thead>\n",
       "    <tr style=\"text-align: right;\">\n",
       "      <th></th>\n",
       "      <th>RENDERING_NPI</th>\n",
       "      <th>PROVIDER_LEGAL_NAME</th>\n",
       "      <th>CALENDAR_YEAR</th>\n",
       "      <th>DELIVERY_SYSTEM</th>\n",
       "      <th>DELIVERY_SYSTEM_ENCODED</th>\n",
       "      <th>PROVIDER_TYPE</th>\n",
       "      <th>PROVIDER_TYPE_ENCODED</th>\n",
       "      <th>AGE_GROUP</th>\n",
       "      <th>AGE_GROUP_ENCODED</th>\n",
       "      <th>ADV_USER_CNT</th>\n",
       "      <th>...</th>\n",
       "      <th>PREV_SVC_CNT</th>\n",
       "      <th>PREV_SVC_ANNOTATION_CODE</th>\n",
       "      <th>TXMT_USER_CNT</th>\n",
       "      <th>TXMT_USER_ ANNOTATION_CODE</th>\n",
       "      <th>TXMT_SVC_CNT</th>\n",
       "      <th>TXMT_SVC_ANNOTATION_CODE</th>\n",
       "      <th>EXAM_USER_CNT</th>\n",
       "      <th>EXAM_USER_ANNOTATION_CODE</th>\n",
       "      <th>EXAM_SVC_CNT</th>\n",
       "      <th>EXAM_SVC_ANNOTATION_CODE</th>\n",
       "    </tr>\n",
       "  </thead>\n",
       "  <tbody>\n",
       "    <tr>\n",
       "      <th>0</th>\n",
       "      <td>1003003781</td>\n",
       "      <td>CHOTI SUPAK</td>\n",
       "      <td>2018</td>\n",
       "      <td>FFS</td>\n",
       "      <td>0</td>\n",
       "      <td>RENDERING</td>\n",
       "      <td>0</td>\n",
       "      <td>AGE 0-20</td>\n",
       "      <td>0</td>\n",
       "      <td>101.0</td>\n",
       "      <td>...</td>\n",
       "      <td>216.0</td>\n",
       "      <td>-1.0</td>\n",
       "      <td>37.0</td>\n",
       "      <td>-1.0</td>\n",
       "      <td>115.0</td>\n",
       "      <td>-1.0</td>\n",
       "      <td>83.0</td>\n",
       "      <td>-1.0</td>\n",
       "      <td>98.0</td>\n",
       "      <td>-1.0</td>\n",
       "    </tr>\n",
       "    <tr>\n",
       "      <th>1</th>\n",
       "      <td>1003003781</td>\n",
       "      <td>CHOTI SUPAK</td>\n",
       "      <td>2018</td>\n",
       "      <td>FFS</td>\n",
       "      <td>0</td>\n",
       "      <td>RENDERING</td>\n",
       "      <td>0</td>\n",
       "      <td>AGE 21+</td>\n",
       "      <td>1</td>\n",
       "      <td>67.0</td>\n",
       "      <td>...</td>\n",
       "      <td>30.0</td>\n",
       "      <td>-1.0</td>\n",
       "      <td>43.0</td>\n",
       "      <td>-1.0</td>\n",
       "      <td>73.0</td>\n",
       "      <td>-1.0</td>\n",
       "      <td>15.0</td>\n",
       "      <td>-1.0</td>\n",
       "      <td>15.0</td>\n",
       "      <td>-1.0</td>\n",
       "    </tr>\n",
       "    <tr>\n",
       "      <th>2</th>\n",
       "      <td>1003004698</td>\n",
       "      <td>GODFREY III, MERLE FRANKLIN,</td>\n",
       "      <td>2018</td>\n",
       "      <td>FFS</td>\n",
       "      <td>0</td>\n",
       "      <td>RENDERING</td>\n",
       "      <td>0</td>\n",
       "      <td>AGE 21+</td>\n",
       "      <td>1</td>\n",
       "      <td>357.0</td>\n",
       "      <td>...</td>\n",
       "      <td>131.0</td>\n",
       "      <td>-1.0</td>\n",
       "      <td>357.0</td>\n",
       "      <td>-1.0</td>\n",
       "      <td>712.0</td>\n",
       "      <td>-1.0</td>\n",
       "      <td>316.0</td>\n",
       "      <td>-1.0</td>\n",
       "      <td>316.0</td>\n",
       "      <td>-1.0</td>\n",
       "    </tr>\n",
       "    <tr>\n",
       "      <th>3</th>\n",
       "      <td>1003009440</td>\n",
       "      <td>VONTELA REKHA</td>\n",
       "      <td>2018</td>\n",
       "      <td>FFS</td>\n",
       "      <td>0</td>\n",
       "      <td>RENDERING</td>\n",
       "      <td>0</td>\n",
       "      <td>AGE 0-20</td>\n",
       "      <td>0</td>\n",
       "      <td>975.0</td>\n",
       "      <td>...</td>\n",
       "      <td>3732.0</td>\n",
       "      <td>-1.0</td>\n",
       "      <td>208.0</td>\n",
       "      <td>-1.0</td>\n",
       "      <td>456.0</td>\n",
       "      <td>-1.0</td>\n",
       "      <td>919.0</td>\n",
       "      <td>-1.0</td>\n",
       "      <td>1081.0</td>\n",
       "      <td>-1.0</td>\n",
       "    </tr>\n",
       "    <tr>\n",
       "      <th>4</th>\n",
       "      <td>1003009440</td>\n",
       "      <td>VONTELA REKHA</td>\n",
       "      <td>2018</td>\n",
       "      <td>FFS</td>\n",
       "      <td>0</td>\n",
       "      <td>RENDERING</td>\n",
       "      <td>0</td>\n",
       "      <td>AGE 21+</td>\n",
       "      <td>1</td>\n",
       "      <td>837.0</td>\n",
       "      <td>...</td>\n",
       "      <td>1396.0</td>\n",
       "      <td>-1.0</td>\n",
       "      <td>335.0</td>\n",
       "      <td>-1.0</td>\n",
       "      <td>824.0</td>\n",
       "      <td>-1.0</td>\n",
       "      <td>744.0</td>\n",
       "      <td>-1.0</td>\n",
       "      <td>744.0</td>\n",
       "      <td>-1.0</td>\n",
       "    </tr>\n",
       "  </tbody>\n",
       "</table>\n",
       "<p>5 rows × 25 columns</p>\n",
       "</div>"
      ],
      "text/plain": [
       "   RENDERING_NPI           PROVIDER_LEGAL_NAME  CALENDAR_YEAR DELIVERY_SYSTEM  \\\n",
       "0     1003003781                   CHOTI SUPAK           2018             FFS   \n",
       "1     1003003781                   CHOTI SUPAK           2018             FFS   \n",
       "2     1003004698  GODFREY III, MERLE FRANKLIN,           2018             FFS   \n",
       "3     1003009440                 VONTELA REKHA           2018             FFS   \n",
       "4     1003009440                 VONTELA REKHA           2018             FFS   \n",
       "\n",
       "   DELIVERY_SYSTEM_ENCODED PROVIDER_TYPE  PROVIDER_TYPE_ENCODED AGE_GROUP  \\\n",
       "0                        0     RENDERING                      0  AGE 0-20   \n",
       "1                        0     RENDERING                      0   AGE 21+   \n",
       "2                        0     RENDERING                      0   AGE 21+   \n",
       "3                        0     RENDERING                      0  AGE 0-20   \n",
       "4                        0     RENDERING                      0   AGE 21+   \n",
       "\n",
       "   AGE_GROUP_ENCODED  ADV_USER_CNT  ...  PREV_SVC_CNT  \\\n",
       "0                  0         101.0  ...         216.0   \n",
       "1                  1          67.0  ...          30.0   \n",
       "2                  1         357.0  ...         131.0   \n",
       "3                  0         975.0  ...        3732.0   \n",
       "4                  1         837.0  ...        1396.0   \n",
       "\n",
       "   PREV_SVC_ANNOTATION_CODE  TXMT_USER_CNT  TXMT_USER_ ANNOTATION_CODE  \\\n",
       "0                      -1.0           37.0                        -1.0   \n",
       "1                      -1.0           43.0                        -1.0   \n",
       "2                      -1.0          357.0                        -1.0   \n",
       "3                      -1.0          208.0                        -1.0   \n",
       "4                      -1.0          335.0                        -1.0   \n",
       "\n",
       "   TXMT_SVC_CNT  TXMT_SVC_ANNOTATION_CODE  EXAM_USER_CNT  \\\n",
       "0         115.0                      -1.0           83.0   \n",
       "1          73.0                      -1.0           15.0   \n",
       "2         712.0                      -1.0          316.0   \n",
       "3         456.0                      -1.0          919.0   \n",
       "4         824.0                      -1.0          744.0   \n",
       "\n",
       "   EXAM_USER_ANNOTATION_CODE  EXAM_SVC_CNT  EXAM_SVC_ANNOTATION_CODE  \n",
       "0                       -1.0          98.0                      -1.0  \n",
       "1                       -1.0          15.0                      -1.0  \n",
       "2                       -1.0         316.0                      -1.0  \n",
       "3                       -1.0        1081.0                      -1.0  \n",
       "4                       -1.0         744.0                      -1.0  \n",
       "\n",
       "[5 rows x 25 columns]"
      ]
     },
     "execution_count": 23,
     "metadata": {},
     "output_type": "execute_result"
    }
   ],
   "source": [
    "df.head(5)"
   ]
  },
  {
   "cell_type": "markdown",
   "id": "6fbab5de",
   "metadata": {},
   "source": [
    "Because it's unclear as to how this data is going to be used in the final product, for now let's go further based on few assumptions in the best of my understanding about the data.\n",
    "\n",
    "If a clinic has high counts of **ADV_SVC_CNT** (Advanced Service Count) and **TXMT_SVC_CNT** (Treatment Service Count) which means they require labs with strong expertise and capable of complex procedures.\n",
    "\n",
    "We could prioritize a lab based on postal codes too! Which can be obtained through the NPPES registry via API calls."
   ]
  },
  {
   "cell_type": "code",
   "execution_count": 24,
   "id": "f10083f3",
   "metadata": {},
   "outputs": [
    {
     "data": {
      "text/plain": [
       "10945"
      ]
     },
     "execution_count": 24,
     "metadata": {},
     "output_type": "execute_result"
    }
   ],
   "source": [
    "len(df['PROVIDER_LEGAL_NAME'].unique())"
   ]
  },
  {
   "cell_type": "markdown",
   "id": "717b0a32",
   "metadata": {},
   "source": [
    "Attempting to retrieve address details for a NPI number via the NPPES NPI Registry API, this could be later used to narrow down to the closest lab available for a clinic."
   ]
  },
  {
   "cell_type": "code",
   "execution_count": 25,
   "id": "b7c567a3",
   "metadata": {},
   "outputs": [],
   "source": [
    "import requests"
   ]
  },
  {
   "cell_type": "code",
   "execution_count": 26,
   "id": "7e9719b8",
   "metadata": {},
   "outputs": [
    {
     "name": "stdout",
     "output_type": "stream",
     "text": [
      "https://npiregistry.cms.hhs.gov/api/?number=1003003781&enumeration_type=&taxonomy_description=&name_purpose=&first_name=&use_first_name_alias=&last_name=&organization_name=&address_purpose=&city=&state=&postal_code=&country_code=&limit=&skip=&pretty=&version=2.1\n"
     ]
    }
   ],
   "source": [
    "NPI_NUMBER = 1003003781\n",
    "api_url = f\"https://npiregistry.cms.hhs.gov/api/?number={NPI_NUMBER}&enumeration_type=&taxonomy_description=&name_purpose=&first_name=&use_first_name_alias=&last_name=&organization_name=&address_purpose=&city=&state=&postal_code=&country_code=&limit=&skip=&pretty=&version=2.1\"\n",
    "print(api_url)"
   ]
  },
  {
   "cell_type": "code",
   "execution_count": 27,
   "id": "9ad46d53",
   "metadata": {},
   "outputs": [
    {
     "data": {
      "text/plain": [
       "96013"
      ]
     },
     "execution_count": 27,
     "metadata": {},
     "output_type": "execute_result"
    }
   ],
   "source": [
    "response = requests.get(api_url)\n",
    "data = response.json()\n",
    "\n",
    "#gets first 5 digits of the postal code, going by the ZIP + 4 digit format\n",
    "int(data['results'][0]['addresses'][1]['postal_code']) // 10000 "
   ]
  },
  {
   "cell_type": "markdown",
   "id": "0145b60c",
   "metadata": {},
   "source": [
    "This postal code can be retrieved for all 10k unique NPIs, which can be used to determine labs based on proximity."
   ]
  },
  {
   "cell_type": "code",
   "execution_count": 28,
   "id": "6176bcf4",
   "metadata": {},
   "outputs": [],
   "source": [
    "# from faker import Faker\n",
    "\n",
    "# fake = Faker('en_US')\n",
    "\n",
    "# df_npi_unique = df['RENDERING_NPI'].unique()\n",
    "\n",
    "# npi_postal_codes = []\n",
    "\n",
    "# for npi in df_npi_unique:\n",
    "#     api_url = f\"https://npiregistry.cms.hhs.gov/api/?number={npi}&enumeration_type=&taxonomy_description=&name_purpose=&first_name=&use_first_name_alias=&last_name=&organization_name=&address_purpose=&city=&state=&postal_code=&country_code=&limit=&skip=&pretty=&version=2.1\"\n",
    "\n",
    "#     try:\n",
    "#         response = requests.get(api_url)\n",
    "#         response.raise_for_status()\n",
    "#         data = response.json()\n",
    "#         postal_code_full = data['results'][0]['addresses'][0]['postal_code']\n",
    "\n",
    "#         postal_code_5_digits = postal_code_full[:5]\n",
    "        \n",
    "#     except (requests.exceptions.RequestException, KeyError, IndexError) as e:\n",
    "#         print(f\"Failed to retrieve real postal code for NPI {npi}. Reason: {e}\")\n",
    "\n",
    "#         # Use Faker to generate a random California postal code if retrieval fails\n",
    "#         postal_code_5_digits = fake.zipcode_in_state(state_abbr='CA')\n",
    "        \n",
    "#     finally:\n",
    "#         npi_postal_codes.append({'RENDERING_NPI': npi, 'POSTAL_CODE': postal_code_5_digits})\n",
    "\n",
    "# df_npi_postal_codes = pd.DataFrame(npi_postal_codes)\n",
    "# df_npi_postal_codes.head(5)"
   ]
  },
  {
   "cell_type": "code",
   "execution_count": 29,
   "id": "df68769d",
   "metadata": {},
   "outputs": [],
   "source": [
    "# df_npi_postal_codes.to_csv('./data/csv/d_npi_postal.csv', index=False)\n",
    "# df_npi_postal_codes.to_excel('./data/xlsx/d_npi_postal.xlsx', index=False)"
   ]
  },
  {
   "cell_type": "code",
   "execution_count": 30,
   "id": "39f2a76a",
   "metadata": {},
   "outputs": [],
   "source": [
    "file_path_postal = \"./data/csv/d_npi_postal.csv\"\n",
    "df_npi_postal_codes = pd.read_csv(file_path_postal)"
   ]
  },
  {
   "cell_type": "code",
   "execution_count": 31,
   "id": "7cf00dfd",
   "metadata": {},
   "outputs": [
    {
     "data": {
      "text/html": [
       "<div>\n",
       "<style scoped>\n",
       "    .dataframe tbody tr th:only-of-type {\n",
       "        vertical-align: middle;\n",
       "    }\n",
       "\n",
       "    .dataframe tbody tr th {\n",
       "        vertical-align: top;\n",
       "    }\n",
       "\n",
       "    .dataframe thead th {\n",
       "        text-align: right;\n",
       "    }\n",
       "</style>\n",
       "<table border=\"1\" class=\"dataframe\">\n",
       "  <thead>\n",
       "    <tr style=\"text-align: right;\">\n",
       "      <th></th>\n",
       "      <th>RENDERING_NPI</th>\n",
       "      <th>POSTAL_CODE</th>\n",
       "    </tr>\n",
       "  </thead>\n",
       "  <tbody>\n",
       "    <tr>\n",
       "      <th>0</th>\n",
       "      <td>1003003781</td>\n",
       "      <td>96001</td>\n",
       "    </tr>\n",
       "  </tbody>\n",
       "</table>\n",
       "</div>"
      ],
      "text/plain": [
       "   RENDERING_NPI POSTAL_CODE\n",
       "0     1003003781       96001"
      ]
     },
     "execution_count": 31,
     "metadata": {},
     "output_type": "execute_result"
    }
   ],
   "source": [
    "df_npi_postal_codes.head(1)"
   ]
  },
  {
   "cell_type": "markdown",
   "id": "3d6927ac",
   "metadata": {},
   "source": [
    "**The NPIs that were missing data on the NPPES registry returned the errors that you see above, so I've replaced them with a random postal code under state of California using Faker library.**\n",
    "\n",
    "This was run only once, and the data is saved in the above commented directory.\n",
    "\n",
    "**IMPORTANT NOTE: Do not uncomment or run again because it takes a while to retrieve all the postal codes for 10k unique NPIs, it's been already done.** If you need to work with the postal code data, you could directly retrieve the data from the directory."
   ]
  },
  {
   "cell_type": "code",
   "execution_count": 32,
   "id": "d70e2d60",
   "metadata": {},
   "outputs": [
    {
     "data": {
      "text/plain": [
       "Index(['RENDERING_NPI', 'PROVIDER_LEGAL_NAME', 'CALENDAR_YEAR',\n",
       "       'DELIVERY_SYSTEM', 'DELIVERY_SYSTEM_ENCODED', 'PROVIDER_TYPE',\n",
       "       'PROVIDER_TYPE_ENCODED', 'AGE_GROUP', 'AGE_GROUP_ENCODED',\n",
       "       'ADV_USER_CNT', 'ADV_USER_ANNOTATION_CODE', 'ADV_SVC_CNT',\n",
       "       'ADV_SVC_ANNOTATION_CODE', 'PREV_USER_CNT', 'PREV_USER_ANNOTATION_CODE',\n",
       "       'PREV_SVC_CNT', 'PREV_SVC_ANNOTATION_CODE', 'TXMT_USER_CNT',\n",
       "       'TXMT_USER_ ANNOTATION_CODE', 'TXMT_SVC_CNT',\n",
       "       'TXMT_SVC_ANNOTATION_CODE', 'EXAM_USER_CNT',\n",
       "       'EXAM_USER_ANNOTATION_CODE', 'EXAM_SVC_CNT',\n",
       "       'EXAM_SVC_ANNOTATION_CODE'],\n",
       "      dtype='object')"
      ]
     },
     "execution_count": 32,
     "metadata": {},
     "output_type": "execute_result"
    }
   ],
   "source": [
    "df.columns"
   ]
  },
  {
   "cell_type": "markdown",
   "id": "52f41584",
   "metadata": {},
   "source": [
    "**Merging these postal codes into the main data over NPI**"
   ]
  },
  {
   "cell_type": "code",
   "execution_count": 33,
   "id": "8732adfb",
   "metadata": {},
   "outputs": [
    {
     "data": {
      "text/html": [
       "<div>\n",
       "<style scoped>\n",
       "    .dataframe tbody tr th:only-of-type {\n",
       "        vertical-align: middle;\n",
       "    }\n",
       "\n",
       "    .dataframe tbody tr th {\n",
       "        vertical-align: top;\n",
       "    }\n",
       "\n",
       "    .dataframe thead th {\n",
       "        text-align: right;\n",
       "    }\n",
       "</style>\n",
       "<table border=\"1\" class=\"dataframe\">\n",
       "  <thead>\n",
       "    <tr style=\"text-align: right;\">\n",
       "      <th></th>\n",
       "      <th>RENDERING_NPI</th>\n",
       "      <th>PROVIDER_LEGAL_NAME</th>\n",
       "      <th>CALENDAR_YEAR</th>\n",
       "      <th>DELIVERY_SYSTEM</th>\n",
       "      <th>DELIVERY_SYSTEM_ENCODED</th>\n",
       "      <th>PROVIDER_TYPE</th>\n",
       "      <th>PROVIDER_TYPE_ENCODED</th>\n",
       "      <th>AGE_GROUP</th>\n",
       "      <th>AGE_GROUP_ENCODED</th>\n",
       "      <th>ADV_USER_CNT</th>\n",
       "      <th>...</th>\n",
       "      <th>PREV_SVC_ANNOTATION_CODE</th>\n",
       "      <th>TXMT_USER_CNT</th>\n",
       "      <th>TXMT_USER_ ANNOTATION_CODE</th>\n",
       "      <th>TXMT_SVC_CNT</th>\n",
       "      <th>TXMT_SVC_ANNOTATION_CODE</th>\n",
       "      <th>EXAM_USER_CNT</th>\n",
       "      <th>EXAM_USER_ANNOTATION_CODE</th>\n",
       "      <th>EXAM_SVC_CNT</th>\n",
       "      <th>EXAM_SVC_ANNOTATION_CODE</th>\n",
       "      <th>POSTAL_CODE</th>\n",
       "    </tr>\n",
       "  </thead>\n",
       "  <tbody>\n",
       "    <tr>\n",
       "      <th>0</th>\n",
       "      <td>1003003781</td>\n",
       "      <td>CHOTI SUPAK</td>\n",
       "      <td>2018</td>\n",
       "      <td>FFS</td>\n",
       "      <td>0</td>\n",
       "      <td>RENDERING</td>\n",
       "      <td>0</td>\n",
       "      <td>AGE 0-20</td>\n",
       "      <td>0</td>\n",
       "      <td>101.0</td>\n",
       "      <td>...</td>\n",
       "      <td>-1.0</td>\n",
       "      <td>37.0</td>\n",
       "      <td>-1.0</td>\n",
       "      <td>115.0</td>\n",
       "      <td>-1.0</td>\n",
       "      <td>83.0</td>\n",
       "      <td>-1.0</td>\n",
       "      <td>98.0</td>\n",
       "      <td>-1.0</td>\n",
       "      <td>96001</td>\n",
       "    </tr>\n",
       "  </tbody>\n",
       "</table>\n",
       "<p>1 rows × 26 columns</p>\n",
       "</div>"
      ],
      "text/plain": [
       "   RENDERING_NPI PROVIDER_LEGAL_NAME  CALENDAR_YEAR DELIVERY_SYSTEM  \\\n",
       "0     1003003781         CHOTI SUPAK           2018             FFS   \n",
       "\n",
       "   DELIVERY_SYSTEM_ENCODED PROVIDER_TYPE  PROVIDER_TYPE_ENCODED AGE_GROUP  \\\n",
       "0                        0     RENDERING                      0  AGE 0-20   \n",
       "\n",
       "   AGE_GROUP_ENCODED  ADV_USER_CNT  ...  PREV_SVC_ANNOTATION_CODE  \\\n",
       "0                  0         101.0  ...                      -1.0   \n",
       "\n",
       "   TXMT_USER_CNT  TXMT_USER_ ANNOTATION_CODE  TXMT_SVC_CNT  \\\n",
       "0           37.0                        -1.0         115.0   \n",
       "\n",
       "   TXMT_SVC_ANNOTATION_CODE  EXAM_USER_CNT  EXAM_USER_ANNOTATION_CODE  \\\n",
       "0                      -1.0           83.0                       -1.0   \n",
       "\n",
       "   EXAM_SVC_CNT  EXAM_SVC_ANNOTATION_CODE  POSTAL_CODE  \n",
       "0          98.0                      -1.0        96001  \n",
       "\n",
       "[1 rows x 26 columns]"
      ]
     },
     "execution_count": 33,
     "metadata": {},
     "output_type": "execute_result"
    }
   ],
   "source": [
    "df = pd.merge(df, df_npi_postal_codes, on='RENDERING_NPI', how='left')\n",
    "df.head(1)"
   ]
  },
  {
   "cell_type": "code",
   "execution_count": 34,
   "id": "570d6562",
   "metadata": {},
   "outputs": [
    {
     "data": {
      "text/html": [
       "<div>\n",
       "<style scoped>\n",
       "    .dataframe tbody tr th:only-of-type {\n",
       "        vertical-align: middle;\n",
       "    }\n",
       "\n",
       "    .dataframe tbody tr th {\n",
       "        vertical-align: top;\n",
       "    }\n",
       "\n",
       "    .dataframe thead th {\n",
       "        text-align: right;\n",
       "    }\n",
       "</style>\n",
       "<table border=\"1\" class=\"dataframe\">\n",
       "  <thead>\n",
       "    <tr style=\"text-align: right;\">\n",
       "      <th></th>\n",
       "      <th>RENDERING_NPI</th>\n",
       "      <th>PROVIDER_LEGAL_NAME</th>\n",
       "      <th>POSTAL_CODE</th>\n",
       "      <th>CALENDAR_YEAR</th>\n",
       "      <th>DELIVERY_SYSTEM</th>\n",
       "      <th>DELIVERY_SYSTEM_ENCODED</th>\n",
       "      <th>PROVIDER_TYPE</th>\n",
       "      <th>PROVIDER_TYPE_ENCODED</th>\n",
       "      <th>AGE_GROUP</th>\n",
       "      <th>AGE_GROUP_ENCODED</th>\n",
       "      <th>...</th>\n",
       "      <th>PREV_SVC_CNT</th>\n",
       "      <th>PREV_SVC_ANNOTATION_CODE</th>\n",
       "      <th>TXMT_USER_CNT</th>\n",
       "      <th>TXMT_USER_ ANNOTATION_CODE</th>\n",
       "      <th>TXMT_SVC_CNT</th>\n",
       "      <th>TXMT_SVC_ANNOTATION_CODE</th>\n",
       "      <th>EXAM_USER_CNT</th>\n",
       "      <th>EXAM_USER_ANNOTATION_CODE</th>\n",
       "      <th>EXAM_SVC_CNT</th>\n",
       "      <th>EXAM_SVC_ANNOTATION_CODE</th>\n",
       "    </tr>\n",
       "  </thead>\n",
       "  <tbody>\n",
       "    <tr>\n",
       "      <th>0</th>\n",
       "      <td>1003003781</td>\n",
       "      <td>CHOTI SUPAK</td>\n",
       "      <td>96001</td>\n",
       "      <td>2018</td>\n",
       "      <td>FFS</td>\n",
       "      <td>0</td>\n",
       "      <td>RENDERING</td>\n",
       "      <td>0</td>\n",
       "      <td>AGE 0-20</td>\n",
       "      <td>0</td>\n",
       "      <td>...</td>\n",
       "      <td>216.0</td>\n",
       "      <td>-1.0</td>\n",
       "      <td>37.0</td>\n",
       "      <td>-1.0</td>\n",
       "      <td>115.0</td>\n",
       "      <td>-1.0</td>\n",
       "      <td>83.0</td>\n",
       "      <td>-1.0</td>\n",
       "      <td>98.0</td>\n",
       "      <td>-1.0</td>\n",
       "    </tr>\n",
       "  </tbody>\n",
       "</table>\n",
       "<p>1 rows × 26 columns</p>\n",
       "</div>"
      ],
      "text/plain": [
       "   RENDERING_NPI PROVIDER_LEGAL_NAME POSTAL_CODE  CALENDAR_YEAR  \\\n",
       "0     1003003781         CHOTI SUPAK       96001           2018   \n",
       "\n",
       "  DELIVERY_SYSTEM  DELIVERY_SYSTEM_ENCODED PROVIDER_TYPE  \\\n",
       "0             FFS                        0     RENDERING   \n",
       "\n",
       "   PROVIDER_TYPE_ENCODED AGE_GROUP  AGE_GROUP_ENCODED  ...  PREV_SVC_CNT  \\\n",
       "0                      0  AGE 0-20                  0  ...         216.0   \n",
       "\n",
       "   PREV_SVC_ANNOTATION_CODE  TXMT_USER_CNT  TXMT_USER_ ANNOTATION_CODE  \\\n",
       "0                      -1.0           37.0                        -1.0   \n",
       "\n",
       "   TXMT_SVC_CNT  TXMT_SVC_ANNOTATION_CODE  EXAM_USER_CNT  \\\n",
       "0         115.0                      -1.0           83.0   \n",
       "\n",
       "   EXAM_USER_ANNOTATION_CODE  EXAM_SVC_CNT  EXAM_SVC_ANNOTATION_CODE  \n",
       "0                       -1.0          98.0                      -1.0  \n",
       "\n",
       "[1 rows x 26 columns]"
      ]
     },
     "execution_count": 34,
     "metadata": {},
     "output_type": "execute_result"
    }
   ],
   "source": [
    "new_order = ['RENDERING_NPI', 'PROVIDER_LEGAL_NAME', 'POSTAL_CODE', 'CALENDAR_YEAR',\n",
    "       'DELIVERY_SYSTEM', 'DELIVERY_SYSTEM_ENCODED', 'PROVIDER_TYPE', 'PROVIDER_TYPE_ENCODED', 'AGE_GROUP', 'AGE_GROUP_ENCODED', 'ADV_USER_CNT',\n",
    "       'ADV_USER_ANNOTATION_CODE', 'ADV_SVC_CNT', 'ADV_SVC_ANNOTATION_CODE',\n",
    "       'PREV_USER_CNT', 'PREV_USER_ANNOTATION_CODE', 'PREV_SVC_CNT',\n",
    "       'PREV_SVC_ANNOTATION_CODE', 'TXMT_USER_CNT',\n",
    "       'TXMT_USER_ ANNOTATION_CODE', 'TXMT_SVC_CNT',\n",
    "       'TXMT_SVC_ANNOTATION_CODE', 'EXAM_USER_CNT',\n",
    "       'EXAM_USER_ANNOTATION_CODE', 'EXAM_SVC_CNT', 'EXAM_SVC_ANNOTATION_CODE']\n",
    "df = df[new_order]\n",
    "df.head(1)"
   ]
  },
  {
   "cell_type": "markdown",
   "id": "bc7f28bc",
   "metadata": {},
   "source": [
    "Besides postal code, I think it'd be safe to assume the following:\n",
    "* **TXMT_TO_EXAM_RATIO**: Average Treatment Service, can be determined by $\\frac{Treatment Service Count}{Exam Service Count}$, a higher value of this indicate that the clinic focuses more on advanced treatment.\n",
    "* **PREV_TO_EXAM_RATIO**: Average Preventive Servce, can be determined by $\\frac{Preventive Service Count}{Exam Service Count}$, a higher value of this would show otherwise, puts more emphasis on preventive care.\n",
    "\n",
    "Adding these columns to the data"
   ]
  },
  {
   "cell_type": "code",
   "execution_count": 35,
   "id": "f7d698e9",
   "metadata": {},
   "outputs": [
    {
     "data": {
      "text/html": [
       "<div>\n",
       "<style scoped>\n",
       "    .dataframe tbody tr th:only-of-type {\n",
       "        vertical-align: middle;\n",
       "    }\n",
       "\n",
       "    .dataframe tbody tr th {\n",
       "        vertical-align: top;\n",
       "    }\n",
       "\n",
       "    .dataframe thead th {\n",
       "        text-align: right;\n",
       "    }\n",
       "</style>\n",
       "<table border=\"1\" class=\"dataframe\">\n",
       "  <thead>\n",
       "    <tr style=\"text-align: right;\">\n",
       "      <th></th>\n",
       "      <th>RENDERING_NPI</th>\n",
       "      <th>PROVIDER_LEGAL_NAME</th>\n",
       "      <th>POSTAL_CODE</th>\n",
       "      <th>CALENDAR_YEAR</th>\n",
       "      <th>DELIVERY_SYSTEM</th>\n",
       "      <th>DELIVERY_SYSTEM_ENCODED</th>\n",
       "      <th>PROVIDER_TYPE</th>\n",
       "      <th>PROVIDER_TYPE_ENCODED</th>\n",
       "      <th>AGE_GROUP</th>\n",
       "      <th>AGE_GROUP_ENCODED</th>\n",
       "      <th>...</th>\n",
       "      <th>TXMT_USER_ ANNOTATION_CODE</th>\n",
       "      <th>TXMT_SVC_CNT</th>\n",
       "      <th>TXMT_SVC_ANNOTATION_CODE</th>\n",
       "      <th>EXAM_USER_CNT</th>\n",
       "      <th>EXAM_USER_ANNOTATION_CODE</th>\n",
       "      <th>EXAM_SVC_CNT</th>\n",
       "      <th>EXAM_SVC_ANNOTATION_CODE</th>\n",
       "      <th>PREV_TO_EXAM_RATIO</th>\n",
       "      <th>TXMT_TO_EXAM_RATIO</th>\n",
       "      <th>ADV_TO_EXAM_RATIO</th>\n",
       "    </tr>\n",
       "  </thead>\n",
       "  <tbody>\n",
       "    <tr>\n",
       "      <th>0</th>\n",
       "      <td>1003003781</td>\n",
       "      <td>CHOTI SUPAK</td>\n",
       "      <td>96001</td>\n",
       "      <td>2018</td>\n",
       "      <td>FFS</td>\n",
       "      <td>0</td>\n",
       "      <td>RENDERING</td>\n",
       "      <td>0</td>\n",
       "      <td>AGE 0-20</td>\n",
       "      <td>0</td>\n",
       "      <td>...</td>\n",
       "      <td>-1.0</td>\n",
       "      <td>115.0</td>\n",
       "      <td>-1.0</td>\n",
       "      <td>83.0</td>\n",
       "      <td>-1.0</td>\n",
       "      <td>98.0</td>\n",
       "      <td>-1.0</td>\n",
       "      <td>2.204082</td>\n",
       "      <td>1.173469</td>\n",
       "      <td>8.642857</td>\n",
       "    </tr>\n",
       "    <tr>\n",
       "      <th>1</th>\n",
       "      <td>1003003781</td>\n",
       "      <td>CHOTI SUPAK</td>\n",
       "      <td>96001</td>\n",
       "      <td>2018</td>\n",
       "      <td>FFS</td>\n",
       "      <td>0</td>\n",
       "      <td>RENDERING</td>\n",
       "      <td>0</td>\n",
       "      <td>AGE 21+</td>\n",
       "      <td>1</td>\n",
       "      <td>...</td>\n",
       "      <td>-1.0</td>\n",
       "      <td>73.0</td>\n",
       "      <td>-1.0</td>\n",
       "      <td>15.0</td>\n",
       "      <td>-1.0</td>\n",
       "      <td>15.0</td>\n",
       "      <td>-1.0</td>\n",
       "      <td>2.000000</td>\n",
       "      <td>4.866667</td>\n",
       "      <td>16.866667</td>\n",
       "    </tr>\n",
       "    <tr>\n",
       "      <th>2</th>\n",
       "      <td>1003004698</td>\n",
       "      <td>GODFREY III, MERLE FRANKLIN,</td>\n",
       "      <td>95650</td>\n",
       "      <td>2018</td>\n",
       "      <td>FFS</td>\n",
       "      <td>0</td>\n",
       "      <td>RENDERING</td>\n",
       "      <td>0</td>\n",
       "      <td>AGE 21+</td>\n",
       "      <td>1</td>\n",
       "      <td>...</td>\n",
       "      <td>-1.0</td>\n",
       "      <td>712.0</td>\n",
       "      <td>-1.0</td>\n",
       "      <td>316.0</td>\n",
       "      <td>-1.0</td>\n",
       "      <td>316.0</td>\n",
       "      <td>-1.0</td>\n",
       "      <td>0.414557</td>\n",
       "      <td>2.253165</td>\n",
       "      <td>3.838608</td>\n",
       "    </tr>\n",
       "    <tr>\n",
       "      <th>3</th>\n",
       "      <td>1003009440</td>\n",
       "      <td>VONTELA REKHA</td>\n",
       "      <td>94509</td>\n",
       "      <td>2018</td>\n",
       "      <td>FFS</td>\n",
       "      <td>0</td>\n",
       "      <td>RENDERING</td>\n",
       "      <td>0</td>\n",
       "      <td>AGE 0-20</td>\n",
       "      <td>0</td>\n",
       "      <td>...</td>\n",
       "      <td>-1.0</td>\n",
       "      <td>456.0</td>\n",
       "      <td>-1.0</td>\n",
       "      <td>919.0</td>\n",
       "      <td>-1.0</td>\n",
       "      <td>1081.0</td>\n",
       "      <td>-1.0</td>\n",
       "      <td>3.452359</td>\n",
       "      <td>0.421832</td>\n",
       "      <td>8.124884</td>\n",
       "    </tr>\n",
       "    <tr>\n",
       "      <th>4</th>\n",
       "      <td>1003009440</td>\n",
       "      <td>VONTELA REKHA</td>\n",
       "      <td>94509</td>\n",
       "      <td>2018</td>\n",
       "      <td>FFS</td>\n",
       "      <td>0</td>\n",
       "      <td>RENDERING</td>\n",
       "      <td>0</td>\n",
       "      <td>AGE 21+</td>\n",
       "      <td>1</td>\n",
       "      <td>...</td>\n",
       "      <td>-1.0</td>\n",
       "      <td>824.0</td>\n",
       "      <td>-1.0</td>\n",
       "      <td>744.0</td>\n",
       "      <td>-1.0</td>\n",
       "      <td>744.0</td>\n",
       "      <td>-1.0</td>\n",
       "      <td>1.876344</td>\n",
       "      <td>1.107527</td>\n",
       "      <td>7.173387</td>\n",
       "    </tr>\n",
       "  </tbody>\n",
       "</table>\n",
       "<p>5 rows × 29 columns</p>\n",
       "</div>"
      ],
      "text/plain": [
       "   RENDERING_NPI           PROVIDER_LEGAL_NAME POSTAL_CODE  CALENDAR_YEAR  \\\n",
       "0     1003003781                   CHOTI SUPAK       96001           2018   \n",
       "1     1003003781                   CHOTI SUPAK       96001           2018   \n",
       "2     1003004698  GODFREY III, MERLE FRANKLIN,       95650           2018   \n",
       "3     1003009440                 VONTELA REKHA       94509           2018   \n",
       "4     1003009440                 VONTELA REKHA       94509           2018   \n",
       "\n",
       "  DELIVERY_SYSTEM  DELIVERY_SYSTEM_ENCODED PROVIDER_TYPE  \\\n",
       "0             FFS                        0     RENDERING   \n",
       "1             FFS                        0     RENDERING   \n",
       "2             FFS                        0     RENDERING   \n",
       "3             FFS                        0     RENDERING   \n",
       "4             FFS                        0     RENDERING   \n",
       "\n",
       "   PROVIDER_TYPE_ENCODED AGE_GROUP  AGE_GROUP_ENCODED  ...  \\\n",
       "0                      0  AGE 0-20                  0  ...   \n",
       "1                      0   AGE 21+                  1  ...   \n",
       "2                      0   AGE 21+                  1  ...   \n",
       "3                      0  AGE 0-20                  0  ...   \n",
       "4                      0   AGE 21+                  1  ...   \n",
       "\n",
       "   TXMT_USER_ ANNOTATION_CODE  TXMT_SVC_CNT  TXMT_SVC_ANNOTATION_CODE  \\\n",
       "0                        -1.0         115.0                      -1.0   \n",
       "1                        -1.0          73.0                      -1.0   \n",
       "2                        -1.0         712.0                      -1.0   \n",
       "3                        -1.0         456.0                      -1.0   \n",
       "4                        -1.0         824.0                      -1.0   \n",
       "\n",
       "   EXAM_USER_CNT  EXAM_USER_ANNOTATION_CODE  EXAM_SVC_CNT  \\\n",
       "0           83.0                       -1.0          98.0   \n",
       "1           15.0                       -1.0          15.0   \n",
       "2          316.0                       -1.0         316.0   \n",
       "3          919.0                       -1.0        1081.0   \n",
       "4          744.0                       -1.0         744.0   \n",
       "\n",
       "   EXAM_SVC_ANNOTATION_CODE  PREV_TO_EXAM_RATIO  TXMT_TO_EXAM_RATIO  \\\n",
       "0                      -1.0            2.204082            1.173469   \n",
       "1                      -1.0            2.000000            4.866667   \n",
       "2                      -1.0            0.414557            2.253165   \n",
       "3                      -1.0            3.452359            0.421832   \n",
       "4                      -1.0            1.876344            1.107527   \n",
       "\n",
       "   ADV_TO_EXAM_RATIO  \n",
       "0           8.642857  \n",
       "1          16.866667  \n",
       "2           3.838608  \n",
       "3           8.124884  \n",
       "4           7.173387  \n",
       "\n",
       "[5 rows x 29 columns]"
      ]
     },
     "execution_count": 35,
     "metadata": {},
     "output_type": "execute_result"
    }
   ],
   "source": [
    "import pandas as pd\n",
    "import numpy as np\n",
    "\n",
    "service_prefixes = ['PREV', 'TXMT', 'ADV']\n",
    "\n",
    "for prefix in service_prefixes:\n",
    "    feature = f'{prefix}_SVC_CNT'\n",
    "    df[f'{prefix}_TO_EXAM_RATIO'] = np.where(df['EXAM_SVC_CNT'] > 0, \n",
    "                                        df[feature] / df['EXAM_SVC_CNT'], \n",
    "                                        0)\n",
    "    \n",
    "df.head(5)"
   ]
  },
  {
   "cell_type": "markdown",
   "id": "d8a1a11d",
   "metadata": {},
   "source": [
    "In theory, here's how it could work:\n",
    "\n",
    "**Data Collection & Profiling**\n",
    "\n",
    "**Clinic Profile**:\\\n",
    "This would include\n",
    "* Postal Code\n",
    "* Demographic: Age group\n",
    "* Business Model: **RENDERING** or **RENDERING SNC** as provider types, and **FFS**, **GMC**, **PHP** as delivery system types.\n",
    "* Service Demand: **PREV_TO_EXAM_RATIO**, **TXMT_TO_EXAM_RATIO**, **ADV_TO_EXAM_RATIO**\n",
    "\n",
    "**Lab Profile**:\\\n",
    "This would include:\n",
    "* Postal Code\n",
    "* Specialization: *Restorative*, *Cosmetic*, *Preventive*\n",
    "* Business Model: Pricing structure, example: flat fee, or volume discounts"
   ]
  },
  {
   "cell_type": "markdown",
   "id": "cf0a8162",
   "metadata": {},
   "source": [
    "**The Matching Algorithm**\\\n",
    "Once both sets of data are profiled, the AI model performs a similarity-based matching process. The goal is to calculate a score for each potential clinic-lab pair based on how well they align.\n",
    "\n",
    "**Proximity Scoring**: The model calculates a proximity score by comparing the clinic's postal code to each lab's postal code. The closer the two are, the higher the score. A direct zip code match would be the highest score.\n",
    "\n",
    "**Specialization Scoring**: The model compares the clinic's service demand profile with the lab's specializations.\n",
    "\n",
    "If a clinic has a high **TXMT_TO_EXAM_RATIO**, the model will give a higher score to a lab that specializes in crowns and bridges.\n",
    "\n",
    "If a clinic has a high **PREV_TO_EXAM_RATIO**, the model will give a high score to a lab that focuses on mouthguards and retainers.\n",
    "\n",
    "**Business Model Scoring**: The model will align business models based on provider type (**RENDERING / RENDERING SNC**) or the delivery method (**FFS, GMC, PHP**)."
   ]
  },
  {
   "cell_type": "markdown",
   "id": "f5baf38f",
   "metadata": {},
   "source": [
    "**Performing splits**"
   ]
  },
  {
   "cell_type": "code",
   "execution_count": 36,
   "id": "62765b4d",
   "metadata": {},
   "outputs": [
    {
     "data": {
      "text/plain": [
       "Index(['RENDERING_NPI', 'PROVIDER_LEGAL_NAME', 'POSTAL_CODE', 'CALENDAR_YEAR',\n",
       "       'DELIVERY_SYSTEM', 'DELIVERY_SYSTEM_ENCODED', 'PROVIDER_TYPE',\n",
       "       'PROVIDER_TYPE_ENCODED', 'AGE_GROUP', 'AGE_GROUP_ENCODED',\n",
       "       'ADV_USER_CNT', 'ADV_USER_ANNOTATION_CODE', 'ADV_SVC_CNT',\n",
       "       'ADV_SVC_ANNOTATION_CODE', 'PREV_USER_CNT', 'PREV_USER_ANNOTATION_CODE',\n",
       "       'PREV_SVC_CNT', 'PREV_SVC_ANNOTATION_CODE', 'TXMT_USER_CNT',\n",
       "       'TXMT_USER_ ANNOTATION_CODE', 'TXMT_SVC_CNT',\n",
       "       'TXMT_SVC_ANNOTATION_CODE', 'EXAM_USER_CNT',\n",
       "       'EXAM_USER_ANNOTATION_CODE', 'EXAM_SVC_CNT', 'EXAM_SVC_ANNOTATION_CODE',\n",
       "       'PREV_TO_EXAM_RATIO', 'TXMT_TO_EXAM_RATIO', 'ADV_TO_EXAM_RATIO'],\n",
       "      dtype='object')"
      ]
     },
     "execution_count": 36,
     "metadata": {},
     "output_type": "execute_result"
    }
   ],
   "source": [
    "df.columns"
   ]
  },
  {
   "cell_type": "markdown",
   "id": "9f58fb55",
   "metadata": {},
   "source": [
    "**D-General: NPI, Legal Name**"
   ]
  },
  {
   "cell_type": "code",
   "execution_count": 37,
   "id": "c9e0d550",
   "metadata": {},
   "outputs": [],
   "source": [
    "df_general = df[['RENDERING_NPI', 'PROVIDER_LEGAL_NAME']].copy()"
   ]
  },
  {
   "cell_type": "code",
   "execution_count": 38,
   "id": "35e55573",
   "metadata": {},
   "outputs": [],
   "source": [
    "df_general.to_csv('./data/csv/d_general.csv', index=False)\n",
    "df_general.to_excel('./data/xlsx/cleaned_v1.xlsx', index=False)"
   ]
  },
  {
   "cell_type": "markdown",
   "id": "50e009df",
   "metadata": {},
   "source": [
    "**D-Encoded: Delivery System, Provider Type, Age Group**"
   ]
  },
  {
   "cell_type": "code",
   "execution_count": 39,
   "id": "9bfcc8a6",
   "metadata": {},
   "outputs": [
    {
     "data": {
      "text/html": [
       "<div>\n",
       "<style scoped>\n",
       "    .dataframe tbody tr th:only-of-type {\n",
       "        vertical-align: middle;\n",
       "    }\n",
       "\n",
       "    .dataframe tbody tr th {\n",
       "        vertical-align: top;\n",
       "    }\n",
       "\n",
       "    .dataframe thead th {\n",
       "        text-align: right;\n",
       "    }\n",
       "</style>\n",
       "<table border=\"1\" class=\"dataframe\">\n",
       "  <thead>\n",
       "    <tr style=\"text-align: right;\">\n",
       "      <th></th>\n",
       "      <th>DELIVERY_SYSTEM</th>\n",
       "      <th>DELIVERY_SYSTEM_ENCODED</th>\n",
       "    </tr>\n",
       "  </thead>\n",
       "  <tbody>\n",
       "    <tr>\n",
       "      <th>0</th>\n",
       "      <td>FFS</td>\n",
       "      <td>0</td>\n",
       "    </tr>\n",
       "    <tr>\n",
       "      <th>34</th>\n",
       "      <td>GMC</td>\n",
       "      <td>1</td>\n",
       "    </tr>\n",
       "    <tr>\n",
       "      <th>9</th>\n",
       "      <td>PHP</td>\n",
       "      <td>2</td>\n",
       "    </tr>\n",
       "  </tbody>\n",
       "</table>\n",
       "</div>"
      ],
      "text/plain": [
       "   DELIVERY_SYSTEM  DELIVERY_SYSTEM_ENCODED\n",
       "0              FFS                        0\n",
       "34             GMC                        1\n",
       "9              PHP                        2"
      ]
     },
     "execution_count": 39,
     "metadata": {},
     "output_type": "execute_result"
    }
   ],
   "source": [
    "d_encoded_delivery = df[['DELIVERY_SYSTEM', 'DELIVERY_SYSTEM_ENCODED']].drop_duplicates().sort_values('DELIVERY_SYSTEM_ENCODED').copy()\n",
    "d_encoded_delivery"
   ]
  },
  {
   "cell_type": "code",
   "execution_count": 40,
   "id": "c1e6b34c",
   "metadata": {},
   "outputs": [],
   "source": [
    "d_encoded_delivery.to_csv('./data/csv/d_encoded_delivery.csv', index=False)"
   ]
  },
  {
   "cell_type": "code",
   "execution_count": 41,
   "id": "58d5b10e",
   "metadata": {},
   "outputs": [
    {
     "data": {
      "text/html": [
       "<div>\n",
       "<style scoped>\n",
       "    .dataframe tbody tr th:only-of-type {\n",
       "        vertical-align: middle;\n",
       "    }\n",
       "\n",
       "    .dataframe tbody tr th {\n",
       "        vertical-align: top;\n",
       "    }\n",
       "\n",
       "    .dataframe thead th {\n",
       "        text-align: right;\n",
       "    }\n",
       "</style>\n",
       "<table border=\"1\" class=\"dataframe\">\n",
       "  <thead>\n",
       "    <tr style=\"text-align: right;\">\n",
       "      <th></th>\n",
       "      <th>PROVIDER_TYPE</th>\n",
       "      <th>PROVIDER_TYPE_ENCODED</th>\n",
       "    </tr>\n",
       "  </thead>\n",
       "  <tbody>\n",
       "    <tr>\n",
       "      <th>0</th>\n",
       "      <td>RENDERING</td>\n",
       "      <td>0</td>\n",
       "    </tr>\n",
       "    <tr>\n",
       "      <th>19698</th>\n",
       "      <td>RENDERING SNC</td>\n",
       "      <td>1</td>\n",
       "    </tr>\n",
       "  </tbody>\n",
       "</table>\n",
       "</div>"
      ],
      "text/plain": [
       "       PROVIDER_TYPE  PROVIDER_TYPE_ENCODED\n",
       "0          RENDERING                      0\n",
       "19698  RENDERING SNC                      1"
      ]
     },
     "execution_count": 41,
     "metadata": {},
     "output_type": "execute_result"
    }
   ],
   "source": [
    "d_encoded_provider = df[['PROVIDER_TYPE', 'PROVIDER_TYPE_ENCODED']].drop_duplicates().sort_values('PROVIDER_TYPE_ENCODED').copy()\n",
    "d_encoded_provider"
   ]
  },
  {
   "cell_type": "code",
   "execution_count": 42,
   "id": "2df08c9c",
   "metadata": {},
   "outputs": [],
   "source": [
    "d_encoded_provider.to_csv('./data/csv/d_encoded_provider.csv', index=False)"
   ]
  },
  {
   "cell_type": "code",
   "execution_count": 43,
   "id": "fa50e3be",
   "metadata": {},
   "outputs": [
    {
     "data": {
      "text/html": [
       "<div>\n",
       "<style scoped>\n",
       "    .dataframe tbody tr th:only-of-type {\n",
       "        vertical-align: middle;\n",
       "    }\n",
       "\n",
       "    .dataframe tbody tr th {\n",
       "        vertical-align: top;\n",
       "    }\n",
       "\n",
       "    .dataframe thead th {\n",
       "        text-align: right;\n",
       "    }\n",
       "</style>\n",
       "<table border=\"1\" class=\"dataframe\">\n",
       "  <thead>\n",
       "    <tr style=\"text-align: right;\">\n",
       "      <th></th>\n",
       "      <th>AGE_GROUP</th>\n",
       "      <th>AGE_GROUP_ENCODED</th>\n",
       "    </tr>\n",
       "  </thead>\n",
       "  <tbody>\n",
       "    <tr>\n",
       "      <th>0</th>\n",
       "      <td>AGE 0-20</td>\n",
       "      <td>0</td>\n",
       "    </tr>\n",
       "    <tr>\n",
       "      <th>1</th>\n",
       "      <td>AGE 21+</td>\n",
       "      <td>1</td>\n",
       "    </tr>\n",
       "  </tbody>\n",
       "</table>\n",
       "</div>"
      ],
      "text/plain": [
       "  AGE_GROUP  AGE_GROUP_ENCODED\n",
       "0  AGE 0-20                  0\n",
       "1   AGE 21+                  1"
      ]
     },
     "execution_count": 43,
     "metadata": {},
     "output_type": "execute_result"
    }
   ],
   "source": [
    "d_encoded_age = df[['AGE_GROUP', 'AGE_GROUP_ENCODED']].drop_duplicates().sort_values('AGE_GROUP_ENCODED').copy()\n",
    "d_encoded_age"
   ]
  },
  {
   "cell_type": "code",
   "execution_count": 44,
   "id": "dd84e0ab",
   "metadata": {},
   "outputs": [],
   "source": [
    "d_encoded_age.to_csv('./data/csv/d_encoded_age.csv', index=False)"
   ]
  },
  {
   "cell_type": "markdown",
   "id": "259ca907",
   "metadata": {},
   "source": [
    "**Generating artificial data for the lab-end using Faker library**"
   ]
  },
  {
   "cell_type": "code",
   "execution_count": 45,
   "id": "cb495eb9",
   "metadata": {},
   "outputs": [],
   "source": [
    "import pandas as pd\n",
    "from faker import Faker\n",
    "import random\n",
    "\n",
    "fake = Faker('en_US')\n",
    "\n",
    "specialization_types = {\n",
    "    'restorative': 0,\n",
    "    'preventive': 1,\n",
    "    'prosthodontic': 2\n",
    "}\n",
    "\n",
    "business_models = {\n",
    "    'full_service_lab': 0,\n",
    "    'specialty_lab': 1,\n",
    "    'milling_center': 2\n",
    "}\n",
    "\n",
    "num_records = 10000\n",
    "\n",
    "lab_ids = list(range(1, num_records + 1))\n",
    "lab_names = [fake.company() for _ in range(num_records)]\n",
    "postal_codes = [fake.zipcode_in_state(state_abbr='CA') for _ in range(num_records)]\n",
    "specializations = [random.choice(list(specialization_types.values())) for _ in range(num_records)]\n",
    "business_model_types = [random.choice(list(business_models.values())) for _ in range(num_records)]\n",
    "\n",
    "data = {\n",
    "    'lab_id': lab_ids,\n",
    "    'lab_name': lab_names,\n",
    "    'postal_code': postal_codes,\n",
    "    'specialization_type': specializations,\n",
    "    'business_model': business_model_types\n",
    "}\n",
    "\n",
    "df_lab = pd.DataFrame(data)"
   ]
  },
  {
   "cell_type": "code",
   "execution_count": 46,
   "id": "64620ab5",
   "metadata": {},
   "outputs": [
    {
     "data": {
      "text/html": [
       "<div>\n",
       "<style scoped>\n",
       "    .dataframe tbody tr th:only-of-type {\n",
       "        vertical-align: middle;\n",
       "    }\n",
       "\n",
       "    .dataframe tbody tr th {\n",
       "        vertical-align: top;\n",
       "    }\n",
       "\n",
       "    .dataframe thead th {\n",
       "        text-align: right;\n",
       "    }\n",
       "</style>\n",
       "<table border=\"1\" class=\"dataframe\">\n",
       "  <thead>\n",
       "    <tr style=\"text-align: right;\">\n",
       "      <th></th>\n",
       "      <th>lab_id</th>\n",
       "      <th>lab_name</th>\n",
       "      <th>postal_code</th>\n",
       "      <th>specialization_type</th>\n",
       "      <th>business_model</th>\n",
       "    </tr>\n",
       "  </thead>\n",
       "  <tbody>\n",
       "    <tr>\n",
       "      <th>0</th>\n",
       "      <td>1</td>\n",
       "      <td>Pope, Ray and Hudson</td>\n",
       "      <td>90601</td>\n",
       "      <td>2</td>\n",
       "      <td>1</td>\n",
       "    </tr>\n",
       "    <tr>\n",
       "      <th>1</th>\n",
       "      <td>2</td>\n",
       "      <td>Hernandez, Jones and Roberts</td>\n",
       "      <td>95768</td>\n",
       "      <td>0</td>\n",
       "      <td>0</td>\n",
       "    </tr>\n",
       "    <tr>\n",
       "      <th>2</th>\n",
       "      <td>3</td>\n",
       "      <td>Sanders Ltd</td>\n",
       "      <td>91544</td>\n",
       "      <td>2</td>\n",
       "      <td>2</td>\n",
       "    </tr>\n",
       "    <tr>\n",
       "      <th>3</th>\n",
       "      <td>4</td>\n",
       "      <td>Kerr-Richardson</td>\n",
       "      <td>90027</td>\n",
       "      <td>2</td>\n",
       "      <td>1</td>\n",
       "    </tr>\n",
       "    <tr>\n",
       "      <th>4</th>\n",
       "      <td>5</td>\n",
       "      <td>Ramos-James</td>\n",
       "      <td>93062</td>\n",
       "      <td>1</td>\n",
       "      <td>1</td>\n",
       "    </tr>\n",
       "  </tbody>\n",
       "</table>\n",
       "</div>"
      ],
      "text/plain": [
       "   lab_id                      lab_name postal_code  specialization_type  \\\n",
       "0       1          Pope, Ray and Hudson       90601                    2   \n",
       "1       2  Hernandez, Jones and Roberts       95768                    0   \n",
       "2       3                   Sanders Ltd       91544                    2   \n",
       "3       4               Kerr-Richardson       90027                    2   \n",
       "4       5                   Ramos-James       93062                    1   \n",
       "\n",
       "   business_model  \n",
       "0               1  \n",
       "1               0  \n",
       "2               2  \n",
       "3               1  \n",
       "4               1  "
      ]
     },
     "execution_count": 46,
     "metadata": {},
     "output_type": "execute_result"
    }
   ],
   "source": [
    "df_lab.head(5)"
   ]
  },
  {
   "cell_type": "markdown",
   "id": "e69bc840",
   "metadata": {},
   "source": [
    "**some more post-processing of data**"
   ]
  },
  {
   "cell_type": "code",
   "execution_count": 47,
   "id": "882c1ff2",
   "metadata": {},
   "outputs": [
    {
     "data": {
      "text/html": [
       "<div>\n",
       "<style scoped>\n",
       "    .dataframe tbody tr th:only-of-type {\n",
       "        vertical-align: middle;\n",
       "    }\n",
       "\n",
       "    .dataframe tbody tr th {\n",
       "        vertical-align: top;\n",
       "    }\n",
       "\n",
       "    .dataframe thead th {\n",
       "        text-align: right;\n",
       "    }\n",
       "</style>\n",
       "<table border=\"1\" class=\"dataframe\">\n",
       "  <thead>\n",
       "    <tr style=\"text-align: right;\">\n",
       "      <th></th>\n",
       "      <th>LAB_ID</th>\n",
       "      <th>LAB_NAME</th>\n",
       "      <th>LAB_POSTAL_CODE</th>\n",
       "      <th>LAB_SPECIALIZATION</th>\n",
       "      <th>LAB_BSNS_MODEL</th>\n",
       "    </tr>\n",
       "  </thead>\n",
       "  <tbody>\n",
       "    <tr>\n",
       "      <th>0</th>\n",
       "      <td>1</td>\n",
       "      <td>Pope, Ray and Hudson</td>\n",
       "      <td>90601</td>\n",
       "      <td>2</td>\n",
       "      <td>1</td>\n",
       "    </tr>\n",
       "  </tbody>\n",
       "</table>\n",
       "</div>"
      ],
      "text/plain": [
       "   LAB_ID              LAB_NAME LAB_POSTAL_CODE  LAB_SPECIALIZATION  \\\n",
       "0       1  Pope, Ray and Hudson           90601                   2   \n",
       "\n",
       "   LAB_BSNS_MODEL  \n",
       "0               1  "
      ]
     },
     "execution_count": 47,
     "metadata": {},
     "output_type": "execute_result"
    }
   ],
   "source": [
    "df_lab = df_lab.rename(columns={'lab_id': 'LAB_ID', 'lab_name':'LAB_NAME', 'postal_code': 'LAB_POSTAL_CODE', 'specialization_type': 'LAB_SPECIALIZATION', 'business_model': 'LAB_BSNS_MODEL'})\n",
    "df_lab.head(1)"
   ]
  },
  {
   "cell_type": "code",
   "execution_count": 48,
   "id": "0ac24503",
   "metadata": {},
   "outputs": [],
   "source": [
    "df_lab.to_csv('./data/artificial_lab_data.csv', index=False)"
   ]
  },
  {
   "cell_type": "code",
   "execution_count": 49,
   "id": "5c5ead0f",
   "metadata": {},
   "outputs": [
    {
     "data": {
      "text/html": [
       "<div>\n",
       "<style scoped>\n",
       "    .dataframe tbody tr th:only-of-type {\n",
       "        vertical-align: middle;\n",
       "    }\n",
       "\n",
       "    .dataframe tbody tr th {\n",
       "        vertical-align: top;\n",
       "    }\n",
       "\n",
       "    .dataframe thead th {\n",
       "        text-align: right;\n",
       "    }\n",
       "</style>\n",
       "<table border=\"1\" class=\"dataframe\">\n",
       "  <thead>\n",
       "    <tr style=\"text-align: right;\">\n",
       "      <th></th>\n",
       "      <th>RENDERING_NPI</th>\n",
       "      <th>PROVIDER_LEGAL_NAME</th>\n",
       "      <th>POSTAL_CODE</th>\n",
       "      <th>CALENDAR_YEAR</th>\n",
       "      <th>DELIVERY_SYSTEM</th>\n",
       "      <th>DELIVERY_SYSTEM_ENCODED</th>\n",
       "      <th>PROVIDER_TYPE</th>\n",
       "      <th>PROVIDER_TYPE_ENCODED</th>\n",
       "      <th>AGE_GROUP</th>\n",
       "      <th>AGE_GROUP_ENCODED</th>\n",
       "      <th>...</th>\n",
       "      <th>TXMT_USER_ ANNOTATION_CODE</th>\n",
       "      <th>TXMT_SVC_CNT</th>\n",
       "      <th>TXMT_SVC_ANNOTATION_CODE</th>\n",
       "      <th>EXAM_USER_CNT</th>\n",
       "      <th>EXAM_USER_ANNOTATION_CODE</th>\n",
       "      <th>EXAM_SVC_CNT</th>\n",
       "      <th>EXAM_SVC_ANNOTATION_CODE</th>\n",
       "      <th>PREV_TO_EXAM_RATIO</th>\n",
       "      <th>TXMT_TO_EXAM_RATIO</th>\n",
       "      <th>ADV_TO_EXAM_RATIO</th>\n",
       "    </tr>\n",
       "  </thead>\n",
       "  <tbody>\n",
       "    <tr>\n",
       "      <th>0</th>\n",
       "      <td>1003003781</td>\n",
       "      <td>CHOTI SUPAK</td>\n",
       "      <td>96001</td>\n",
       "      <td>2018</td>\n",
       "      <td>FFS</td>\n",
       "      <td>0</td>\n",
       "      <td>RENDERING</td>\n",
       "      <td>0</td>\n",
       "      <td>AGE 0-20</td>\n",
       "      <td>0</td>\n",
       "      <td>...</td>\n",
       "      <td>-1.0</td>\n",
       "      <td>115.0</td>\n",
       "      <td>-1.0</td>\n",
       "      <td>83.0</td>\n",
       "      <td>-1.0</td>\n",
       "      <td>98.0</td>\n",
       "      <td>-1.0</td>\n",
       "      <td>2.204082</td>\n",
       "      <td>1.173469</td>\n",
       "      <td>8.642857</td>\n",
       "    </tr>\n",
       "  </tbody>\n",
       "</table>\n",
       "<p>1 rows × 29 columns</p>\n",
       "</div>"
      ],
      "text/plain": [
       "   RENDERING_NPI PROVIDER_LEGAL_NAME POSTAL_CODE  CALENDAR_YEAR  \\\n",
       "0     1003003781         CHOTI SUPAK       96001           2018   \n",
       "\n",
       "  DELIVERY_SYSTEM  DELIVERY_SYSTEM_ENCODED PROVIDER_TYPE  \\\n",
       "0             FFS                        0     RENDERING   \n",
       "\n",
       "   PROVIDER_TYPE_ENCODED AGE_GROUP  AGE_GROUP_ENCODED  ...  \\\n",
       "0                      0  AGE 0-20                  0  ...   \n",
       "\n",
       "   TXMT_USER_ ANNOTATION_CODE  TXMT_SVC_CNT  TXMT_SVC_ANNOTATION_CODE  \\\n",
       "0                        -1.0         115.0                      -1.0   \n",
       "\n",
       "   EXAM_USER_CNT  EXAM_USER_ANNOTATION_CODE  EXAM_SVC_CNT  \\\n",
       "0           83.0                       -1.0          98.0   \n",
       "\n",
       "   EXAM_SVC_ANNOTATION_CODE  PREV_TO_EXAM_RATIO  TXMT_TO_EXAM_RATIO  \\\n",
       "0                      -1.0            2.204082            1.173469   \n",
       "\n",
       "   ADV_TO_EXAM_RATIO  \n",
       "0           8.642857  \n",
       "\n",
       "[1 rows x 29 columns]"
      ]
     },
     "execution_count": 49,
     "metadata": {},
     "output_type": "execute_result"
    }
   ],
   "source": [
    "df.head(1)"
   ]
  },
  {
   "cell_type": "code",
   "execution_count": 50,
   "id": "66c82b77",
   "metadata": {},
   "outputs": [
    {
     "name": "stdout",
     "output_type": "stream",
     "text": [
      "<class 'pandas.core.frame.DataFrame'>\n",
      "RangeIndex: 24298 entries, 0 to 24297\n",
      "Data columns (total 29 columns):\n",
      " #   Column                      Non-Null Count  Dtype  \n",
      "---  ------                      --------------  -----  \n",
      " 0   RENDERING_NPI               24298 non-null  int64  \n",
      " 1   PROVIDER_LEGAL_NAME         24298 non-null  object \n",
      " 2   POSTAL_CODE                 24298 non-null  object \n",
      " 3   CALENDAR_YEAR               24298 non-null  int64  \n",
      " 4   DELIVERY_SYSTEM             24298 non-null  object \n",
      " 5   DELIVERY_SYSTEM_ENCODED     24298 non-null  int64  \n",
      " 6   PROVIDER_TYPE               24298 non-null  object \n",
      " 7   PROVIDER_TYPE_ENCODED       24298 non-null  int64  \n",
      " 8   AGE_GROUP                   24298 non-null  object \n",
      " 9   AGE_GROUP_ENCODED           24298 non-null  int64  \n",
      " 10  ADV_USER_CNT                24298 non-null  float64\n",
      " 11  ADV_USER_ANNOTATION_CODE    24298 non-null  float64\n",
      " 12  ADV_SVC_CNT                 24298 non-null  float64\n",
      " 13  ADV_SVC_ANNOTATION_CODE     24298 non-null  float64\n",
      " 14  PREV_USER_CNT               24298 non-null  float64\n",
      " 15  PREV_USER_ANNOTATION_CODE   24298 non-null  float64\n",
      " 16  PREV_SVC_CNT                24298 non-null  float64\n",
      " 17  PREV_SVC_ANNOTATION_CODE    24298 non-null  float64\n",
      " 18  TXMT_USER_CNT               24298 non-null  float64\n",
      " 19  TXMT_USER_ ANNOTATION_CODE  24298 non-null  float64\n",
      " 20  TXMT_SVC_CNT                24298 non-null  float64\n",
      " 21  TXMT_SVC_ANNOTATION_CODE    24298 non-null  float64\n",
      " 22  EXAM_USER_CNT               24298 non-null  float64\n",
      " 23  EXAM_USER_ANNOTATION_CODE   24298 non-null  float64\n",
      " 24  EXAM_SVC_CNT                24298 non-null  float64\n",
      " 25  EXAM_SVC_ANNOTATION_CODE    24298 non-null  float64\n",
      " 26  PREV_TO_EXAM_RATIO          24298 non-null  float64\n",
      " 27  TXMT_TO_EXAM_RATIO          24298 non-null  float64\n",
      " 28  ADV_TO_EXAM_RATIO           24298 non-null  float64\n",
      "dtypes: float64(19), int64(5), object(5)\n",
      "memory usage: 5.4+ MB\n"
     ]
    }
   ],
   "source": [
    "df.info()"
   ]
  },
  {
   "cell_type": "code",
   "execution_count": 51,
   "id": "51c1b703",
   "metadata": {},
   "outputs": [
    {
     "name": "stdout",
     "output_type": "stream",
     "text": [
      "<class 'pandas.core.frame.DataFrame'>\n",
      "RangeIndex: 10000 entries, 0 to 9999\n",
      "Data columns (total 5 columns):\n",
      " #   Column              Non-Null Count  Dtype \n",
      "---  ------              --------------  ----- \n",
      " 0   LAB_ID              10000 non-null  int64 \n",
      " 1   LAB_NAME            10000 non-null  object\n",
      " 2   LAB_POSTAL_CODE     10000 non-null  object\n",
      " 3   LAB_SPECIALIZATION  10000 non-null  int64 \n",
      " 4   LAB_BSNS_MODEL      10000 non-null  int64 \n",
      "dtypes: int64(3), object(2)\n",
      "memory usage: 390.8+ KB\n"
     ]
    }
   ],
   "source": [
    "df_lab.info()"
   ]
  },
  {
   "cell_type": "code",
   "execution_count": 52,
   "id": "8fb7323c",
   "metadata": {},
   "outputs": [],
   "source": [
    "df_test = df['POSTAL_CODE'].copy()\n",
    "df_test = pd.DataFrame(df_test)"
   ]
  },
  {
   "cell_type": "code",
   "execution_count": 53,
   "id": "43e8db36",
   "metadata": {},
   "outputs": [
    {
     "data": {
      "text/plain": [
       "POSTAL_CODE    0\n",
       "dtype: int64"
      ]
     },
     "execution_count": 53,
     "metadata": {},
     "output_type": "execute_result"
    }
   ],
   "source": [
    "df_test.isnull().sum()"
   ]
  },
  {
   "cell_type": "markdown",
   "id": "3b3a5073",
   "metadata": {},
   "source": [
    "The *.to_numeric* operation on the df_test (i.e., copy of the postal code data) resulted in NaN values, this could possibly be due to non-numeric values present in the data."
   ]
  },
  {
   "cell_type": "code",
   "execution_count": 54,
   "id": "f6c7d833",
   "metadata": {},
   "outputs": [],
   "source": [
    "df_test = pd.to_numeric(df_test['POSTAL_CODE'], errors='coerce')"
   ]
  },
  {
   "cell_type": "code",
   "execution_count": 55,
   "id": "b8170eab",
   "metadata": {},
   "outputs": [
    {
     "data": {
      "text/plain": [
       "947     NaN\n",
       "948     NaN\n",
       "2078    NaN\n",
       "2079    NaN\n",
       "2080    NaN\n",
       "2081    NaN\n",
       "2082    NaN\n",
       "7230    NaN\n",
       "21434   NaN\n",
       "21435   NaN\n",
       "Name: POSTAL_CODE, dtype: float64"
      ]
     },
     "execution_count": 55,
     "metadata": {},
     "output_type": "execute_result"
    }
   ],
   "source": [
    "df_test[df_test.isnull()]"
   ]
  },
  {
   "cell_type": "code",
   "execution_count": 56,
   "id": "a6a456d0",
   "metadata": {},
   "outputs": [
    {
     "name": "stdout",
     "output_type": "stream",
     "text": [
      "RENDERING_NPI    1043628639\n",
      "POSTAL_CODE           N4K3H\n",
      "Name: 947, dtype: object\n",
      "RENDERING_NPI    1043628639\n",
      "POSTAL_CODE           N4K3H\n",
      "Name: 948, dtype: object\n",
      "RENDERING_NPI    1104272301\n",
      "POSTAL_CODE           L5H2J\n",
      "Name: 2078, dtype: object\n",
      "RENDERING_NPI    1104272301\n",
      "POSTAL_CODE           L5H2J\n",
      "Name: 2079, dtype: object\n",
      "RENDERING_NPI    1104272301\n",
      "POSTAL_CODE           L5H2J\n",
      "Name: 2080, dtype: object\n",
      "RENDERING_NPI    1104272301\n",
      "POSTAL_CODE           L5H2J\n",
      "Name: 2081, dtype: object\n",
      "RENDERING_NPI    1104272301\n",
      "POSTAL_CODE           L5H2J\n",
      "Name: 2082, dtype: object\n",
      "RENDERING_NPI    1376614651\n",
      "POSTAL_CODE           L6J6T\n",
      "Name: 7230, dtype: object\n",
      "RENDERING_NPI    1376614651\n",
      "POSTAL_CODE           L6J6T\n",
      "Name: 21434, dtype: object\n",
      "RENDERING_NPI    1376614651\n",
      "POSTAL_CODE           L6J6T\n",
      "Name: 21435, dtype: object\n"
     ]
    }
   ],
   "source": [
    "for val in df_test[df_test.isnull()].index:\n",
    "    print(df[['RENDERING_NPI', 'POSTAL_CODE']].iloc[val])"
   ]
  },
  {
   "cell_type": "markdown",
   "id": "7a67c548",
   "metadata": {},
   "source": [
    "And our suspicion was right, there's character data under the postal code feature. This could be directly from the NPPES registry."
   ]
  },
  {
   "cell_type": "code",
   "execution_count": 57,
   "id": "9897a64b",
   "metadata": {},
   "outputs": [
    {
     "name": "stdout",
     "output_type": "stream",
     "text": [
      "https://npiregistry.cms.hhs.gov/api/?number=1104272301&enumeration_type=&taxonomy_description=&name_purpose=&first_name=&use_first_name_alias=&last_name=&organization_name=&address_purpose=&city=&state=&postal_code=&country_code=&limit=&skip=&pretty=&version=2.1\n",
      "{'result_count': 1, 'results': [{'created_epoch': '1462564216000', 'enumeration_type': 'NPI-1', 'last_updated_epoch': '1494267998000', 'number': '1104272301', 'addresses': [{'country_code': 'CA', 'country_name': 'Canada', 'address_purpose': 'LOCATION', 'address_type': 'FGN', 'address_1': '1281 MISSISSAUGA ROAD', 'city': 'MISSISSAUGA', 'state': 'ONT', 'postal_code': 'L5H2J1', 'telephone_number': '647-881-2436'}, {'country_code': 'US', 'country_name': 'United States', 'address_purpose': 'MAILING', 'address_type': 'DOM', 'address_1': '2440 N TEXAS ST', 'city': 'FAIRFIELD', 'state': 'CA', 'postal_code': '945331602'}], 'practiceLocations': [], 'basic': {'first_name': 'VARUNA', 'last_name': 'CHOUDHRY', 'sole_proprietor': 'YES', 'sex': 'F', 'enumeration_date': '2016-05-06', 'last_updated': '2017-05-08', 'status': 'A', 'name_prefix': '--', 'name_suffix': '--'}, 'taxonomies': [{'code': '122300000X', 'taxonomy_group': '', 'desc': 'Dentist', 'state': 'CA', 'license': '100196', 'primary': True}], 'identifiers': [], 'endpoints': [], 'other_names': []}]}\n",
      "{'country_code': 'CA', 'country_name': 'Canada', 'address_purpose': 'LOCATION', 'address_type': 'FGN', 'address_1': '1281 MISSISSAUGA ROAD', 'city': 'MISSISSAUGA', 'state': 'ONT', 'postal_code': 'L5H2J1', 'telephone_number': '647-881-2436'}\n",
      "{'country_code': 'US', 'country_name': 'United States', 'address_purpose': 'MAILING', 'address_type': 'DOM', 'address_1': '2440 N TEXAS ST', 'city': 'FAIRFIELD', 'state': 'CA', 'postal_code': '945331602'}\n"
     ]
    }
   ],
   "source": [
    "NPI_NUMBER = df['RENDERING_NPI'].iloc[df_test[df_test.isnull()].index[5]]\n",
    "api_url = f\"https://npiregistry.cms.hhs.gov/api/?number={NPI_NUMBER}&enumeration_type=&taxonomy_description=&name_purpose=&first_name=&use_first_name_alias=&last_name=&organization_name=&address_purpose=&city=&state=&postal_code=&country_code=&limit=&skip=&pretty=&version=2.1\"\n",
    "print(api_url)\n",
    "\n",
    "response = requests.get(api_url)\n",
    "data = response.json()\n",
    "print(data)\n",
    "#gets first 5 digits of the postal code, going by the ZIP + 4 digit format\n",
    "# (int(data['results'][0]['addresses'][1]) // 10000 )\n",
    "print(data['results'][0]['addresses'][0])\n",
    "print(data['results'][0]['addresses'][1])"
   ]
  },
  {
   "cell_type": "markdown",
   "id": "50b13e0f",
   "metadata": {},
   "source": [
    "Looks like there was a mistake at the first retrieval, I had retrieved the `address_purpose: 'MAILING'` postal code instead of the `address_purpose: 'LOCATION'`, since this was an indexing error we could just retrieve the right data using the NPPES registry."
   ]
  },
  {
   "cell_type": "code",
   "execution_count": 58,
   "id": "5779afe8",
   "metadata": {},
   "outputs": [
    {
     "data": {
      "text/plain": [
       "[96003, 96003, 94533, 94533, 94533, 94533, 94533, 93638, 93638, 93638]"
      ]
     },
     "execution_count": 58,
     "metadata": {},
     "output_type": "execute_result"
    }
   ],
   "source": [
    "sol_postal_codes = []\n",
    "\n",
    "for val in df_test[df_test.isnull()].index:\n",
    "    npi_t1 = df['RENDERING_NPI'].iloc[val]\n",
    "    api_url = f\"https://npiregistry.cms.hhs.gov/api/?number={npi_t1}&enumeration_type=&taxonomy_description=&name_purpose=&first_name=&use_first_name_alias=&last_name=&organization_name=&address_purpose=&city=&state=&postal_code=&country_code=&limit=&skip=&pretty=&version=2.1\"\n",
    "    response = requests.get(api_url)\n",
    "    data = response.json()\n",
    "    sol_postal_codes.append(int(data['results'][0]['addresses'][1]['postal_code']) // 10000 )\n",
    "\n",
    "sol_postal_codes"
   ]
  },
  {
   "cell_type": "code",
   "execution_count": 59,
   "id": "03e26551",
   "metadata": {},
   "outputs": [],
   "source": [
    "target_idx = df_test[df_test.isnull()].index\n",
    "df.loc[target_idx, 'POSTAL_CODE'] = sol_postal_codes"
   ]
  },
  {
   "cell_type": "code",
   "execution_count": 60,
   "id": "3ec90095",
   "metadata": {},
   "outputs": [
    {
     "name": "stdout",
     "output_type": "stream",
     "text": [
      "RENDERING_NPI    1043628639\n",
      "POSTAL_CODE           96003\n",
      "Name: 947, dtype: object\n",
      "RENDERING_NPI    1043628639\n",
      "POSTAL_CODE           96003\n",
      "Name: 948, dtype: object\n",
      "RENDERING_NPI    1104272301\n",
      "POSTAL_CODE           94533\n",
      "Name: 2078, dtype: object\n",
      "RENDERING_NPI    1104272301\n",
      "POSTAL_CODE           94533\n",
      "Name: 2079, dtype: object\n",
      "RENDERING_NPI    1104272301\n",
      "POSTAL_CODE           94533\n",
      "Name: 2080, dtype: object\n",
      "RENDERING_NPI    1104272301\n",
      "POSTAL_CODE           94533\n",
      "Name: 2081, dtype: object\n",
      "RENDERING_NPI    1104272301\n",
      "POSTAL_CODE           94533\n",
      "Name: 2082, dtype: object\n",
      "RENDERING_NPI    1376614651\n",
      "POSTAL_CODE           93638\n",
      "Name: 7230, dtype: object\n",
      "RENDERING_NPI    1376614651\n",
      "POSTAL_CODE           93638\n",
      "Name: 21434, dtype: object\n",
      "RENDERING_NPI    1376614651\n",
      "POSTAL_CODE           93638\n",
      "Name: 21435, dtype: object\n"
     ]
    }
   ],
   "source": [
    "for val in df_test[df_test.isnull()].index:\n",
    "    print(df[['RENDERING_NPI', 'POSTAL_CODE']].iloc[val])"
   ]
  },
  {
   "cell_type": "markdown",
   "id": "4786ae7e",
   "metadata": {},
   "source": [
    "Now that the missing postal codes have been replaced with right values, we can perform *.to_numeric* function and convert it to numeric from object type."
   ]
  },
  {
   "cell_type": "code",
   "execution_count": 61,
   "id": "941d1f9d",
   "metadata": {},
   "outputs": [
    {
     "data": {
      "text/html": [
       "<div>\n",
       "<style scoped>\n",
       "    .dataframe tbody tr th:only-of-type {\n",
       "        vertical-align: middle;\n",
       "    }\n",
       "\n",
       "    .dataframe tbody tr th {\n",
       "        vertical-align: top;\n",
       "    }\n",
       "\n",
       "    .dataframe thead th {\n",
       "        text-align: right;\n",
       "    }\n",
       "</style>\n",
       "<table border=\"1\" class=\"dataframe\">\n",
       "  <thead>\n",
       "    <tr style=\"text-align: right;\">\n",
       "      <th></th>\n",
       "      <th>RENDERING_NPI</th>\n",
       "      <th>POSTAL_CODE</th>\n",
       "      <th>DELIVERY_SYSTEM_ENCODED</th>\n",
       "      <th>PROVIDER_TYPE_ENCODED</th>\n",
       "      <th>AGE_GROUP_ENCODED</th>\n",
       "      <th>ADV_USER_CNT</th>\n",
       "      <th>ADV_USER_ANNOTATION_CODE</th>\n",
       "      <th>ADV_SVC_CNT</th>\n",
       "      <th>ADV_SVC_ANNOTATION_CODE</th>\n",
       "      <th>PREV_USER_CNT</th>\n",
       "      <th>...</th>\n",
       "      <th>TXMT_USER_ ANNOTATION_CODE</th>\n",
       "      <th>TXMT_SVC_CNT</th>\n",
       "      <th>TXMT_SVC_ANNOTATION_CODE</th>\n",
       "      <th>EXAM_USER_CNT</th>\n",
       "      <th>EXAM_USER_ANNOTATION_CODE</th>\n",
       "      <th>EXAM_SVC_CNT</th>\n",
       "      <th>EXAM_SVC_ANNOTATION_CODE</th>\n",
       "      <th>PREV_TO_EXAM_RATIO</th>\n",
       "      <th>TXMT_TO_EXAM_RATIO</th>\n",
       "      <th>ADV_TO_EXAM_RATIO</th>\n",
       "    </tr>\n",
       "  </thead>\n",
       "  <tbody>\n",
       "    <tr>\n",
       "      <th>0</th>\n",
       "      <td>1003003781</td>\n",
       "      <td>96001</td>\n",
       "      <td>0</td>\n",
       "      <td>0</td>\n",
       "      <td>0</td>\n",
       "      <td>101.0</td>\n",
       "      <td>-1.0</td>\n",
       "      <td>847.0</td>\n",
       "      <td>-1.0</td>\n",
       "      <td>89.0</td>\n",
       "      <td>...</td>\n",
       "      <td>-1.0</td>\n",
       "      <td>115.0</td>\n",
       "      <td>-1.0</td>\n",
       "      <td>83.0</td>\n",
       "      <td>-1.0</td>\n",
       "      <td>98.0</td>\n",
       "      <td>-1.0</td>\n",
       "      <td>2.204082</td>\n",
       "      <td>1.173469</td>\n",
       "      <td>8.642857</td>\n",
       "    </tr>\n",
       "  </tbody>\n",
       "</table>\n",
       "<p>1 rows × 24 columns</p>\n",
       "</div>"
      ],
      "text/plain": [
       "   RENDERING_NPI POSTAL_CODE  DELIVERY_SYSTEM_ENCODED  PROVIDER_TYPE_ENCODED  \\\n",
       "0     1003003781       96001                        0                      0   \n",
       "\n",
       "   AGE_GROUP_ENCODED  ADV_USER_CNT  ADV_USER_ANNOTATION_CODE  ADV_SVC_CNT  \\\n",
       "0                  0         101.0                      -1.0        847.0   \n",
       "\n",
       "   ADV_SVC_ANNOTATION_CODE  PREV_USER_CNT  ...  TXMT_USER_ ANNOTATION_CODE  \\\n",
       "0                     -1.0           89.0  ...                        -1.0   \n",
       "\n",
       "   TXMT_SVC_CNT  TXMT_SVC_ANNOTATION_CODE  EXAM_USER_CNT  \\\n",
       "0         115.0                      -1.0           83.0   \n",
       "\n",
       "   EXAM_USER_ANNOTATION_CODE  EXAM_SVC_CNT  EXAM_SVC_ANNOTATION_CODE  \\\n",
       "0                       -1.0          98.0                      -1.0   \n",
       "\n",
       "   PREV_TO_EXAM_RATIO  TXMT_TO_EXAM_RATIO  ADV_TO_EXAM_RATIO  \n",
       "0            2.204082            1.173469           8.642857  \n",
       "\n",
       "[1 rows x 24 columns]"
      ]
     },
     "execution_count": 61,
     "metadata": {},
     "output_type": "execute_result"
    }
   ],
   "source": [
    "df_num_main = df[['RENDERING_NPI', 'POSTAL_CODE', 'DELIVERY_SYSTEM_ENCODED', 'PROVIDER_TYPE_ENCODED', 'AGE_GROUP_ENCODED', 'ADV_USER_CNT', 'ADV_USER_ANNOTATION_CODE', 'ADV_SVC_CNT',\n",
    "       'ADV_SVC_ANNOTATION_CODE', 'PREV_USER_CNT', 'PREV_USER_ANNOTATION_CODE',\n",
    "       'PREV_SVC_CNT', 'PREV_SVC_ANNOTATION_CODE', 'TXMT_USER_CNT',\n",
    "       'TXMT_USER_ ANNOTATION_CODE', 'TXMT_SVC_CNT',\n",
    "       'TXMT_SVC_ANNOTATION_CODE', 'EXAM_USER_CNT',\n",
    "       'EXAM_USER_ANNOTATION_CODE', 'EXAM_SVC_CNT', 'EXAM_SVC_ANNOTATION_CODE',\n",
    "       'PREV_TO_EXAM_RATIO', 'TXMT_TO_EXAM_RATIO', 'ADV_TO_EXAM_RATIO']].copy()\n",
    "df_num_main.head(1)"
   ]
  },
  {
   "cell_type": "code",
   "execution_count": 62,
   "id": "1071f2ab",
   "metadata": {},
   "outputs": [],
   "source": [
    "df_num_main['POSTAL_CODE'] = pd.to_numeric(df_num_main['POSTAL_CODE'], errors='coerce')\n",
    "df_lab['LAB_POSTAL_CODE'] = pd.to_numeric(df_lab['LAB_POSTAL_CODE'], errors='coerce')"
   ]
  },
  {
   "cell_type": "code",
   "execution_count": 63,
   "id": "25c9cedd",
   "metadata": {},
   "outputs": [],
   "source": [
    "df_num_main.to_csv('./data/csv/all_numerical_v1.csv', index=False)\n",
    "df_num_main.to_excel('./data/xlsx/all_numerical_v1.xlsx', index=False)"
   ]
  },
  {
   "cell_type": "code",
   "execution_count": 64,
   "id": "d8ddc3f6",
   "metadata": {},
   "outputs": [],
   "source": [
    "df_clinic = df_num_main.copy()"
   ]
  },
  {
   "cell_type": "code",
   "execution_count": 65,
   "id": "eae4f976",
   "metadata": {},
   "outputs": [
    {
     "data": {
      "text/plain": [
       "Index(['RENDERING_NPI', 'POSTAL_CODE', 'DELIVERY_SYSTEM_ENCODED',\n",
       "       'PROVIDER_TYPE_ENCODED', 'AGE_GROUP_ENCODED', 'ADV_USER_CNT',\n",
       "       'ADV_USER_ANNOTATION_CODE', 'ADV_SVC_CNT', 'ADV_SVC_ANNOTATION_CODE',\n",
       "       'PREV_USER_CNT', 'PREV_USER_ANNOTATION_CODE', 'PREV_SVC_CNT',\n",
       "       'PREV_SVC_ANNOTATION_CODE', 'TXMT_USER_CNT',\n",
       "       'TXMT_USER_ ANNOTATION_CODE', 'TXMT_SVC_CNT',\n",
       "       'TXMT_SVC_ANNOTATION_CODE', 'EXAM_USER_CNT',\n",
       "       'EXAM_USER_ANNOTATION_CODE', 'EXAM_SVC_CNT', 'EXAM_SVC_ANNOTATION_CODE',\n",
       "       'PREV_TO_EXAM_RATIO', 'TXMT_TO_EXAM_RATIO', 'ADV_TO_EXAM_RATIO'],\n",
       "      dtype='object')"
      ]
     },
     "execution_count": 65,
     "metadata": {},
     "output_type": "execute_result"
    }
   ],
   "source": [
    "df_clinic.columns"
   ]
  },
  {
   "cell_type": "code",
   "execution_count": 66,
   "id": "1fc8f99d",
   "metadata": {},
   "outputs": [
    {
     "data": {
      "text/plain": [
       "Index(['LAB_ID', 'LAB_POSTAL_CODE', 'LAB_SPECIALIZATION', 'LAB_BSNS_MODEL'], dtype='object')"
      ]
     },
     "execution_count": 66,
     "metadata": {},
     "output_type": "execute_result"
    }
   ],
   "source": [
    "df_lab_processed = df_lab[['LAB_ID', 'LAB_POSTAL_CODE', 'LAB_SPECIALIZATION', 'LAB_BSNS_MODEL']]\n",
    "df_lab_processed.columns"
   ]
  },
  {
   "cell_type": "markdown",
   "id": "169f1ce1",
   "metadata": {},
   "source": [
    "**merging logic to merge the clinic and lab data to form training dataset**"
   ]
  },
  {
   "cell_type": "code",
   "execution_count": 67,
   "id": "74358da8",
   "metadata": {},
   "outputs": [],
   "source": [
    "def calculate_required_spec(d):\n",
    "    ratio_cols = [\"PREV_TO_EXAM_RATIO\", \"TXMT_TO_EXAM_RATIO\", \"ADV_TO_EXAM_RATIO\"]\n",
    "    \n",
    "    d['DOMINANT_RATIO'] = d[ratio_cols].idxmax(axis=1)\n",
    "\n",
    "    encoded_vals = {\n",
    "        'PREV_TO_EXAM_RATIO': 1,\n",
    "        'TXMT_TO_EXAM_RATIO': 0,\n",
    "        'ADV_TO_EXAM_RATIO': 2\n",
    "    }\n",
    "\n",
    "    d['REQUIRED_SPEC'] = d['DOMINANT_RATIO'].map(encoded_vals)\n",
    "\n",
    "    d.drop(columns=['DOMINANT_RATIO'], inplace=True)\n",
    "\n",
    "    return d"
   ]
  },
  {
   "cell_type": "code",
   "execution_count": null,
   "id": "1d4e57c4",
   "metadata": {},
   "outputs": [],
   "source": [
    "def calculate_required_bsns_model(d):\n",
    "    \n",
    "    svc_count_cols = ['PREV_SVC_CNT', 'TXMT_SVC_CNT', 'ADV_SVC_CNT', 'EXAM_SVC_CNT']\n",
    "\n",
    "    for col in svc_count_cols:\n",
    "        d[col] = pd.to_numeric(d[col], errors='coerce').fillna(0)\n",
    "        \n",
    "    d['TOTAL_SVC_VOL'] = d[svc_count_cols].sum(axis=1)\n",
    "\n",
    "    lower_q = 0.33\n",
    "    higher_q = 1 - lower_q\n",
    "    LOW_VOL_T = d['TOTAL_SVC_VOL'].quantile(lower_q) \n",
    "    HIGH_VOL_T = d['TOTAL_SVC_VOL'].quantile(higher_q)\n",
    "\n",
    "    \n",
    "    d['REQUIRED_BSNS_MODEL'] = np.where(\n",
    "\n",
    "        d['TOTAL_SVC_VOL'] >= HIGH_VOL_T,\n",
    "        \n",
    "        np.where(\n",
    "\n",
    "            (d['REQUIRED_SPEC'] == 2) | (d['REQUIRED_SPEC'] == 1) | (d['REQUIRED_SPEC'] == 0),\n",
    "            1,\n",
    "            0\n",
    "        )\n",
    "    )\n",
    "\n",
    "    d.drop(columns=['TOTAL_SVC_VOL'], inplace=True)\n",
    "\n",
    "    return d"
   ]
  },
  {
   "cell_type": "code",
   "execution_count": null,
   "id": "90dc8a30",
   "metadata": {},
   "outputs": [
    {
     "data": {
      "text/plain": [
       "397"
      ]
     },
     "execution_count": 69,
     "metadata": {},
     "output_type": "execute_result"
    }
   ],
   "source": [
    "import json\n",
    "import random\n",
    "def retrieve_id_postal(postal_code, spec, bsns):\n",
    "    increment = 100\n",
    "    for increment in range(1000):\n",
    "        df_test = pd.DataFrame(df_lab[\n",
    "            (df_lab['LAB_SPECIALIZATION'] == spec) & \n",
    "            (df_lab['LAB_BSNS_MODEL'] == bsns) &\n",
    "            (df_lab['LAB_POSTAL_CODE'] >= postal_code - increment) & \n",
    "            (df_lab['LAB_POSTAL_CODE'] <= postal_code + increment)\n",
    "        ][['LAB_ID', 'LAB_NAME', 'LAB_POSTAL_CODE']])\n",
    "        \n",
    "        if len(df_test) > 0:\n",
    "            return json.loads(df_test.to_json())\n",
    "            break\n",
    "        else: increment += 100\n",
    "\n",
    "id_list = list(retrieve_id_postal(91000, 2, 0)['LAB_ID'])\n",
    "lower_bound = 0\n",
    "upper_bound = len(id_list) - 1\n",
    "int(id_list[random.randint(0, len(id_list) - 1)])\n"
   ]
  },
  {
   "cell_type": "code",
   "execution_count": 74,
   "id": "0e1f6948",
   "metadata": {},
   "outputs": [
    {
     "data": {
      "text/html": [
       "<div>\n",
       "<style scoped>\n",
       "    .dataframe tbody tr th:only-of-type {\n",
       "        vertical-align: middle;\n",
       "    }\n",
       "\n",
       "    .dataframe tbody tr th {\n",
       "        vertical-align: top;\n",
       "    }\n",
       "\n",
       "    .dataframe thead th {\n",
       "        text-align: right;\n",
       "    }\n",
       "</style>\n",
       "<table border=\"1\" class=\"dataframe\">\n",
       "  <thead>\n",
       "    <tr style=\"text-align: right;\">\n",
       "      <th></th>\n",
       "      <th>RENDERING_NPI</th>\n",
       "      <th>POSTAL_CODE</th>\n",
       "      <th>DELIVERY_SYSTEM_ENCODED</th>\n",
       "      <th>PROVIDER_TYPE_ENCODED</th>\n",
       "      <th>AGE_GROUP_ENCODED</th>\n",
       "      <th>ADV_USER_CNT</th>\n",
       "      <th>ADV_USER_ANNOTATION_CODE</th>\n",
       "      <th>ADV_SVC_CNT</th>\n",
       "      <th>ADV_SVC_ANNOTATION_CODE</th>\n",
       "      <th>PREV_USER_CNT</th>\n",
       "      <th>...</th>\n",
       "      <th>TXMT_USER_ ANNOTATION_CODE</th>\n",
       "      <th>TXMT_SVC_CNT</th>\n",
       "      <th>TXMT_SVC_ANNOTATION_CODE</th>\n",
       "      <th>EXAM_USER_CNT</th>\n",
       "      <th>EXAM_USER_ANNOTATION_CODE</th>\n",
       "      <th>EXAM_SVC_CNT</th>\n",
       "      <th>EXAM_SVC_ANNOTATION_CODE</th>\n",
       "      <th>PREV_TO_EXAM_RATIO</th>\n",
       "      <th>TXMT_TO_EXAM_RATIO</th>\n",
       "      <th>ADV_TO_EXAM_RATIO</th>\n",
       "    </tr>\n",
       "  </thead>\n",
       "  <tbody>\n",
       "    <tr>\n",
       "      <th>0</th>\n",
       "      <td>1003003781</td>\n",
       "      <td>96001</td>\n",
       "      <td>0</td>\n",
       "      <td>0</td>\n",
       "      <td>0</td>\n",
       "      <td>101.0</td>\n",
       "      <td>-1.0</td>\n",
       "      <td>847.0</td>\n",
       "      <td>-1.0</td>\n",
       "      <td>89.0</td>\n",
       "      <td>...</td>\n",
       "      <td>-1.0</td>\n",
       "      <td>115.0</td>\n",
       "      <td>-1.0</td>\n",
       "      <td>83.0</td>\n",
       "      <td>-1.0</td>\n",
       "      <td>98.0</td>\n",
       "      <td>-1.0</td>\n",
       "      <td>2.204082</td>\n",
       "      <td>1.173469</td>\n",
       "      <td>8.642857</td>\n",
       "    </tr>\n",
       "  </tbody>\n",
       "</table>\n",
       "<p>1 rows × 24 columns</p>\n",
       "</div>"
      ],
      "text/plain": [
       "   RENDERING_NPI  POSTAL_CODE  DELIVERY_SYSTEM_ENCODED  PROVIDER_TYPE_ENCODED  \\\n",
       "0     1003003781        96001                        0                      0   \n",
       "\n",
       "   AGE_GROUP_ENCODED  ADV_USER_CNT  ADV_USER_ANNOTATION_CODE  ADV_SVC_CNT  \\\n",
       "0                  0         101.0                      -1.0        847.0   \n",
       "\n",
       "   ADV_SVC_ANNOTATION_CODE  PREV_USER_CNT  ...  TXMT_USER_ ANNOTATION_CODE  \\\n",
       "0                     -1.0           89.0  ...                        -1.0   \n",
       "\n",
       "   TXMT_SVC_CNT  TXMT_SVC_ANNOTATION_CODE  EXAM_USER_CNT  \\\n",
       "0         115.0                      -1.0           83.0   \n",
       "\n",
       "   EXAM_USER_ANNOTATION_CODE  EXAM_SVC_CNT  EXAM_SVC_ANNOTATION_CODE  \\\n",
       "0                       -1.0          98.0                      -1.0   \n",
       "\n",
       "   PREV_TO_EXAM_RATIO  TXMT_TO_EXAM_RATIO  ADV_TO_EXAM_RATIO  \n",
       "0            2.204082            1.173469           8.642857  \n",
       "\n",
       "[1 rows x 24 columns]"
      ]
     },
     "execution_count": 74,
     "metadata": {},
     "output_type": "execute_result"
    }
   ],
   "source": [
    "df_test = df_clinic.copy()\n",
    "df_test.head(1)"
   ]
  },
  {
   "cell_type": "code",
   "execution_count": 76,
   "id": "913127a0",
   "metadata": {},
   "outputs": [
    {
     "data": {
      "text/html": [
       "<div>\n",
       "<style scoped>\n",
       "    .dataframe tbody tr th:only-of-type {\n",
       "        vertical-align: middle;\n",
       "    }\n",
       "\n",
       "    .dataframe tbody tr th {\n",
       "        vertical-align: top;\n",
       "    }\n",
       "\n",
       "    .dataframe thead th {\n",
       "        text-align: right;\n",
       "    }\n",
       "</style>\n",
       "<table border=\"1\" class=\"dataframe\">\n",
       "  <thead>\n",
       "    <tr style=\"text-align: right;\">\n",
       "      <th></th>\n",
       "      <th>RENDERING_NPI</th>\n",
       "      <th>POSTAL_CODE</th>\n",
       "      <th>DELIVERY_SYSTEM_ENCODED</th>\n",
       "      <th>PROVIDER_TYPE_ENCODED</th>\n",
       "      <th>AGE_GROUP_ENCODED</th>\n",
       "      <th>ADV_USER_CNT</th>\n",
       "      <th>ADV_USER_ANNOTATION_CODE</th>\n",
       "      <th>ADV_SVC_CNT</th>\n",
       "      <th>ADV_SVC_ANNOTATION_CODE</th>\n",
       "      <th>PREV_USER_CNT</th>\n",
       "      <th>...</th>\n",
       "      <th>TXMT_SVC_CNT</th>\n",
       "      <th>TXMT_SVC_ANNOTATION_CODE</th>\n",
       "      <th>EXAM_USER_CNT</th>\n",
       "      <th>EXAM_USER_ANNOTATION_CODE</th>\n",
       "      <th>EXAM_SVC_CNT</th>\n",
       "      <th>EXAM_SVC_ANNOTATION_CODE</th>\n",
       "      <th>PREV_TO_EXAM_RATIO</th>\n",
       "      <th>TXMT_TO_EXAM_RATIO</th>\n",
       "      <th>ADV_TO_EXAM_RATIO</th>\n",
       "      <th>REQUIRED_SPEC</th>\n",
       "    </tr>\n",
       "  </thead>\n",
       "  <tbody>\n",
       "    <tr>\n",
       "      <th>0</th>\n",
       "      <td>1003003781</td>\n",
       "      <td>96001</td>\n",
       "      <td>0</td>\n",
       "      <td>0</td>\n",
       "      <td>0</td>\n",
       "      <td>101.0</td>\n",
       "      <td>-1.0</td>\n",
       "      <td>847.0</td>\n",
       "      <td>-1.0</td>\n",
       "      <td>89.0</td>\n",
       "      <td>...</td>\n",
       "      <td>115.0</td>\n",
       "      <td>-1.0</td>\n",
       "      <td>83.0</td>\n",
       "      <td>-1.0</td>\n",
       "      <td>98.0</td>\n",
       "      <td>-1.0</td>\n",
       "      <td>2.204082</td>\n",
       "      <td>1.173469</td>\n",
       "      <td>8.642857</td>\n",
       "      <td>2</td>\n",
       "    </tr>\n",
       "  </tbody>\n",
       "</table>\n",
       "<p>1 rows × 25 columns</p>\n",
       "</div>"
      ],
      "text/plain": [
       "   RENDERING_NPI  POSTAL_CODE  DELIVERY_SYSTEM_ENCODED  PROVIDER_TYPE_ENCODED  \\\n",
       "0     1003003781        96001                        0                      0   \n",
       "\n",
       "   AGE_GROUP_ENCODED  ADV_USER_CNT  ADV_USER_ANNOTATION_CODE  ADV_SVC_CNT  \\\n",
       "0                  0         101.0                      -1.0        847.0   \n",
       "\n",
       "   ADV_SVC_ANNOTATION_CODE  PREV_USER_CNT  ...  TXMT_SVC_CNT  \\\n",
       "0                     -1.0           89.0  ...         115.0   \n",
       "\n",
       "   TXMT_SVC_ANNOTATION_CODE  EXAM_USER_CNT  EXAM_USER_ANNOTATION_CODE  \\\n",
       "0                      -1.0           83.0                       -1.0   \n",
       "\n",
       "   EXAM_SVC_CNT  EXAM_SVC_ANNOTATION_CODE  PREV_TO_EXAM_RATIO  \\\n",
       "0          98.0                      -1.0            2.204082   \n",
       "\n",
       "   TXMT_TO_EXAM_RATIO  ADV_TO_EXAM_RATIO  REQUIRED_SPEC  \n",
       "0            1.173469           8.642857              2  \n",
       "\n",
       "[1 rows x 25 columns]"
      ]
     },
     "execution_count": 76,
     "metadata": {},
     "output_type": "execute_result"
    }
   ],
   "source": [
    "df_test = calculate_required_spec(df_test)\n",
    "df_test.head(1)"
   ]
  },
  {
   "cell_type": "code",
   "execution_count": 77,
   "id": "3c955475",
   "metadata": {},
   "outputs": [
    {
     "data": {
      "text/html": [
       "<div>\n",
       "<style scoped>\n",
       "    .dataframe tbody tr th:only-of-type {\n",
       "        vertical-align: middle;\n",
       "    }\n",
       "\n",
       "    .dataframe tbody tr th {\n",
       "        vertical-align: top;\n",
       "    }\n",
       "\n",
       "    .dataframe thead th {\n",
       "        text-align: right;\n",
       "    }\n",
       "</style>\n",
       "<table border=\"1\" class=\"dataframe\">\n",
       "  <thead>\n",
       "    <tr style=\"text-align: right;\">\n",
       "      <th></th>\n",
       "      <th>RENDERING_NPI</th>\n",
       "      <th>POSTAL_CODE</th>\n",
       "      <th>DELIVERY_SYSTEM_ENCODED</th>\n",
       "      <th>PROVIDER_TYPE_ENCODED</th>\n",
       "      <th>AGE_GROUP_ENCODED</th>\n",
       "      <th>ADV_USER_CNT</th>\n",
       "      <th>ADV_USER_ANNOTATION_CODE</th>\n",
       "      <th>ADV_SVC_CNT</th>\n",
       "      <th>ADV_SVC_ANNOTATION_CODE</th>\n",
       "      <th>PREV_USER_CNT</th>\n",
       "      <th>...</th>\n",
       "      <th>TXMT_SVC_ANNOTATION_CODE</th>\n",
       "      <th>EXAM_USER_CNT</th>\n",
       "      <th>EXAM_USER_ANNOTATION_CODE</th>\n",
       "      <th>EXAM_SVC_CNT</th>\n",
       "      <th>EXAM_SVC_ANNOTATION_CODE</th>\n",
       "      <th>PREV_TO_EXAM_RATIO</th>\n",
       "      <th>TXMT_TO_EXAM_RATIO</th>\n",
       "      <th>ADV_TO_EXAM_RATIO</th>\n",
       "      <th>REQUIRED_SPEC</th>\n",
       "      <th>REQUIRED_BSNS_MODEL</th>\n",
       "    </tr>\n",
       "  </thead>\n",
       "  <tbody>\n",
       "    <tr>\n",
       "      <th>0</th>\n",
       "      <td>1003003781</td>\n",
       "      <td>96001</td>\n",
       "      <td>0</td>\n",
       "      <td>0</td>\n",
       "      <td>0</td>\n",
       "      <td>101.0</td>\n",
       "      <td>-1.0</td>\n",
       "      <td>847.0</td>\n",
       "      <td>-1.0</td>\n",
       "      <td>89.0</td>\n",
       "      <td>...</td>\n",
       "      <td>-1.0</td>\n",
       "      <td>83.0</td>\n",
       "      <td>-1.0</td>\n",
       "      <td>98.0</td>\n",
       "      <td>-1.0</td>\n",
       "      <td>2.204082</td>\n",
       "      <td>1.173469</td>\n",
       "      <td>8.642857</td>\n",
       "      <td>2</td>\n",
       "      <td>1</td>\n",
       "    </tr>\n",
       "  </tbody>\n",
       "</table>\n",
       "<p>1 rows × 26 columns</p>\n",
       "</div>"
      ],
      "text/plain": [
       "   RENDERING_NPI  POSTAL_CODE  DELIVERY_SYSTEM_ENCODED  PROVIDER_TYPE_ENCODED  \\\n",
       "0     1003003781        96001                        0                      0   \n",
       "\n",
       "   AGE_GROUP_ENCODED  ADV_USER_CNT  ADV_USER_ANNOTATION_CODE  ADV_SVC_CNT  \\\n",
       "0                  0         101.0                      -1.0        847.0   \n",
       "\n",
       "   ADV_SVC_ANNOTATION_CODE  PREV_USER_CNT  ...  TXMT_SVC_ANNOTATION_CODE  \\\n",
       "0                     -1.0           89.0  ...                      -1.0   \n",
       "\n",
       "   EXAM_USER_CNT  EXAM_USER_ANNOTATION_CODE  EXAM_SVC_CNT  \\\n",
       "0           83.0                       -1.0          98.0   \n",
       "\n",
       "   EXAM_SVC_ANNOTATION_CODE  PREV_TO_EXAM_RATIO  TXMT_TO_EXAM_RATIO  \\\n",
       "0                      -1.0            2.204082            1.173469   \n",
       "\n",
       "   ADV_TO_EXAM_RATIO  REQUIRED_SPEC  REQUIRED_BSNS_MODEL  \n",
       "0           8.642857              2                    1  \n",
       "\n",
       "[1 rows x 26 columns]"
      ]
     },
     "execution_count": 77,
     "metadata": {},
     "output_type": "execute_result"
    }
   ],
   "source": [
    "df_test = calculate_required_bsns_model(df_test)\n",
    "df_test.head(1)"
   ]
  },
  {
   "cell_type": "code",
   "execution_count": null,
   "id": "48b7f486",
   "metadata": {},
   "outputs": [
    {
     "data": {
      "text/html": [
       "<div>\n",
       "<style scoped>\n",
       "    .dataframe tbody tr th:only-of-type {\n",
       "        vertical-align: middle;\n",
       "    }\n",
       "\n",
       "    .dataframe tbody tr th {\n",
       "        vertical-align: top;\n",
       "    }\n",
       "\n",
       "    .dataframe thead th {\n",
       "        text-align: right;\n",
       "    }\n",
       "</style>\n",
       "<table border=\"1\" class=\"dataframe\">\n",
       "  <thead>\n",
       "    <tr style=\"text-align: right;\">\n",
       "      <th></th>\n",
       "      <th>RENDERING_NPI</th>\n",
       "      <th>POSTAL_CODE</th>\n",
       "      <th>DELIVERY_SYSTEM_ENCODED</th>\n",
       "      <th>PROVIDER_TYPE_ENCODED</th>\n",
       "      <th>AGE_GROUP_ENCODED</th>\n",
       "      <th>ADV_USER_CNT</th>\n",
       "      <th>ADV_USER_ANNOTATION_CODE</th>\n",
       "      <th>ADV_SVC_CNT</th>\n",
       "      <th>ADV_SVC_ANNOTATION_CODE</th>\n",
       "      <th>PREV_USER_CNT</th>\n",
       "      <th>...</th>\n",
       "      <th>EXAM_USER_ANNOTATION_CODE</th>\n",
       "      <th>EXAM_SVC_CNT</th>\n",
       "      <th>EXAM_SVC_ANNOTATION_CODE</th>\n",
       "      <th>PREV_TO_EXAM_RATIO</th>\n",
       "      <th>TXMT_TO_EXAM_RATIO</th>\n",
       "      <th>ADV_TO_EXAM_RATIO</th>\n",
       "      <th>REQUIRED_SPEC</th>\n",
       "      <th>REQUIRED_BSNS_MODEL</th>\n",
       "      <th>LAB_ID</th>\n",
       "      <th>LAB_POSTAL_CODE</th>\n",
       "    </tr>\n",
       "  </thead>\n",
       "  <tbody>\n",
       "    <tr>\n",
       "      <th>0</th>\n",
       "      <td>1003003781</td>\n",
       "      <td>96001</td>\n",
       "      <td>0</td>\n",
       "      <td>0</td>\n",
       "      <td>0</td>\n",
       "      <td>101.0</td>\n",
       "      <td>-1.0</td>\n",
       "      <td>847.0</td>\n",
       "      <td>-1.0</td>\n",
       "      <td>89.0</td>\n",
       "      <td>...</td>\n",
       "      <td>-1.0</td>\n",
       "      <td>98.0</td>\n",
       "      <td>-1.0</td>\n",
       "      <td>2.204082</td>\n",
       "      <td>1.173469</td>\n",
       "      <td>8.642857</td>\n",
       "      <td>2</td>\n",
       "      <td>1</td>\n",
       "      <td>4322</td>\n",
       "      <td>96040</td>\n",
       "    </tr>\n",
       "  </tbody>\n",
       "</table>\n",
       "<p>1 rows × 28 columns</p>\n",
       "</div>"
      ],
      "text/plain": [
       "   RENDERING_NPI  POSTAL_CODE  DELIVERY_SYSTEM_ENCODED  PROVIDER_TYPE_ENCODED  \\\n",
       "0     1003003781        96001                        0                      0   \n",
       "\n",
       "   AGE_GROUP_ENCODED  ADV_USER_CNT  ADV_USER_ANNOTATION_CODE  ADV_SVC_CNT  \\\n",
       "0                  0         101.0                      -1.0        847.0   \n",
       "\n",
       "   ADV_SVC_ANNOTATION_CODE  PREV_USER_CNT  ...  EXAM_USER_ANNOTATION_CODE  \\\n",
       "0                     -1.0           89.0  ...                       -1.0   \n",
       "\n",
       "   EXAM_SVC_CNT  EXAM_SVC_ANNOTATION_CODE  PREV_TO_EXAM_RATIO  \\\n",
       "0          98.0                      -1.0            2.204082   \n",
       "\n",
       "   TXMT_TO_EXAM_RATIO  ADV_TO_EXAM_RATIO  REQUIRED_SPEC  REQUIRED_BSNS_MODEL  \\\n",
       "0            1.173469           8.642857              2                    1   \n",
       "\n",
       "   LAB_ID  LAB_POSTAL_CODE  \n",
       "0    4322            96040  \n",
       "\n",
       "[1 rows x 28 columns]"
      ]
     },
     "execution_count": 78,
     "metadata": {},
     "output_type": "execute_result"
    }
   ],
   "source": [
    "import pandas as pd\n",
    "import numpy as np\n",
    "\n",
    "def retrieve_id_postal_for_match(postal_code, spec, bsns, df_lab):\n",
    "    \"\"\"\n",
    "    Searches for an eligible lab by expanding the numeric postal code range.\n",
    "    If no local match is found, it assigns a random lab that meets the\n",
    "    specialization and business model criteria.\n",
    "    \"\"\"\n",
    "    if pd.isna(postal_code) or pd.isna(spec) or pd.isna(bsns):\n",
    "         return {'FINAL_LAB_ID': [np.nan], 'FINAL_LAB_POSTAL_CODE': [np.nan]}\n",
    "         \n",
    "    postal_code = int(postal_code)\n",
    "\n",
    "    df_lab['LAB_POSTAL_CODE_INT'] = df_lab['LAB_POSTAL_CODE'].astype(int)\n",
    "\n",
    "    full_eligible_pool = df_lab[\n",
    "        (df_lab['LAB_SPECIALIZATION'] == spec) & \n",
    "        (df_lab['LAB_BSNS_MODEL'] == bsns)\n",
    "    ].copy()\n",
    "    \n",
    "    search_increments = range(100, 1001, 100)\n",
    "\n",
    "    for current_increment in search_increments:\n",
    "        lower_bound = postal_code - current_increment\n",
    "        upper_bound = postal_code + current_increment\n",
    "\n",
    "        local_eligible_labs = full_eligible_pool[\n",
    "            (full_eligible_pool['LAB_POSTAL_CODE_INT'] >= lower_bound) & \n",
    "            (full_eligible_pool['LAB_POSTAL_CODE_INT'] <= upper_bound)\n",
    "        ][['LAB_ID', 'LAB_POSTAL_CODE']]\n",
    "        \n",
    "        if not local_eligible_labs.empty:\n",
    "            best_match = local_eligible_labs.sample(n=1).iloc[0]\n",
    "            \n",
    "            return {\n",
    "                'FINAL_LAB_ID': [int(best_match['LAB_ID'])], \n",
    "                'FINAL_LAB_POSTAL_CODE': [int(best_match['LAB_POSTAL_CODE'])]\n",
    "            }\n",
    "\n",
    "    if not full_eligible_pool.empty:\n",
    "\n",
    "        default_match = full_eligible_pool[['LAB_ID', 'LAB_POSTAL_CODE']].sample(n=1).iloc[0]\n",
    "        \n",
    "        return {\n",
    "            'FINAL_LAB_ID': [int(default_match['LAB_ID'])],\n",
    "            'FINAL_LAB_POSTAL_CODE': [int(default_match['LAB_POSTAL_CODE'])]\n",
    "        }\n",
    "\n",
    "    return {'FINAL_LAB_ID': [int(-1)], 'FINAL_LAB_POSTAL_CODE': [int(0)]}\n",
    "\n",
    "\n",
    "def assign_final_lab_match(df_test, df_lab):\n",
    "    \"\"\"\n",
    "    Applies the lab matching logic to the df_test DataFrame and \n",
    "    assigns the matching lab's ID and Postal Code columns in place,\n",
    "    ensuring no NaNs in the final output columns.\n",
    "    \"\"\"\n",
    "\n",
    "    df_test['POSTAL_CODE'] = pd.to_numeric(df_test['POSTAL_CODE'].astype(str).str.zfill(5), errors='coerce').astype('Int64')\n",
    "    df_lab['LAB_POSTAL_CODE'] = df_lab['LAB_POSTAL_CODE'].astype(str).str.zfill(5)\n",
    "\n",
    "    match_results = df_test.apply(\n",
    "        lambda row: retrieve_id_postal_for_match(\n",
    "            row['POSTAL_CODE'], \n",
    "            row['REQUIRED_SPEC'],         \n",
    "            row['REQUIRED_BSNS_MODEL'],   \n",
    "            df_lab\n",
    "        ),\n",
    "        axis=1\n",
    "    )\n",
    "\n",
    "    match_df = match_results.apply(pd.Series)\n",
    "\n",
    "    df_test['LAB_ID'] = match_df['FINAL_LAB_ID'].str[0].astype(int)\n",
    "    df_test['LAB_POSTAL_CODE'] = match_df['FINAL_LAB_POSTAL_CODE'].str[0].astype(int)\n",
    "    \n",
    "    return df_test\n",
    "\n",
    "df_test = assign_final_lab_match(df_test, df_lab)\n",
    "df_test.head(1)"
   ]
  },
  {
   "cell_type": "code",
   "execution_count": 79,
   "id": "9e3fd3bc",
   "metadata": {},
   "outputs": [
    {
     "data": {
      "text/plain": [
       "RENDERING_NPI                 0\n",
       "POSTAL_CODE                   0\n",
       "DELIVERY_SYSTEM_ENCODED       0\n",
       "PROVIDER_TYPE_ENCODED         0\n",
       "AGE_GROUP_ENCODED             0\n",
       "ADV_USER_CNT                  0\n",
       "ADV_USER_ANNOTATION_CODE      0\n",
       "ADV_SVC_CNT                   0\n",
       "ADV_SVC_ANNOTATION_CODE       0\n",
       "PREV_USER_CNT                 0\n",
       "PREV_USER_ANNOTATION_CODE     0\n",
       "PREV_SVC_CNT                  0\n",
       "PREV_SVC_ANNOTATION_CODE      0\n",
       "TXMT_USER_CNT                 0\n",
       "TXMT_USER_ ANNOTATION_CODE    0\n",
       "TXMT_SVC_CNT                  0\n",
       "TXMT_SVC_ANNOTATION_CODE      0\n",
       "EXAM_USER_CNT                 0\n",
       "EXAM_USER_ANNOTATION_CODE     0\n",
       "EXAM_SVC_CNT                  0\n",
       "EXAM_SVC_ANNOTATION_CODE      0\n",
       "PREV_TO_EXAM_RATIO            0\n",
       "TXMT_TO_EXAM_RATIO            0\n",
       "ADV_TO_EXAM_RATIO             0\n",
       "REQUIRED_SPEC                 0\n",
       "REQUIRED_BSNS_MODEL           0\n",
       "LAB_ID                        0\n",
       "LAB_POSTAL_CODE               0\n",
       "dtype: int64"
      ]
     },
     "execution_count": 79,
     "metadata": {},
     "output_type": "execute_result"
    }
   ],
   "source": [
    "df_test.isnull().sum()"
   ]
  },
  {
   "cell_type": "code",
   "execution_count": 80,
   "id": "fb0ca0ee",
   "metadata": {},
   "outputs": [
    {
     "data": {
      "text/plain": [
       "15108"
      ]
     },
     "execution_count": 80,
     "metadata": {},
     "output_type": "execute_result"
    }
   ],
   "source": [
    "filter_mask = (df_test[\"TXMT_SVC_CNT\"] != -1) & \\\n",
    "              (df_test[\"ADV_SVC_CNT\"] != -1) & \\\n",
    "              (df_test[\"PREV_SVC_CNT\"] != -1) & \\\n",
    "              (df_test[\"EXAM_SVC_CNT\"] != -1)\n",
    "\n",
    "df_test_cleaned = df_test[filter_mask].copy()\n",
    "len(df_test_cleaned)"
   ]
  },
  {
   "cell_type": "code",
   "execution_count": 81,
   "id": "abf79298",
   "metadata": {},
   "outputs": [],
   "source": [
    "df_test_cleaned.drop(columns=['ADV_USER_ANNOTATION_CODE', 'ADV_SVC_ANNOTATION_CODE', 'PREV_USER_ANNOTATION_CODE', 'PREV_SVC_ANNOTATION_CODE', 'TXMT_USER_ ANNOTATION_CODE',\n",
    "                              'TXMT_SVC_ANNOTATION_CODE', 'EXAM_USER_ANNOTATION_CODE', 'EXAM_SVC_ANNOTATION_CODE'], inplace=True)"
   ]
  },
  {
   "cell_type": "code",
   "execution_count": 82,
   "id": "f8aaa2ff",
   "metadata": {},
   "outputs": [
    {
     "data": {
      "text/html": [
       "<div>\n",
       "<style scoped>\n",
       "    .dataframe tbody tr th:only-of-type {\n",
       "        vertical-align: middle;\n",
       "    }\n",
       "\n",
       "    .dataframe tbody tr th {\n",
       "        vertical-align: top;\n",
       "    }\n",
       "\n",
       "    .dataframe thead th {\n",
       "        text-align: right;\n",
       "    }\n",
       "</style>\n",
       "<table border=\"1\" class=\"dataframe\">\n",
       "  <thead>\n",
       "    <tr style=\"text-align: right;\">\n",
       "      <th></th>\n",
       "      <th>RENDERING_NPI</th>\n",
       "      <th>POSTAL_CODE</th>\n",
       "      <th>DELIVERY_SYSTEM_ENCODED</th>\n",
       "      <th>PROVIDER_TYPE_ENCODED</th>\n",
       "      <th>AGE_GROUP_ENCODED</th>\n",
       "      <th>ADV_USER_CNT</th>\n",
       "      <th>ADV_SVC_CNT</th>\n",
       "      <th>PREV_USER_CNT</th>\n",
       "      <th>PREV_SVC_CNT</th>\n",
       "      <th>TXMT_USER_CNT</th>\n",
       "      <th>TXMT_SVC_CNT</th>\n",
       "      <th>EXAM_USER_CNT</th>\n",
       "      <th>EXAM_SVC_CNT</th>\n",
       "      <th>PREV_TO_EXAM_RATIO</th>\n",
       "      <th>TXMT_TO_EXAM_RATIO</th>\n",
       "      <th>ADV_TO_EXAM_RATIO</th>\n",
       "      <th>REQUIRED_SPEC</th>\n",
       "      <th>REQUIRED_BSNS_MODEL</th>\n",
       "      <th>LAB_ID</th>\n",
       "      <th>LAB_POSTAL_CODE</th>\n",
       "    </tr>\n",
       "  </thead>\n",
       "  <tbody>\n",
       "    <tr>\n",
       "      <th>0</th>\n",
       "      <td>1003003781</td>\n",
       "      <td>96001</td>\n",
       "      <td>0</td>\n",
       "      <td>0</td>\n",
       "      <td>0</td>\n",
       "      <td>101.0</td>\n",
       "      <td>847.0</td>\n",
       "      <td>89.0</td>\n",
       "      <td>216.0</td>\n",
       "      <td>37.0</td>\n",
       "      <td>115.0</td>\n",
       "      <td>83.0</td>\n",
       "      <td>98.0</td>\n",
       "      <td>2.204082</td>\n",
       "      <td>1.173469</td>\n",
       "      <td>8.642857</td>\n",
       "      <td>2</td>\n",
       "      <td>1</td>\n",
       "      <td>4322</td>\n",
       "      <td>96040</td>\n",
       "    </tr>\n",
       "    <tr>\n",
       "      <th>1</th>\n",
       "      <td>1003003781</td>\n",
       "      <td>96001</td>\n",
       "      <td>0</td>\n",
       "      <td>0</td>\n",
       "      <td>1</td>\n",
       "      <td>67.0</td>\n",
       "      <td>253.0</td>\n",
       "      <td>19.0</td>\n",
       "      <td>30.0</td>\n",
       "      <td>43.0</td>\n",
       "      <td>73.0</td>\n",
       "      <td>15.0</td>\n",
       "      <td>15.0</td>\n",
       "      <td>2.000000</td>\n",
       "      <td>4.866667</td>\n",
       "      <td>16.866667</td>\n",
       "      <td>2</td>\n",
       "      <td>1</td>\n",
       "      <td>5583</td>\n",
       "      <td>96006</td>\n",
       "    </tr>\n",
       "    <tr>\n",
       "      <th>2</th>\n",
       "      <td>1003004698</td>\n",
       "      <td>95650</td>\n",
       "      <td>0</td>\n",
       "      <td>0</td>\n",
       "      <td>1</td>\n",
       "      <td>357.0</td>\n",
       "      <td>1213.0</td>\n",
       "      <td>123.0</td>\n",
       "      <td>131.0</td>\n",
       "      <td>357.0</td>\n",
       "      <td>712.0</td>\n",
       "      <td>316.0</td>\n",
       "      <td>316.0</td>\n",
       "      <td>0.414557</td>\n",
       "      <td>2.253165</td>\n",
       "      <td>3.838608</td>\n",
       "      <td>2</td>\n",
       "      <td>2</td>\n",
       "      <td>2170</td>\n",
       "      <td>95680</td>\n",
       "    </tr>\n",
       "    <tr>\n",
       "      <th>3</th>\n",
       "      <td>1003009440</td>\n",
       "      <td>94509</td>\n",
       "      <td>0</td>\n",
       "      <td>0</td>\n",
       "      <td>0</td>\n",
       "      <td>975.0</td>\n",
       "      <td>8783.0</td>\n",
       "      <td>930.0</td>\n",
       "      <td>3732.0</td>\n",
       "      <td>208.0</td>\n",
       "      <td>456.0</td>\n",
       "      <td>919.0</td>\n",
       "      <td>1081.0</td>\n",
       "      <td>3.452359</td>\n",
       "      <td>0.421832</td>\n",
       "      <td>8.124884</td>\n",
       "      <td>2</td>\n",
       "      <td>2</td>\n",
       "      <td>8354</td>\n",
       "      <td>94486</td>\n",
       "    </tr>\n",
       "    <tr>\n",
       "      <th>4</th>\n",
       "      <td>1003009440</td>\n",
       "      <td>94509</td>\n",
       "      <td>0</td>\n",
       "      <td>0</td>\n",
       "      <td>1</td>\n",
       "      <td>837.0</td>\n",
       "      <td>5337.0</td>\n",
       "      <td>706.0</td>\n",
       "      <td>1396.0</td>\n",
       "      <td>335.0</td>\n",
       "      <td>824.0</td>\n",
       "      <td>744.0</td>\n",
       "      <td>744.0</td>\n",
       "      <td>1.876344</td>\n",
       "      <td>1.107527</td>\n",
       "      <td>7.173387</td>\n",
       "      <td>2</td>\n",
       "      <td>2</td>\n",
       "      <td>1924</td>\n",
       "      <td>94569</td>\n",
       "    </tr>\n",
       "  </tbody>\n",
       "</table>\n",
       "</div>"
      ],
      "text/plain": [
       "   RENDERING_NPI  POSTAL_CODE  DELIVERY_SYSTEM_ENCODED  PROVIDER_TYPE_ENCODED  \\\n",
       "0     1003003781        96001                        0                      0   \n",
       "1     1003003781        96001                        0                      0   \n",
       "2     1003004698        95650                        0                      0   \n",
       "3     1003009440        94509                        0                      0   \n",
       "4     1003009440        94509                        0                      0   \n",
       "\n",
       "   AGE_GROUP_ENCODED  ADV_USER_CNT  ADV_SVC_CNT  PREV_USER_CNT  PREV_SVC_CNT  \\\n",
       "0                  0         101.0        847.0           89.0         216.0   \n",
       "1                  1          67.0        253.0           19.0          30.0   \n",
       "2                  1         357.0       1213.0          123.0         131.0   \n",
       "3                  0         975.0       8783.0          930.0        3732.0   \n",
       "4                  1         837.0       5337.0          706.0        1396.0   \n",
       "\n",
       "   TXMT_USER_CNT  TXMT_SVC_CNT  EXAM_USER_CNT  EXAM_SVC_CNT  \\\n",
       "0           37.0         115.0           83.0          98.0   \n",
       "1           43.0          73.0           15.0          15.0   \n",
       "2          357.0         712.0          316.0         316.0   \n",
       "3          208.0         456.0          919.0        1081.0   \n",
       "4          335.0         824.0          744.0         744.0   \n",
       "\n",
       "   PREV_TO_EXAM_RATIO  TXMT_TO_EXAM_RATIO  ADV_TO_EXAM_RATIO  REQUIRED_SPEC  \\\n",
       "0            2.204082            1.173469           8.642857              2   \n",
       "1            2.000000            4.866667          16.866667              2   \n",
       "2            0.414557            2.253165           3.838608              2   \n",
       "3            3.452359            0.421832           8.124884              2   \n",
       "4            1.876344            1.107527           7.173387              2   \n",
       "\n",
       "   REQUIRED_BSNS_MODEL  LAB_ID  LAB_POSTAL_CODE  \n",
       "0                    1    4322            96040  \n",
       "1                    1    5583            96006  \n",
       "2                    2    2170            95680  \n",
       "3                    2    8354            94486  \n",
       "4                    2    1924            94569  "
      ]
     },
     "execution_count": 82,
     "metadata": {},
     "output_type": "execute_result"
    }
   ],
   "source": [
    "df_test_cleaned.head()"
   ]
  },
  {
   "cell_type": "code",
   "execution_count": 83,
   "id": "cf6083f5",
   "metadata": {},
   "outputs": [],
   "source": [
    "df_test_cleaned.to_csv('./data/csv/d_training_main.csv', index=False)\n",
    "df_test_cleaned.to_excel('./data/xlsx/d_training_main.xlsx', index=False)"
   ]
  },
  {
   "cell_type": "code",
   "execution_count": 94,
   "id": "9e84636c",
   "metadata": {},
   "outputs": [
    {
     "data": {
      "text/plain": [
       "Index(['RENDERING_NPI', 'POSTAL_CODE', 'DELIVERY_SYSTEM_ENCODED',\n",
       "       'PROVIDER_TYPE_ENCODED', 'AGE_GROUP_ENCODED', 'ADV_USER_CNT',\n",
       "       'ADV_SVC_CNT', 'PREV_USER_CNT', 'PREV_SVC_CNT', 'TXMT_USER_CNT',\n",
       "       'TXMT_SVC_CNT', 'EXAM_USER_CNT', 'EXAM_SVC_CNT', 'PREV_TO_EXAM_RATIO',\n",
       "       'TXMT_TO_EXAM_RATIO', 'ADV_TO_EXAM_RATIO', 'REQUIRED_SPEC',\n",
       "       'REQUIRED_BSNS_MODEL', 'LAB_ID', 'LAB_POSTAL_CODE'],\n",
       "      dtype='object')"
      ]
     },
     "execution_count": 94,
     "metadata": {},
     "output_type": "execute_result"
    }
   ],
   "source": [
    "df_main = df_test_cleaned.copy()\n",
    "df_main.columns"
   ]
  },
  {
   "cell_type": "code",
   "execution_count": 96,
   "id": "882a9bfc",
   "metadata": {},
   "outputs": [
    {
     "name": "stdout",
     "output_type": "stream",
     "text": [
      "<class 'pandas.core.frame.DataFrame'>\n",
      "Index: 15108 entries, 0 to 24297\n",
      "Data columns (total 20 columns):\n",
      " #   Column                   Non-Null Count  Dtype  \n",
      "---  ------                   --------------  -----  \n",
      " 0   RENDERING_NPI            15108 non-null  int64  \n",
      " 1   POSTAL_CODE              15108 non-null  Int64  \n",
      " 2   DELIVERY_SYSTEM_ENCODED  15108 non-null  int64  \n",
      " 3   PROVIDER_TYPE_ENCODED    15108 non-null  int64  \n",
      " 4   AGE_GROUP_ENCODED        15108 non-null  int64  \n",
      " 5   ADV_USER_CNT             15108 non-null  float64\n",
      " 6   ADV_SVC_CNT              15108 non-null  float64\n",
      " 7   PREV_USER_CNT            15108 non-null  float64\n",
      " 8   PREV_SVC_CNT             15108 non-null  float64\n",
      " 9   TXMT_USER_CNT            15108 non-null  float64\n",
      " 10  TXMT_SVC_CNT             15108 non-null  float64\n",
      " 11  EXAM_USER_CNT            15108 non-null  float64\n",
      " 12  EXAM_SVC_CNT             15108 non-null  float64\n",
      " 13  PREV_TO_EXAM_RATIO       15108 non-null  float64\n",
      " 14  TXMT_TO_EXAM_RATIO       15108 non-null  float64\n",
      " 15  ADV_TO_EXAM_RATIO        15108 non-null  float64\n",
      " 16  REQUIRED_SPEC            15108 non-null  int64  \n",
      " 17  REQUIRED_BSNS_MODEL      15108 non-null  int64  \n",
      " 18  LAB_ID                   15108 non-null  int64  \n",
      " 19  LAB_POSTAL_CODE          15108 non-null  int64  \n",
      "dtypes: Int64(1), float64(11), int64(8)\n",
      "memory usage: 2.4 MB\n"
     ]
    }
   ],
   "source": [
    "df_main.info()"
   ]
  },
  {
   "cell_type": "code",
   "execution_count": null,
   "id": "2fed11dc",
   "metadata": {},
   "outputs": [
    {
     "name": "stdout",
     "output_type": "stream",
     "text": [
      "Warning: Test set contains labels not in training set. Handling manually.\n",
      "\n",
      "XGBoost Training on 2689 unique LAB_IDs\n"
     ]
    },
    {
     "name": "stderr",
     "output_type": "stream",
     "text": [
      "C:\\Users\\anxpr\\anaconda3\\envs\\sdv1\\lib\\site-packages\\xgboost\\core.py:158: UserWarning: [13:45:53] WARNING: D:\\bld\\xgboost-split_1737531311373\\work\\src\\learner.cc:740: \n",
      "Parameters: { \"use_label_encoder\" } are not used.\n",
      "\n",
      "  warnings.warn(smsg, UserWarning)\n"
     ]
    },
    {
     "name": "stdout",
     "output_type": "stream",
     "text": [
      "training complete\n",
      "accuracy: 0.2959\n"
     ]
    }
   ],
   "source": [
    "import pandas as pd\n",
    "import numpy as np\n",
    "import xgboost as xgb\n",
    "from sklearn.model_selection import train_test_split\n",
    "from sklearn.preprocessing import LabelEncoder\n",
    "from sklearn.metrics import accuracy_score\n",
    "\n",
    "TARGET_COLUMN = 'LAB_ID'\n",
    "\n",
    "EXCLUDE_COLUMNS = [\n",
    "    'RENDERING_NPI', \n",
    "    TARGET_COLUMN\n",
    "]\n",
    "\n",
    "features = [col for col in df_main.columns if col not in EXCLUDE_COLUMNS]\n",
    "\n",
    "X = df_main[features].copy()\n",
    "y = df_main[TARGET_COLUMN].copy()\n",
    "\n",
    "postal_encoder = LabelEncoder()\n",
    "X['POSTAL_CODE_ENCODED'] = postal_encoder.fit_transform(X['POSTAL_CODE'])\n",
    "X.drop(columns=['POSTAL_CODE'], inplace=True) \n",
    "\n",
    "lab_postal_encoder = LabelEncoder()\n",
    "X['LAB_POSTAL_CODE_ENCODED'] = lab_postal_encoder.fit_transform(X['LAB_POSTAL_CODE'])\n",
    "X.drop(columns=['LAB_POSTAL_CODE'], inplace=True) \n",
    "\n",
    "X_train, X_test, y_train, y_test_original = train_test_split(\n",
    "    X, \n",
    "    y,\n",
    "    test_size=0.2, \n",
    "    random_state=42\n",
    ")\n",
    "\n",
    "train_label_encoder = LabelEncoder()\n",
    "y_train_encoded = train_label_encoder.fit_transform(y_train)\n",
    "\n",
    "try:\n",
    "    y_test_encoded = train_label_encoder.transform(y_test_original)\n",
    "except ValueError as e:\n",
    "\n",
    "    print(\"Warning: Test set contains labels not in training set. Handling manually.\")\n",
    "    mapping = {label: index for index, label in enumerate(train_label_encoder.classes_)}\n",
    "    y_test_encoded = np.array([mapping.get(label, -1) for label in y_test_original])\n",
    "\n",
    "n_classes_train = len(train_label_encoder.classes_)\n",
    "\n",
    "xgb_model = xgb.XGBClassifier(\n",
    "    objective='multi:softmax',\n",
    "    num_class=n_classes_train,\n",
    "    n_estimators=100,\n",
    "    learning_rate=0.1,\n",
    "    n_jobs=-1,\n",
    "    use_label_encoder=False,\n",
    "    eval_metric='mlogloss',\n",
    "    random_state=42\n",
    ")\n",
    "\n",
    "print(f\"\\nXGBoost Training on {n_classes_train} unique LAB_IDs\")\n",
    "xgb_model.fit(X_train, y_train_encoded) \n",
    "print(\"training complete\")\n",
    "\n",
    "valid_test_indices = y_test_encoded != -1\n",
    "y_test_valid = y_test_encoded[valid_test_indices]\n",
    "X_test_valid = X_test.iloc[valid_test_indices]\n",
    "\n",
    "y_proba = xgb_model.predict_proba(X_test_valid) \n",
    "y_pred = xgb_model.predict(X_test_valid)\n",
    "\n",
    "accuracy = accuracy_score(y_test_valid, y_pred)\n",
    "\n",
    "print(f\"accuracy: {accuracy:.4f}\")\n",
    "# print(f\"Shape of Probability Output (y_proba): {y_proba.shape}\")"
   ]
  },
  {
   "cell_type": "code",
   "execution_count": null,
   "id": "5186918e",
   "metadata": {},
   "outputs": [
    {
     "name": "stdout",
     "output_type": "stream",
     "text": [
      "\n",
      "Recommendation Results for New Clinic Case\n",
      "Top 5 Recommended LAB_IDs (Out of 2689 total):\n",
      "\n",
      "LAB_ID 6007      : Probability = 44.03%\n",
      "LAB_ID 3325      : Probability = 9.01%\n",
      "LAB_ID 8867      : Probability = 4.89%\n",
      "LAB_ID 1691      : Probability = 2.69%\n",
      "LAB_ID 834       : Probability = 1.65%\n"
     ]
    },
    {
     "data": {
      "text/html": [
       "<div>\n",
       "<style scoped>\n",
       "    .dataframe tbody tr th:only-of-type {\n",
       "        vertical-align: middle;\n",
       "    }\n",
       "\n",
       "    .dataframe tbody tr th {\n",
       "        vertical-align: top;\n",
       "    }\n",
       "\n",
       "    .dataframe thead th {\n",
       "        text-align: right;\n",
       "    }\n",
       "</style>\n",
       "<table border=\"1\" class=\"dataframe\">\n",
       "  <thead>\n",
       "    <tr style=\"text-align: right;\">\n",
       "      <th></th>\n",
       "      <th>LAB_ID</th>\n",
       "      <th>LAB_NAME</th>\n",
       "      <th>LAB_POSTAL_CODE</th>\n",
       "      <th>LAB_SPECIALIZATION</th>\n",
       "      <th>LAB_BSNS_MODEL</th>\n",
       "      <th>LAB_POSTAL_CODE_INT</th>\n",
       "    </tr>\n",
       "  </thead>\n",
       "  <tbody>\n",
       "    <tr>\n",
       "      <th>6006</th>\n",
       "      <td>6007</td>\n",
       "      <td>Curtis and Sons</td>\n",
       "      <td>90001</td>\n",
       "      <td>1</td>\n",
       "      <td>1</td>\n",
       "      <td>90001</td>\n",
       "    </tr>\n",
       "  </tbody>\n",
       "</table>\n",
       "</div>"
      ],
      "text/plain": [
       "      LAB_ID         LAB_NAME LAB_POSTAL_CODE  LAB_SPECIALIZATION  \\\n",
       "6006    6007  Curtis and Sons           90001                   1   \n",
       "\n",
       "      LAB_BSNS_MODEL  LAB_POSTAL_CODE_INT  \n",
       "6006               1                90001  "
      ]
     },
     "execution_count": 101,
     "metadata": {},
     "output_type": "execute_result"
    }
   ],
   "source": [
    "import pandas as pd\n",
    "import numpy as np\n",
    "import xgboost as xgb\n",
    "from sklearn.preprocessing import LabelEncoder\n",
    "from sklearn.metrics import accuracy_score\n",
    "import joblib\n",
    "test_case_raw_data = {\n",
    "    'RENDERING_NPI': 1234567890,\n",
    "    'POSTAL_CODE': '90210',\n",
    "    'LAB_POSTAL_CODE': '90001',\n",
    "    'DELIVERY_SYSTEM_ENCODED': 0,\n",
    "    'PROVIDER_TYPE_ENCODED': 1,\n",
    "    'AGE_GROUP_ENCODED': 2,\n",
    "    'ADV_USER_CNT': 10,\n",
    "    'ADV_SVC_CNT': 5,\n",
    "    'PREV_USER_CNT': 50,\n",
    "    'PREV_SVC_CNT': 150,\n",
    "    'TXMT_USER_CNT': 30,\n",
    "    'TXMT_SVC_CNT': 90,\n",
    "    'EXAM_USER_CNT': 100,\n",
    "    'EXAM_SVC_CNT': 250,\n",
    "    'PREV_TO_EXAM_RATIO': 0.60,\n",
    "    'TXMT_TO_EXAM_RATIO': 0.36,\n",
    "    'ADV_TO_EXAM_RATIO': 0.02,\n",
    "    'REQUIRED_SPEC': 1,\n",
    "    'REQUIRED_BSNS_MODEL': 0,\n",
    "}\n",
    "\n",
    "X_new_raw = pd.DataFrame([test_case_raw_data])\n",
    "\n",
    "X_new = X_new_raw.drop(columns=['RENDERING_NPI']).copy()\n",
    "\n",
    "X_new['POSTAL_CODE_ENCODED'] = postal_encoder.transform(X_new['POSTAL_CODE'])\n",
    "X_new.drop(columns=['POSTAL_CODE'], inplace=True)\n",
    "\n",
    "X_new['LAB_POSTAL_CODE_ENCODED'] = lab_postal_encoder.transform(X_new['LAB_POSTAL_CODE'])\n",
    "X_new.drop(columns=['LAB_POSTAL_CODE'], inplace=True)\n",
    "\n",
    "X_new_processed = X_new.reindex(columns=X_train.columns, fill_value=0)\n",
    "\n",
    "\n",
    "probabilities = xgb_model.predict_proba(X_new_processed)\n",
    "\n",
    "top_5_indices = np.argsort(probabilities[0])[-5:][::-1]\n",
    "\n",
    "top_5_lab_ids = train_label_encoder.inverse_transform(top_5_indices)\n",
    "top_5_probabilities = probabilities[0][top_5_indices]\n",
    "\n",
    "\n",
    "print(\"\\nRecommendation Results for New Clinic Case\")\n",
    "print(f\"Top 5 Recommended LAB_IDs (Out of {n_classes_train} total):\\n\")\n",
    "\n",
    "for lab_id, prob in zip(top_5_lab_ids, top_5_probabilities):\n",
    "    print(f\"LAB_ID {lab_id:<10}: Probability = {prob * 100:.2f}%\")\n",
    "\n",
    "df_lab[df_lab['LAB_ID'] == top_5_lab_ids[0]]"
   ]
  },
  {
   "cell_type": "code",
   "execution_count": null,
   "id": "205eca98",
   "metadata": {},
   "outputs": [],
   "source": []
  }
 ],
 "metadata": {
  "kernelspec": {
   "display_name": "Python 3 (ipykernel)",
   "language": "python",
   "name": "python3"
  }
 },
 "nbformat": 4,
 "nbformat_minor": 5
}
