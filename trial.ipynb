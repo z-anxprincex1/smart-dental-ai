{
 "cells": [
  {
   "cell_type": "code",
   "execution_count": 24,
   "id": "09f2b7f2",
   "metadata": {},
   "outputs": [],
   "source": [
    "import pandas as pd"
   ]
  },
  {
   "cell_type": "code",
   "execution_count": 25,
   "id": "8af1516b",
   "metadata": {},
   "outputs": [],
   "source": [
    "file_path = \"./data/ddw1.xlsx\"\n",
    "df = pd.read_excel(file_path)"
   ]
  },
  {
   "cell_type": "code",
   "execution_count": 26,
   "id": "ee2872af",
   "metadata": {},
   "outputs": [
    {
     "data": {
      "text/plain": [
       "24300"
      ]
     },
     "execution_count": 26,
     "metadata": {},
     "output_type": "execute_result"
    }
   ],
   "source": [
    "len(df)"
   ]
  },
  {
   "cell_type": "markdown",
   "id": "5f2c4961",
   "metadata": {},
   "source": [
    "**Features**"
   ]
  },
  {
   "cell_type": "code",
   "execution_count": 27,
   "id": "bed3bf39",
   "metadata": {},
   "outputs": [
    {
     "name": "stdout",
     "output_type": "stream",
     "text": [
      "Index(['RENDERING_NPI', 'PROVIDER_LEGAL_NAME', 'CALENDAR_YEAR',\n",
      "       'DELIVERY_SYSTEM', 'PROVIDER_TYPE', 'AGE_GROUP', 'ADV_USER_CNT',\n",
      "       'ADV_USER_ANNOTATION_CODE', 'ADV_SVC_CNT', 'ADV_SVC_ANNOTATION_CODE',\n",
      "       'PREV_USER_CNT', 'PREV_USER_ANNOTATION_CODE', 'PREV_SVC_CNT',\n",
      "       'PREV_SVC_ANNOTATION_CODE', 'TXMT_USER_CNT',\n",
      "       'TXMT_USER_ ANNOTATION_CODE', 'TXMT_SVC_CNT',\n",
      "       'TXMT_SVC_ANNOTATION_CODE', 'EXAM_USER_CNT',\n",
      "       'EXAM_USER_ANNOTATION_CODE', 'EXAM_SVC_CNT',\n",
      "       'EXAM_SVC_ANNOTATION_CODE'],\n",
      "      dtype='object')\n"
     ]
    }
   ],
   "source": [
    "print(df.columns)"
   ]
  },
  {
   "cell_type": "markdown",
   "id": "85be48cd",
   "metadata": {},
   "source": [
    "**Number of missing values under each feature**"
   ]
  },
  {
   "cell_type": "code",
   "execution_count": 28,
   "id": "6b82dde7",
   "metadata": {},
   "outputs": [
    {
     "name": "stdout",
     "output_type": "stream",
     "text": [
      "RENDERING_NPI                     0\n",
      "PROVIDER_LEGAL_NAME               2\n",
      "CALENDAR_YEAR                     0\n",
      "DELIVERY_SYSTEM                   0\n",
      "PROVIDER_TYPE                     0\n",
      "AGE_GROUP                         0\n",
      "ADV_USER_CNT                   5848\n",
      "ADV_USER_ANNOTATION_CODE      18452\n",
      "ADV_SVC_CNT                    5848\n",
      "ADV_SVC_ANNOTATION_CODE       18452\n",
      "PREV_USER_CNT                  8744\n",
      "PREV_USER_ANNOTATION_CODE     15556\n",
      "PREV_SVC_CNT                   4592\n",
      "PREV_SVC_ANNOTATION_CODE      19708\n",
      "TXMT_USER_CNT                  5792\n",
      "TXMT_USER_ ANNOTATION_CODE    18508\n",
      "TXMT_SVC_CNT                   5792\n",
      "TXMT_SVC_ANNOTATION_CODE      18508\n",
      "EXAM_USER_CNT                  4712\n",
      "EXAM_USER_ANNOTATION_CODE     19588\n",
      "EXAM_SVC_CNT                   4712\n",
      "EXAM_SVC_ANNOTATION_CODE      19588\n",
      "dtype: int64\n"
     ]
    }
   ],
   "source": [
    "missing_val = df.isnull().sum()\n",
    "print(missing_val)"
   ]
  },
  {
   "cell_type": "markdown",
   "id": "9a81c0b6",
   "metadata": {},
   "source": [
    "**Delivery System**"
   ]
  },
  {
   "cell_type": "code",
   "execution_count": 29,
   "id": "3aa17ba8",
   "metadata": {},
   "outputs": [
    {
     "name": "stdout",
     "output_type": "stream",
     "text": [
      "['FFS' 'PHP' 'GMC']\n",
      "missing values: 0\n"
     ]
    }
   ],
   "source": [
    "feature_name = 'DELIVERY_SYSTEM'\n",
    "print(df[feature_name].unique())\n",
    "print(f\"missing values: {df[feature_name].isnull().sum()}\")"
   ]
  },
  {
   "cell_type": "markdown",
   "id": "26567370",
   "metadata": {},
   "source": [
    "**FFS**: (Fee-For-Service), providers are paid a fee for each specific service they perform.\n",
    "\n",
    "**GMC**: (Geographic Managed Care), might be enrolled in a health plan that serves a specific geographic area.\n",
    "\n",
    "**PHP**: (Pre-Paid Health), pays a fixed, regular fee to the health plan, it could provide a pre-determined set of healthcare services as needed. Could be like a subscription service for healthcare, by paying upfront.\n",
    "\n",
    "**Suggestions**:\n",
    "* transform (cat -> num)"
   ]
  },
  {
   "cell_type": "code",
   "execution_count": 30,
   "id": "70ac3aa4",
   "metadata": {},
   "outputs": [
    {
     "data": {
      "text/html": [
       "<div>\n",
       "<style scoped>\n",
       "    .dataframe tbody tr th:only-of-type {\n",
       "        vertical-align: middle;\n",
       "    }\n",
       "\n",
       "    .dataframe tbody tr th {\n",
       "        vertical-align: top;\n",
       "    }\n",
       "\n",
       "    .dataframe thead th {\n",
       "        text-align: right;\n",
       "    }\n",
       "</style>\n",
       "<table border=\"1\" class=\"dataframe\">\n",
       "  <thead>\n",
       "    <tr style=\"text-align: right;\">\n",
       "      <th></th>\n",
       "      <th>RENDERING_NPI</th>\n",
       "      <th>PROVIDER_LEGAL_NAME</th>\n",
       "      <th>CALENDAR_YEAR</th>\n",
       "      <th>DELIVERY_SYSTEM</th>\n",
       "      <th>PROVIDER_TYPE</th>\n",
       "      <th>AGE_GROUP</th>\n",
       "      <th>ADV_USER_CNT</th>\n",
       "      <th>ADV_USER_ANNOTATION_CODE</th>\n",
       "      <th>ADV_SVC_CNT</th>\n",
       "      <th>ADV_SVC_ANNOTATION_CODE</th>\n",
       "      <th>...</th>\n",
       "      <th>PREV_SVC_ANNOTATION_CODE</th>\n",
       "      <th>TXMT_USER_CNT</th>\n",
       "      <th>TXMT_USER_ ANNOTATION_CODE</th>\n",
       "      <th>TXMT_SVC_CNT</th>\n",
       "      <th>TXMT_SVC_ANNOTATION_CODE</th>\n",
       "      <th>EXAM_USER_CNT</th>\n",
       "      <th>EXAM_USER_ANNOTATION_CODE</th>\n",
       "      <th>EXAM_SVC_CNT</th>\n",
       "      <th>EXAM_SVC_ANNOTATION_CODE</th>\n",
       "      <th>DELIVERY_SYSTEM_ENCODED</th>\n",
       "    </tr>\n",
       "  </thead>\n",
       "  <tbody>\n",
       "    <tr>\n",
       "      <th>0</th>\n",
       "      <td>1003003781</td>\n",
       "      <td>CHOTI SUPAK</td>\n",
       "      <td>2018</td>\n",
       "      <td>FFS</td>\n",
       "      <td>RENDERING</td>\n",
       "      <td>AGE 0-20</td>\n",
       "      <td>101.0</td>\n",
       "      <td>NaN</td>\n",
       "      <td>847.0</td>\n",
       "      <td>NaN</td>\n",
       "      <td>...</td>\n",
       "      <td>NaN</td>\n",
       "      <td>37.0</td>\n",
       "      <td>NaN</td>\n",
       "      <td>115.0</td>\n",
       "      <td>NaN</td>\n",
       "      <td>83.0</td>\n",
       "      <td>NaN</td>\n",
       "      <td>98.0</td>\n",
       "      <td>NaN</td>\n",
       "      <td>0</td>\n",
       "    </tr>\n",
       "  </tbody>\n",
       "</table>\n",
       "<p>1 rows × 23 columns</p>\n",
       "</div>"
      ],
      "text/plain": [
       "   RENDERING_NPI PROVIDER_LEGAL_NAME  CALENDAR_YEAR DELIVERY_SYSTEM  \\\n",
       "0     1003003781         CHOTI SUPAK           2018             FFS   \n",
       "\n",
       "  PROVIDER_TYPE AGE_GROUP  ADV_USER_CNT  ADV_USER_ANNOTATION_CODE  \\\n",
       "0     RENDERING  AGE 0-20         101.0                       NaN   \n",
       "\n",
       "   ADV_SVC_CNT  ADV_SVC_ANNOTATION_CODE  ...  PREV_SVC_ANNOTATION_CODE  \\\n",
       "0        847.0                      NaN  ...                       NaN   \n",
       "\n",
       "   TXMT_USER_CNT  TXMT_USER_ ANNOTATION_CODE  TXMT_SVC_CNT  \\\n",
       "0           37.0                         NaN         115.0   \n",
       "\n",
       "   TXMT_SVC_ANNOTATION_CODE  EXAM_USER_CNT  EXAM_USER_ANNOTATION_CODE  \\\n",
       "0                       NaN           83.0                        NaN   \n",
       "\n",
       "   EXAM_SVC_CNT  EXAM_SVC_ANNOTATION_CODE  DELIVERY_SYSTEM_ENCODED  \n",
       "0          98.0                       NaN                        0  \n",
       "\n",
       "[1 rows x 23 columns]"
      ]
     },
     "execution_count": 30,
     "metadata": {},
     "output_type": "execute_result"
    }
   ],
   "source": [
    "from sklearn.preprocessing import LabelEncoder\n",
    "import pandas as pd\n",
    "\n",
    "le = LabelEncoder()\n",
    "\n",
    "df['DELIVERY_SYSTEM_ENCODED'] = le.fit_transform(df['DELIVERY_SYSTEM'])\n",
    "df.head(1)"
   ]
  },
  {
   "cell_type": "markdown",
   "id": "f50437f6",
   "metadata": {},
   "source": [
    "reordering columns"
   ]
  },
  {
   "cell_type": "code",
   "execution_count": 31,
   "id": "abeedfbc",
   "metadata": {},
   "outputs": [
    {
     "data": {
      "text/html": [
       "<div>\n",
       "<style scoped>\n",
       "    .dataframe tbody tr th:only-of-type {\n",
       "        vertical-align: middle;\n",
       "    }\n",
       "\n",
       "    .dataframe tbody tr th {\n",
       "        vertical-align: top;\n",
       "    }\n",
       "\n",
       "    .dataframe thead th {\n",
       "        text-align: right;\n",
       "    }\n",
       "</style>\n",
       "<table border=\"1\" class=\"dataframe\">\n",
       "  <thead>\n",
       "    <tr style=\"text-align: right;\">\n",
       "      <th></th>\n",
       "      <th>RENDERING_NPI</th>\n",
       "      <th>PROVIDER_LEGAL_NAME</th>\n",
       "      <th>CALENDAR_YEAR</th>\n",
       "      <th>DELIVERY_SYSTEM</th>\n",
       "      <th>DELIVERY_SYSTEM_ENCODED</th>\n",
       "      <th>PROVIDER_TYPE</th>\n",
       "      <th>AGE_GROUP</th>\n",
       "      <th>ADV_USER_CNT</th>\n",
       "      <th>ADV_USER_ANNOTATION_CODE</th>\n",
       "      <th>ADV_SVC_CNT</th>\n",
       "      <th>...</th>\n",
       "      <th>PREV_SVC_CNT</th>\n",
       "      <th>PREV_SVC_ANNOTATION_CODE</th>\n",
       "      <th>TXMT_USER_CNT</th>\n",
       "      <th>TXMT_USER_ ANNOTATION_CODE</th>\n",
       "      <th>TXMT_SVC_CNT</th>\n",
       "      <th>TXMT_SVC_ANNOTATION_CODE</th>\n",
       "      <th>EXAM_USER_CNT</th>\n",
       "      <th>EXAM_USER_ANNOTATION_CODE</th>\n",
       "      <th>EXAM_SVC_CNT</th>\n",
       "      <th>EXAM_SVC_ANNOTATION_CODE</th>\n",
       "    </tr>\n",
       "  </thead>\n",
       "  <tbody>\n",
       "    <tr>\n",
       "      <th>0</th>\n",
       "      <td>1003003781</td>\n",
       "      <td>CHOTI SUPAK</td>\n",
       "      <td>2018</td>\n",
       "      <td>FFS</td>\n",
       "      <td>0</td>\n",
       "      <td>RENDERING</td>\n",
       "      <td>AGE 0-20</td>\n",
       "      <td>101.0</td>\n",
       "      <td>NaN</td>\n",
       "      <td>847.0</td>\n",
       "      <td>...</td>\n",
       "      <td>216.0</td>\n",
       "      <td>NaN</td>\n",
       "      <td>37.0</td>\n",
       "      <td>NaN</td>\n",
       "      <td>115.0</td>\n",
       "      <td>NaN</td>\n",
       "      <td>83.0</td>\n",
       "      <td>NaN</td>\n",
       "      <td>98.0</td>\n",
       "      <td>NaN</td>\n",
       "    </tr>\n",
       "  </tbody>\n",
       "</table>\n",
       "<p>1 rows × 23 columns</p>\n",
       "</div>"
      ],
      "text/plain": [
       "   RENDERING_NPI PROVIDER_LEGAL_NAME  CALENDAR_YEAR DELIVERY_SYSTEM  \\\n",
       "0     1003003781         CHOTI SUPAK           2018             FFS   \n",
       "\n",
       "   DELIVERY_SYSTEM_ENCODED PROVIDER_TYPE AGE_GROUP  ADV_USER_CNT  \\\n",
       "0                        0     RENDERING  AGE 0-20         101.0   \n",
       "\n",
       "   ADV_USER_ANNOTATION_CODE  ADV_SVC_CNT  ...  PREV_SVC_CNT  \\\n",
       "0                       NaN        847.0  ...         216.0   \n",
       "\n",
       "   PREV_SVC_ANNOTATION_CODE  TXMT_USER_CNT  TXMT_USER_ ANNOTATION_CODE  \\\n",
       "0                       NaN           37.0                         NaN   \n",
       "\n",
       "   TXMT_SVC_CNT  TXMT_SVC_ANNOTATION_CODE  EXAM_USER_CNT  \\\n",
       "0         115.0                       NaN           83.0   \n",
       "\n",
       "   EXAM_USER_ANNOTATION_CODE  EXAM_SVC_CNT  EXAM_SVC_ANNOTATION_CODE  \n",
       "0                        NaN          98.0                       NaN  \n",
       "\n",
       "[1 rows x 23 columns]"
      ]
     },
     "execution_count": 31,
     "metadata": {},
     "output_type": "execute_result"
    }
   ],
   "source": [
    "new_order = ['RENDERING_NPI', 'PROVIDER_LEGAL_NAME', 'CALENDAR_YEAR',\n",
    "       'DELIVERY_SYSTEM', 'DELIVERY_SYSTEM_ENCODED', 'PROVIDER_TYPE', 'AGE_GROUP', 'ADV_USER_CNT',\n",
    "       'ADV_USER_ANNOTATION_CODE', 'ADV_SVC_CNT', 'ADV_SVC_ANNOTATION_CODE',\n",
    "       'PREV_USER_CNT', 'PREV_USER_ANNOTATION_CODE', 'PREV_SVC_CNT',\n",
    "       'PREV_SVC_ANNOTATION_CODE', 'TXMT_USER_CNT',\n",
    "       'TXMT_USER_ ANNOTATION_CODE', 'TXMT_SVC_CNT',\n",
    "       'TXMT_SVC_ANNOTATION_CODE', 'EXAM_USER_CNT',\n",
    "       'EXAM_USER_ANNOTATION_CODE', 'EXAM_SVC_CNT', 'EXAM_SVC_ANNOTATION_CODE']\n",
    "\n",
    "df = df[new_order]\n",
    "df.head(1)"
   ]
  },
  {
   "cell_type": "markdown",
   "id": "d3296f1b",
   "metadata": {},
   "source": [
    "**More about Provider Type**"
   ]
  },
  {
   "cell_type": "code",
   "execution_count": 32,
   "id": "35f747ea",
   "metadata": {},
   "outputs": [
    {
     "name": "stdout",
     "output_type": "stream",
     "text": [
      "['RENDERING' 'RENDERING SNC']\n",
      "missing values: 0\n"
     ]
    }
   ],
   "source": [
    "feature_name = 'PROVIDER_TYPE'\n",
    "print(df[feature_name].unique())\n",
    "print(f\"missing values: {df[feature_name].isnull().sum()}\")"
   ]
  },
  {
   "cell_type": "markdown",
   "id": "45e3389a",
   "metadata": {},
   "source": [
    "**RENDERING**: providers those that generally have higher prices, operate as a **for-profit**, and provides services to commercial insurance. \n",
    "\n",
    "**RENDERING SNC**: refers to provider in the Safety Net Clinic (SNC), they operate as a mission-driven or **non-profit framework** generally offer affordable prices, for low to average-waged people.\n",
    "\n",
    "**Suggestions**:\n",
    "* transform (cat -> num)"
   ]
  },
  {
   "cell_type": "code",
   "execution_count": 33,
   "id": "ccf10678",
   "metadata": {},
   "outputs": [
    {
     "data": {
      "text/html": [
       "<div>\n",
       "<style scoped>\n",
       "    .dataframe tbody tr th:only-of-type {\n",
       "        vertical-align: middle;\n",
       "    }\n",
       "\n",
       "    .dataframe tbody tr th {\n",
       "        vertical-align: top;\n",
       "    }\n",
       "\n",
       "    .dataframe thead th {\n",
       "        text-align: right;\n",
       "    }\n",
       "</style>\n",
       "<table border=\"1\" class=\"dataframe\">\n",
       "  <thead>\n",
       "    <tr style=\"text-align: right;\">\n",
       "      <th></th>\n",
       "      <th>RENDERING_NPI</th>\n",
       "      <th>PROVIDER_LEGAL_NAME</th>\n",
       "      <th>CALENDAR_YEAR</th>\n",
       "      <th>DELIVERY_SYSTEM</th>\n",
       "      <th>DELIVERY_SYSTEM_ENCODED</th>\n",
       "      <th>PROVIDER_TYPE</th>\n",
       "      <th>PROVIDER_TYPE_ENCODED</th>\n",
       "      <th>AGE_GROUP</th>\n",
       "      <th>ADV_USER_CNT</th>\n",
       "      <th>ADV_USER_ANNOTATION_CODE</th>\n",
       "      <th>...</th>\n",
       "      <th>PREV_SVC_CNT</th>\n",
       "      <th>PREV_SVC_ANNOTATION_CODE</th>\n",
       "      <th>TXMT_USER_CNT</th>\n",
       "      <th>TXMT_USER_ ANNOTATION_CODE</th>\n",
       "      <th>TXMT_SVC_CNT</th>\n",
       "      <th>TXMT_SVC_ANNOTATION_CODE</th>\n",
       "      <th>EXAM_USER_CNT</th>\n",
       "      <th>EXAM_USER_ANNOTATION_CODE</th>\n",
       "      <th>EXAM_SVC_CNT</th>\n",
       "      <th>EXAM_SVC_ANNOTATION_CODE</th>\n",
       "    </tr>\n",
       "  </thead>\n",
       "  <tbody>\n",
       "    <tr>\n",
       "      <th>0</th>\n",
       "      <td>1003003781</td>\n",
       "      <td>CHOTI SUPAK</td>\n",
       "      <td>2018</td>\n",
       "      <td>FFS</td>\n",
       "      <td>0</td>\n",
       "      <td>RENDERING</td>\n",
       "      <td>0</td>\n",
       "      <td>AGE 0-20</td>\n",
       "      <td>101.0</td>\n",
       "      <td>NaN</td>\n",
       "      <td>...</td>\n",
       "      <td>216.0</td>\n",
       "      <td>NaN</td>\n",
       "      <td>37.0</td>\n",
       "      <td>NaN</td>\n",
       "      <td>115.0</td>\n",
       "      <td>NaN</td>\n",
       "      <td>83.0</td>\n",
       "      <td>NaN</td>\n",
       "      <td>98.0</td>\n",
       "      <td>NaN</td>\n",
       "    </tr>\n",
       "  </tbody>\n",
       "</table>\n",
       "<p>1 rows × 24 columns</p>\n",
       "</div>"
      ],
      "text/plain": [
       "   RENDERING_NPI PROVIDER_LEGAL_NAME  CALENDAR_YEAR DELIVERY_SYSTEM  \\\n",
       "0     1003003781         CHOTI SUPAK           2018             FFS   \n",
       "\n",
       "   DELIVERY_SYSTEM_ENCODED PROVIDER_TYPE  PROVIDER_TYPE_ENCODED AGE_GROUP  \\\n",
       "0                        0     RENDERING                      0  AGE 0-20   \n",
       "\n",
       "   ADV_USER_CNT  ADV_USER_ANNOTATION_CODE  ...  PREV_SVC_CNT  \\\n",
       "0         101.0                       NaN  ...         216.0   \n",
       "\n",
       "   PREV_SVC_ANNOTATION_CODE  TXMT_USER_CNT  TXMT_USER_ ANNOTATION_CODE  \\\n",
       "0                       NaN           37.0                         NaN   \n",
       "\n",
       "   TXMT_SVC_CNT  TXMT_SVC_ANNOTATION_CODE  EXAM_USER_CNT  \\\n",
       "0         115.0                       NaN           83.0   \n",
       "\n",
       "   EXAM_USER_ANNOTATION_CODE  EXAM_SVC_CNT  EXAM_SVC_ANNOTATION_CODE  \n",
       "0                        NaN          98.0                       NaN  \n",
       "\n",
       "[1 rows x 24 columns]"
      ]
     },
     "execution_count": 33,
     "metadata": {},
     "output_type": "execute_result"
    }
   ],
   "source": [
    "from sklearn.preprocessing import LabelEncoder\n",
    "import pandas as pd\n",
    "\n",
    "le = LabelEncoder()\n",
    "\n",
    "df['PROVIDER_TYPE_ENCODED'] = le.fit_transform(df['PROVIDER_TYPE'])\n",
    "new_order = ['RENDERING_NPI', 'PROVIDER_LEGAL_NAME', 'CALENDAR_YEAR',\n",
    "       'DELIVERY_SYSTEM', 'DELIVERY_SYSTEM_ENCODED', 'PROVIDER_TYPE', 'PROVIDER_TYPE_ENCODED', 'AGE_GROUP', 'ADV_USER_CNT',\n",
    "       'ADV_USER_ANNOTATION_CODE', 'ADV_SVC_CNT', 'ADV_SVC_ANNOTATION_CODE',\n",
    "       'PREV_USER_CNT', 'PREV_USER_ANNOTATION_CODE', 'PREV_SVC_CNT',\n",
    "       'PREV_SVC_ANNOTATION_CODE', 'TXMT_USER_CNT',\n",
    "       'TXMT_USER_ ANNOTATION_CODE', 'TXMT_SVC_CNT',\n",
    "       'TXMT_SVC_ANNOTATION_CODE', 'EXAM_USER_CNT',\n",
    "       'EXAM_USER_ANNOTATION_CODE', 'EXAM_SVC_CNT', 'EXAM_SVC_ANNOTATION_CODE']\n",
    "df = df[new_order]\n",
    "df.head(1)"
   ]
  },
  {
   "cell_type": "markdown",
   "id": "7bbafa9c",
   "metadata": {},
   "source": [
    "**Age Groups**"
   ]
  },
  {
   "cell_type": "code",
   "execution_count": 34,
   "id": "b7a27c2c",
   "metadata": {},
   "outputs": [
    {
     "name": "stdout",
     "output_type": "stream",
     "text": [
      "['AGE 0-20' 'AGE 21+']\n",
      "missing values: 0\n"
     ]
    }
   ],
   "source": [
    "feature_name = 'AGE_GROUP'\n",
    "print(df[feature_name].unique())\n",
    "print(f\"missing values: {df[feature_name].isnull().sum()}\")"
   ]
  },
  {
   "cell_type": "code",
   "execution_count": 35,
   "id": "2515a259",
   "metadata": {},
   "outputs": [
    {
     "data": {
      "text/html": [
       "<div>\n",
       "<style scoped>\n",
       "    .dataframe tbody tr th:only-of-type {\n",
       "        vertical-align: middle;\n",
       "    }\n",
       "\n",
       "    .dataframe tbody tr th {\n",
       "        vertical-align: top;\n",
       "    }\n",
       "\n",
       "    .dataframe thead th {\n",
       "        text-align: right;\n",
       "    }\n",
       "</style>\n",
       "<table border=\"1\" class=\"dataframe\">\n",
       "  <thead>\n",
       "    <tr style=\"text-align: right;\">\n",
       "      <th></th>\n",
       "      <th>RENDERING_NPI</th>\n",
       "      <th>PROVIDER_LEGAL_NAME</th>\n",
       "      <th>CALENDAR_YEAR</th>\n",
       "      <th>DELIVERY_SYSTEM</th>\n",
       "      <th>DELIVERY_SYSTEM_ENCODED</th>\n",
       "      <th>PROVIDER_TYPE</th>\n",
       "      <th>PROVIDER_TYPE_ENCODED</th>\n",
       "      <th>AGE_GROUP</th>\n",
       "      <th>AGE_GROUP_ENCODED</th>\n",
       "      <th>ADV_USER_CNT</th>\n",
       "      <th>...</th>\n",
       "      <th>PREV_SVC_CNT</th>\n",
       "      <th>PREV_SVC_ANNOTATION_CODE</th>\n",
       "      <th>TXMT_USER_CNT</th>\n",
       "      <th>TXMT_USER_ ANNOTATION_CODE</th>\n",
       "      <th>TXMT_SVC_CNT</th>\n",
       "      <th>TXMT_SVC_ANNOTATION_CODE</th>\n",
       "      <th>EXAM_USER_CNT</th>\n",
       "      <th>EXAM_USER_ANNOTATION_CODE</th>\n",
       "      <th>EXAM_SVC_CNT</th>\n",
       "      <th>EXAM_SVC_ANNOTATION_CODE</th>\n",
       "    </tr>\n",
       "  </thead>\n",
       "  <tbody>\n",
       "    <tr>\n",
       "      <th>0</th>\n",
       "      <td>1003003781</td>\n",
       "      <td>CHOTI SUPAK</td>\n",
       "      <td>2018</td>\n",
       "      <td>FFS</td>\n",
       "      <td>0</td>\n",
       "      <td>RENDERING</td>\n",
       "      <td>0</td>\n",
       "      <td>AGE 0-20</td>\n",
       "      <td>0</td>\n",
       "      <td>101.0</td>\n",
       "      <td>...</td>\n",
       "      <td>216.0</td>\n",
       "      <td>NaN</td>\n",
       "      <td>37.0</td>\n",
       "      <td>NaN</td>\n",
       "      <td>115.0</td>\n",
       "      <td>NaN</td>\n",
       "      <td>83.0</td>\n",
       "      <td>NaN</td>\n",
       "      <td>98.0</td>\n",
       "      <td>NaN</td>\n",
       "    </tr>\n",
       "  </tbody>\n",
       "</table>\n",
       "<p>1 rows × 25 columns</p>\n",
       "</div>"
      ],
      "text/plain": [
       "   RENDERING_NPI PROVIDER_LEGAL_NAME  CALENDAR_YEAR DELIVERY_SYSTEM  \\\n",
       "0     1003003781         CHOTI SUPAK           2018             FFS   \n",
       "\n",
       "   DELIVERY_SYSTEM_ENCODED PROVIDER_TYPE  PROVIDER_TYPE_ENCODED AGE_GROUP  \\\n",
       "0                        0     RENDERING                      0  AGE 0-20   \n",
       "\n",
       "   AGE_GROUP_ENCODED  ADV_USER_CNT  ...  PREV_SVC_CNT  \\\n",
       "0                  0         101.0  ...         216.0   \n",
       "\n",
       "   PREV_SVC_ANNOTATION_CODE  TXMT_USER_CNT  TXMT_USER_ ANNOTATION_CODE  \\\n",
       "0                       NaN           37.0                         NaN   \n",
       "\n",
       "   TXMT_SVC_CNT  TXMT_SVC_ANNOTATION_CODE  EXAM_USER_CNT  \\\n",
       "0         115.0                       NaN           83.0   \n",
       "\n",
       "   EXAM_USER_ANNOTATION_CODE  EXAM_SVC_CNT  EXAM_SVC_ANNOTATION_CODE  \n",
       "0                        NaN          98.0                       NaN  \n",
       "\n",
       "[1 rows x 25 columns]"
      ]
     },
     "execution_count": 35,
     "metadata": {},
     "output_type": "execute_result"
    }
   ],
   "source": [
    "from sklearn.preprocessing import LabelEncoder\n",
    "import pandas as pd\n",
    "\n",
    "le = LabelEncoder()\n",
    "\n",
    "df['AGE_GROUP_ENCODED'] = le.fit_transform(df['AGE_GROUP'])\n",
    "new_order = ['RENDERING_NPI', 'PROVIDER_LEGAL_NAME', 'CALENDAR_YEAR',\n",
    "       'DELIVERY_SYSTEM', 'DELIVERY_SYSTEM_ENCODED', 'PROVIDER_TYPE', 'PROVIDER_TYPE_ENCODED', 'AGE_GROUP', 'AGE_GROUP_ENCODED', 'ADV_USER_CNT',\n",
    "       'ADV_USER_ANNOTATION_CODE', 'ADV_SVC_CNT', 'ADV_SVC_ANNOTATION_CODE',\n",
    "       'PREV_USER_CNT', 'PREV_USER_ANNOTATION_CODE', 'PREV_SVC_CNT',\n",
    "       'PREV_SVC_ANNOTATION_CODE', 'TXMT_USER_CNT',\n",
    "       'TXMT_USER_ ANNOTATION_CODE', 'TXMT_SVC_CNT',\n",
    "       'TXMT_SVC_ANNOTATION_CODE', 'EXAM_USER_CNT',\n",
    "       'EXAM_USER_ANNOTATION_CODE', 'EXAM_SVC_CNT', 'EXAM_SVC_ANNOTATION_CODE']\n",
    "df = df[new_order]\n",
    "df.head(1)"
   ]
  },
  {
   "cell_type": "markdown",
   "id": "6a64e5bb",
   "metadata": {},
   "source": [
    "The rest of the features (from my understanding) are divided into:\n",
    "* **ADV**: advanced procedures\n",
    "* **PREV**: preventive procedures\n",
    "* **TXMT**: treatment and surgical procedures\n",
    "* **EXAM**: examination\n",
    "\n",
    "If we had to order this in terms of criticality (as in increasing order of critical-ness of a procedure), it would be: **EXAM** < **PREV** < **ADV** or **TXMT**\n",
    "\n",
    "Each of these have a **User Count**, **Annotation Code**, **Service Count**, and **Service Annotation Code**\n",
    "\n",
    "Though I could not narrow down what \"Annotation Code\" really is, I could notice the Annotation Codes were only given to those rows where the corresponding \"Count\" was missing. \n",
    "This could mean annotation codes are given to special cases where the data is not present but is a special case scenario that refers to something.\n",
    "\n"
   ]
  },
  {
   "cell_type": "code",
   "execution_count": 36,
   "id": "243f53ef",
   "metadata": {},
   "outputs": [
    {
     "name": "stdout",
     "output_type": "stream",
     "text": [
      "[nan  1.]\n"
     ]
    }
   ],
   "source": [
    "print(df['ADV_USER_ANNOTATION_CODE'].unique())"
   ]
  },
  {
   "cell_type": "code",
   "execution_count": 37,
   "id": "d525a36b",
   "metadata": {},
   "outputs": [
    {
     "name": "stdout",
     "output_type": "stream",
     "text": [
      "[nan  2.  1.]\n"
     ]
    }
   ],
   "source": [
    "print(df['ADV_SVC_ANNOTATION_CODE'].unique())"
   ]
  },
  {
   "cell_type": "code",
   "execution_count": 38,
   "id": "d8cd924a",
   "metadata": {},
   "outputs": [
    {
     "name": "stdout",
     "output_type": "stream",
     "text": [
      "                      feature    unique values\n",
      "0    ADV_USER_ANNOTATION_CODE       [nan, 1.0]\n",
      "1     ADV_SVC_ANNOTATION_CODE  [nan, 2.0, 1.0]\n",
      "2   PREV_USER_ANNOTATION_CODE       [nan, 1.0]\n",
      "3    PREV_SVC_ANNOTATION_CODE  [nan, 1.0, 2.0]\n",
      "4  TXMT_USER_ ANNOTATION_CODE       [nan, 1.0]\n",
      "5    TXMT_SVC_ANNOTATION_CODE  [nan, 2.0, 1.0]\n",
      "6   EXAM_USER_ANNOTATION_CODE       [nan, 1.0]\n",
      "7    EXAM_SVC_ANNOTATION_CODE  [nan, 1.0, 2.0]\n"
     ]
    }
   ],
   "source": [
    "list_anno_code = [f_name for f_name in df.columns if \"ANNOTATION_CODE\" in f_name]\n",
    "\n",
    "anno_table = {\n",
    "    'feature': list_anno_code,\n",
    "    'unique values': [un_vals for un_vals in [df[val].unique() for val in list_anno_code]]\n",
    "}\n",
    "\n",
    "df_anno_table = pd.DataFrame(anno_table)\n",
    "print(df_anno_table)"
   ]
  },
  {
   "cell_type": "markdown",
   "id": "b9de67aa",
   "metadata": {},
   "source": [
    "Since straight up imputing methods (mean/median/mode) wouldn't really make sense in our case as these annotation codes mean a specific case, I'm gonna add -1 in place of NANs to handle missing values."
   ]
  },
  {
   "cell_type": "code",
   "execution_count": 39,
   "id": "da133c0d",
   "metadata": {},
   "outputs": [],
   "source": [
    "for col in list_anno_code:\n",
    "    df[col] = df[col].fillna(-1)"
   ]
  },
  {
   "cell_type": "code",
   "execution_count": 40,
   "id": "e03672c2",
   "metadata": {},
   "outputs": [
    {
     "name": "stdout",
     "output_type": "stream",
     "text": [
      "                      feature     unique values\n",
      "0    ADV_USER_ANNOTATION_CODE       [-1.0, 1.0]\n",
      "1     ADV_SVC_ANNOTATION_CODE  [-1.0, 2.0, 1.0]\n",
      "2   PREV_USER_ANNOTATION_CODE       [-1.0, 1.0]\n",
      "3    PREV_SVC_ANNOTATION_CODE  [-1.0, 1.0, 2.0]\n",
      "4  TXMT_USER_ ANNOTATION_CODE       [-1.0, 1.0]\n",
      "5    TXMT_SVC_ANNOTATION_CODE  [-1.0, 2.0, 1.0]\n",
      "6   EXAM_USER_ANNOTATION_CODE       [-1.0, 1.0]\n",
      "7    EXAM_SVC_ANNOTATION_CODE  [-1.0, 1.0, 2.0]\n"
     ]
    }
   ],
   "source": [
    "anno_table = {\n",
    "    'feature': list_anno_code,\n",
    "    'unique values': [un_vals for un_vals in [df[val].unique() for val in list_anno_code]]\n",
    "}\n",
    "\n",
    "df_anno_table = pd.DataFrame(anno_table)\n",
    "print(df_anno_table)"
   ]
  },
  {
   "cell_type": "markdown",
   "id": "eb0a4a8c",
   "metadata": {},
   "source": [
    "Likewise for the count features we replace missing values with -1."
   ]
  },
  {
   "cell_type": "code",
   "execution_count": 41,
   "id": "7a0179f6",
   "metadata": {},
   "outputs": [
    {
     "name": "stdout",
     "output_type": "stream",
     "text": [
      "RENDERING_NPI                    0\n",
      "PROVIDER_LEGAL_NAME              2\n",
      "CALENDAR_YEAR                    0\n",
      "DELIVERY_SYSTEM                  0\n",
      "DELIVERY_SYSTEM_ENCODED          0\n",
      "PROVIDER_TYPE                    0\n",
      "PROVIDER_TYPE_ENCODED            0\n",
      "AGE_GROUP                        0\n",
      "AGE_GROUP_ENCODED                0\n",
      "ADV_USER_CNT                  5848\n",
      "ADV_USER_ANNOTATION_CODE         0\n",
      "ADV_SVC_CNT                   5848\n",
      "ADV_SVC_ANNOTATION_CODE          0\n",
      "PREV_USER_CNT                 8744\n",
      "PREV_USER_ANNOTATION_CODE        0\n",
      "PREV_SVC_CNT                  4592\n",
      "PREV_SVC_ANNOTATION_CODE         0\n",
      "TXMT_USER_CNT                 5792\n",
      "TXMT_USER_ ANNOTATION_CODE       0\n",
      "TXMT_SVC_CNT                  5792\n",
      "TXMT_SVC_ANNOTATION_CODE         0\n",
      "EXAM_USER_CNT                 4712\n",
      "EXAM_USER_ANNOTATION_CODE        0\n",
      "EXAM_SVC_CNT                  4712\n",
      "EXAM_SVC_ANNOTATION_CODE         0\n",
      "dtype: int64\n"
     ]
    }
   ],
   "source": [
    "missing_val = df.isnull().sum()\n",
    "print(missing_val)"
   ]
  },
  {
   "cell_type": "code",
   "execution_count": 42,
   "id": "15999480",
   "metadata": {},
   "outputs": [],
   "source": [
    "list_cnt_code = [f_name for f_name in df.columns if \"CNT\" in f_name]\n",
    "\n",
    "for col in list_cnt_code:\n",
    "    df[col] = df[col].fillna(-1)"
   ]
  },
  {
   "cell_type": "code",
   "execution_count": 43,
   "id": "fa9f3d76",
   "metadata": {},
   "outputs": [
    {
     "name": "stdout",
     "output_type": "stream",
     "text": [
      "RENDERING_NPI                 0\n",
      "PROVIDER_LEGAL_NAME           2\n",
      "CALENDAR_YEAR                 0\n",
      "DELIVERY_SYSTEM               0\n",
      "DELIVERY_SYSTEM_ENCODED       0\n",
      "PROVIDER_TYPE                 0\n",
      "PROVIDER_TYPE_ENCODED         0\n",
      "AGE_GROUP                     0\n",
      "AGE_GROUP_ENCODED             0\n",
      "ADV_USER_CNT                  0\n",
      "ADV_USER_ANNOTATION_CODE      0\n",
      "ADV_SVC_CNT                   0\n",
      "ADV_SVC_ANNOTATION_CODE       0\n",
      "PREV_USER_CNT                 0\n",
      "PREV_USER_ANNOTATION_CODE     0\n",
      "PREV_SVC_CNT                  0\n",
      "PREV_SVC_ANNOTATION_CODE      0\n",
      "TXMT_USER_CNT                 0\n",
      "TXMT_USER_ ANNOTATION_CODE    0\n",
      "TXMT_SVC_CNT                  0\n",
      "TXMT_SVC_ANNOTATION_CODE      0\n",
      "EXAM_USER_CNT                 0\n",
      "EXAM_USER_ANNOTATION_CODE     0\n",
      "EXAM_SVC_CNT                  0\n",
      "EXAM_SVC_ANNOTATION_CODE      0\n",
      "dtype: int64\n"
     ]
    }
   ],
   "source": [
    "missing_val = df.isnull().sum()\n",
    "print(missing_val)"
   ]
  },
  {
   "cell_type": "markdown",
   "id": "faa649ad",
   "metadata": {},
   "source": [
    "We can still see there's 2 missing values under PROVIDER_LEGAL_NAME, we could just drop them since it's unlikely to have a significant impact on the data.\n",
    "\n",
    "**Also it was later determined that the 2 missing values under PROVIDER_LEGAL_NAME were no longer valid in the NPPES registry, thus dropping it would make more sense**"
   ]
  },
  {
   "cell_type": "code",
   "execution_count": 44,
   "id": "e2b590ad",
   "metadata": {},
   "outputs": [
    {
     "name": "stdout",
     "output_type": "stream",
     "text": [
      "RENDERING_NPI                 0\n",
      "PROVIDER_LEGAL_NAME           0\n",
      "CALENDAR_YEAR                 0\n",
      "DELIVERY_SYSTEM               0\n",
      "DELIVERY_SYSTEM_ENCODED       0\n",
      "PROVIDER_TYPE                 0\n",
      "PROVIDER_TYPE_ENCODED         0\n",
      "AGE_GROUP                     0\n",
      "AGE_GROUP_ENCODED             0\n",
      "ADV_USER_CNT                  0\n",
      "ADV_USER_ANNOTATION_CODE      0\n",
      "ADV_SVC_CNT                   0\n",
      "ADV_SVC_ANNOTATION_CODE       0\n",
      "PREV_USER_CNT                 0\n",
      "PREV_USER_ANNOTATION_CODE     0\n",
      "PREV_SVC_CNT                  0\n",
      "PREV_SVC_ANNOTATION_CODE      0\n",
      "TXMT_USER_CNT                 0\n",
      "TXMT_USER_ ANNOTATION_CODE    0\n",
      "TXMT_SVC_CNT                  0\n",
      "TXMT_SVC_ANNOTATION_CODE      0\n",
      "EXAM_USER_CNT                 0\n",
      "EXAM_USER_ANNOTATION_CODE     0\n",
      "EXAM_SVC_CNT                  0\n",
      "EXAM_SVC_ANNOTATION_CODE      0\n",
      "dtype: int64\n"
     ]
    }
   ],
   "source": [
    "df.dropna(subset=['PROVIDER_LEGAL_NAME'], inplace=True)\n",
    "missing_val = df.isnull().sum()\n",
    "print(missing_val)"
   ]
  },
  {
   "cell_type": "code",
   "execution_count": 45,
   "id": "ba33db38",
   "metadata": {},
   "outputs": [],
   "source": [
    "df.to_csv('./data/trial/csv/cleaned_v1.csv', index=False)\n",
    "df.to_excel('./data/trial/xlsx/cleaned_v1.xlsx', index=False)"
   ]
  },
  {
   "cell_type": "code",
   "execution_count": 46,
   "id": "a6879a7b",
   "metadata": {},
   "outputs": [
    {
     "data": {
      "text/html": [
       "<div>\n",
       "<style scoped>\n",
       "    .dataframe tbody tr th:only-of-type {\n",
       "        vertical-align: middle;\n",
       "    }\n",
       "\n",
       "    .dataframe tbody tr th {\n",
       "        vertical-align: top;\n",
       "    }\n",
       "\n",
       "    .dataframe thead th {\n",
       "        text-align: right;\n",
       "    }\n",
       "</style>\n",
       "<table border=\"1\" class=\"dataframe\">\n",
       "  <thead>\n",
       "    <tr style=\"text-align: right;\">\n",
       "      <th></th>\n",
       "      <th>RENDERING_NPI</th>\n",
       "      <th>PROVIDER_LEGAL_NAME</th>\n",
       "      <th>CALENDAR_YEAR</th>\n",
       "      <th>DELIVERY_SYSTEM</th>\n",
       "      <th>DELIVERY_SYSTEM_ENCODED</th>\n",
       "      <th>PROVIDER_TYPE</th>\n",
       "      <th>PROVIDER_TYPE_ENCODED</th>\n",
       "      <th>AGE_GROUP</th>\n",
       "      <th>AGE_GROUP_ENCODED</th>\n",
       "      <th>ADV_USER_CNT</th>\n",
       "      <th>...</th>\n",
       "      <th>PREV_SVC_CNT</th>\n",
       "      <th>PREV_SVC_ANNOTATION_CODE</th>\n",
       "      <th>TXMT_USER_CNT</th>\n",
       "      <th>TXMT_USER_ ANNOTATION_CODE</th>\n",
       "      <th>TXMT_SVC_CNT</th>\n",
       "      <th>TXMT_SVC_ANNOTATION_CODE</th>\n",
       "      <th>EXAM_USER_CNT</th>\n",
       "      <th>EXAM_USER_ANNOTATION_CODE</th>\n",
       "      <th>EXAM_SVC_CNT</th>\n",
       "      <th>EXAM_SVC_ANNOTATION_CODE</th>\n",
       "    </tr>\n",
       "  </thead>\n",
       "  <tbody>\n",
       "    <tr>\n",
       "      <th>0</th>\n",
       "      <td>1003003781</td>\n",
       "      <td>CHOTI SUPAK</td>\n",
       "      <td>2018</td>\n",
       "      <td>FFS</td>\n",
       "      <td>0</td>\n",
       "      <td>RENDERING</td>\n",
       "      <td>0</td>\n",
       "      <td>AGE 0-20</td>\n",
       "      <td>0</td>\n",
       "      <td>101.0</td>\n",
       "      <td>...</td>\n",
       "      <td>216.0</td>\n",
       "      <td>-1.0</td>\n",
       "      <td>37.0</td>\n",
       "      <td>-1.0</td>\n",
       "      <td>115.0</td>\n",
       "      <td>-1.0</td>\n",
       "      <td>83.0</td>\n",
       "      <td>-1.0</td>\n",
       "      <td>98.0</td>\n",
       "      <td>-1.0</td>\n",
       "    </tr>\n",
       "    <tr>\n",
       "      <th>1</th>\n",
       "      <td>1003003781</td>\n",
       "      <td>CHOTI SUPAK</td>\n",
       "      <td>2018</td>\n",
       "      <td>FFS</td>\n",
       "      <td>0</td>\n",
       "      <td>RENDERING</td>\n",
       "      <td>0</td>\n",
       "      <td>AGE 21+</td>\n",
       "      <td>1</td>\n",
       "      <td>67.0</td>\n",
       "      <td>...</td>\n",
       "      <td>30.0</td>\n",
       "      <td>-1.0</td>\n",
       "      <td>43.0</td>\n",
       "      <td>-1.0</td>\n",
       "      <td>73.0</td>\n",
       "      <td>-1.0</td>\n",
       "      <td>15.0</td>\n",
       "      <td>-1.0</td>\n",
       "      <td>15.0</td>\n",
       "      <td>-1.0</td>\n",
       "    </tr>\n",
       "    <tr>\n",
       "      <th>2</th>\n",
       "      <td>1003004698</td>\n",
       "      <td>GODFREY III, MERLE FRANKLIN,</td>\n",
       "      <td>2018</td>\n",
       "      <td>FFS</td>\n",
       "      <td>0</td>\n",
       "      <td>RENDERING</td>\n",
       "      <td>0</td>\n",
       "      <td>AGE 21+</td>\n",
       "      <td>1</td>\n",
       "      <td>357.0</td>\n",
       "      <td>...</td>\n",
       "      <td>131.0</td>\n",
       "      <td>-1.0</td>\n",
       "      <td>357.0</td>\n",
       "      <td>-1.0</td>\n",
       "      <td>712.0</td>\n",
       "      <td>-1.0</td>\n",
       "      <td>316.0</td>\n",
       "      <td>-1.0</td>\n",
       "      <td>316.0</td>\n",
       "      <td>-1.0</td>\n",
       "    </tr>\n",
       "    <tr>\n",
       "      <th>3</th>\n",
       "      <td>1003009440</td>\n",
       "      <td>VONTELA REKHA</td>\n",
       "      <td>2018</td>\n",
       "      <td>FFS</td>\n",
       "      <td>0</td>\n",
       "      <td>RENDERING</td>\n",
       "      <td>0</td>\n",
       "      <td>AGE 0-20</td>\n",
       "      <td>0</td>\n",
       "      <td>975.0</td>\n",
       "      <td>...</td>\n",
       "      <td>3732.0</td>\n",
       "      <td>-1.0</td>\n",
       "      <td>208.0</td>\n",
       "      <td>-1.0</td>\n",
       "      <td>456.0</td>\n",
       "      <td>-1.0</td>\n",
       "      <td>919.0</td>\n",
       "      <td>-1.0</td>\n",
       "      <td>1081.0</td>\n",
       "      <td>-1.0</td>\n",
       "    </tr>\n",
       "    <tr>\n",
       "      <th>4</th>\n",
       "      <td>1003009440</td>\n",
       "      <td>VONTELA REKHA</td>\n",
       "      <td>2018</td>\n",
       "      <td>FFS</td>\n",
       "      <td>0</td>\n",
       "      <td>RENDERING</td>\n",
       "      <td>0</td>\n",
       "      <td>AGE 21+</td>\n",
       "      <td>1</td>\n",
       "      <td>837.0</td>\n",
       "      <td>...</td>\n",
       "      <td>1396.0</td>\n",
       "      <td>-1.0</td>\n",
       "      <td>335.0</td>\n",
       "      <td>-1.0</td>\n",
       "      <td>824.0</td>\n",
       "      <td>-1.0</td>\n",
       "      <td>744.0</td>\n",
       "      <td>-1.0</td>\n",
       "      <td>744.0</td>\n",
       "      <td>-1.0</td>\n",
       "    </tr>\n",
       "  </tbody>\n",
       "</table>\n",
       "<p>5 rows × 25 columns</p>\n",
       "</div>"
      ],
      "text/plain": [
       "   RENDERING_NPI           PROVIDER_LEGAL_NAME  CALENDAR_YEAR DELIVERY_SYSTEM  \\\n",
       "0     1003003781                   CHOTI SUPAK           2018             FFS   \n",
       "1     1003003781                   CHOTI SUPAK           2018             FFS   \n",
       "2     1003004698  GODFREY III, MERLE FRANKLIN,           2018             FFS   \n",
       "3     1003009440                 VONTELA REKHA           2018             FFS   \n",
       "4     1003009440                 VONTELA REKHA           2018             FFS   \n",
       "\n",
       "   DELIVERY_SYSTEM_ENCODED PROVIDER_TYPE  PROVIDER_TYPE_ENCODED AGE_GROUP  \\\n",
       "0                        0     RENDERING                      0  AGE 0-20   \n",
       "1                        0     RENDERING                      0   AGE 21+   \n",
       "2                        0     RENDERING                      0   AGE 21+   \n",
       "3                        0     RENDERING                      0  AGE 0-20   \n",
       "4                        0     RENDERING                      0   AGE 21+   \n",
       "\n",
       "   AGE_GROUP_ENCODED  ADV_USER_CNT  ...  PREV_SVC_CNT  \\\n",
       "0                  0         101.0  ...         216.0   \n",
       "1                  1          67.0  ...          30.0   \n",
       "2                  1         357.0  ...         131.0   \n",
       "3                  0         975.0  ...        3732.0   \n",
       "4                  1         837.0  ...        1396.0   \n",
       "\n",
       "   PREV_SVC_ANNOTATION_CODE  TXMT_USER_CNT  TXMT_USER_ ANNOTATION_CODE  \\\n",
       "0                      -1.0           37.0                        -1.0   \n",
       "1                      -1.0           43.0                        -1.0   \n",
       "2                      -1.0          357.0                        -1.0   \n",
       "3                      -1.0          208.0                        -1.0   \n",
       "4                      -1.0          335.0                        -1.0   \n",
       "\n",
       "   TXMT_SVC_CNT  TXMT_SVC_ANNOTATION_CODE  EXAM_USER_CNT  \\\n",
       "0         115.0                      -1.0           83.0   \n",
       "1          73.0                      -1.0           15.0   \n",
       "2         712.0                      -1.0          316.0   \n",
       "3         456.0                      -1.0          919.0   \n",
       "4         824.0                      -1.0          744.0   \n",
       "\n",
       "   EXAM_USER_ANNOTATION_CODE  EXAM_SVC_CNT  EXAM_SVC_ANNOTATION_CODE  \n",
       "0                       -1.0          98.0                      -1.0  \n",
       "1                       -1.0          15.0                      -1.0  \n",
       "2                       -1.0         316.0                      -1.0  \n",
       "3                       -1.0        1081.0                      -1.0  \n",
       "4                       -1.0         744.0                      -1.0  \n",
       "\n",
       "[5 rows x 25 columns]"
      ]
     },
     "execution_count": 46,
     "metadata": {},
     "output_type": "execute_result"
    }
   ],
   "source": [
    "df.head(5)"
   ]
  },
  {
   "cell_type": "markdown",
   "id": "6fbab5de",
   "metadata": {},
   "source": [
    "Because it's unclear as to how this data is going to be used in the final product, for now let's go further based on few assumptions in the best of my understanding about the data.\n",
    "\n",
    "If a clinic has high counts of **ADV_SVC_CNT** (Advanced Service Count) and **TXMT_SVC_CNT** (Treatment Service Count) which means they require labs with strong expertise and capable of complex procedures."
   ]
  },
  {
   "cell_type": "code",
   "execution_count": 47,
   "id": "f10083f3",
   "metadata": {},
   "outputs": [
    {
     "data": {
      "text/plain": [
       "10945"
      ]
     },
     "execution_count": 47,
     "metadata": {},
     "output_type": "execute_result"
    }
   ],
   "source": [
    "len(df['PROVIDER_LEGAL_NAME'].unique())"
   ]
  },
  {
   "cell_type": "markdown",
   "id": "717b0a32",
   "metadata": {},
   "source": [
    "Attempting to retrieve address details for a NPI number via the NPPES NPI Registry API, this could be later used to narrow down to the closest lab available for a clinic."
   ]
  },
  {
   "cell_type": "code",
   "execution_count": 48,
   "id": "b7c567a3",
   "metadata": {},
   "outputs": [],
   "source": [
    "import requests"
   ]
  },
  {
   "cell_type": "code",
   "execution_count": 49,
   "id": "7e9719b8",
   "metadata": {},
   "outputs": [
    {
     "name": "stdout",
     "output_type": "stream",
     "text": [
      "https://npiregistry.cms.hhs.gov/api/?number=1003003781&enumeration_type=&taxonomy_description=&name_purpose=&first_name=&use_first_name_alias=&last_name=&organization_name=&address_purpose=&city=&state=&postal_code=&country_code=&limit=&skip=&pretty=&version=2.1\n"
     ]
    }
   ],
   "source": [
    "NPI_NUMBER = 1003003781\n",
    "api_url = f\"https://npiregistry.cms.hhs.gov/api/?number={NPI_NUMBER}&enumeration_type=&taxonomy_description=&name_purpose=&first_name=&use_first_name_alias=&last_name=&organization_name=&address_purpose=&city=&state=&postal_code=&country_code=&limit=&skip=&pretty=&version=2.1\"\n",
    "print(api_url)"
   ]
  },
  {
   "cell_type": "code",
   "execution_count": 50,
   "id": "9ad46d53",
   "metadata": {},
   "outputs": [
    {
     "data": {
      "text/plain": [
       "96013"
      ]
     },
     "execution_count": 50,
     "metadata": {},
     "output_type": "execute_result"
    }
   ],
   "source": [
    "response = requests.get(api_url)\n",
    "data = response.json()\n",
    "\n",
    "#gets first 5 digits of the postal code, going by the ZIP + 4 digit format\n",
    "int(data['results'][0]['addresses'][1]['postal_code']) // 10000 "
   ]
  },
  {
   "cell_type": "markdown",
   "id": "0145b60c",
   "metadata": {},
   "source": [
    "This postal code can be retrieved for all unique NPIs, which can be used to determine labs based on proximity."
   ]
  },
  {
   "cell_type": "code",
   "execution_count": 53,
   "id": "6176bcf4",
   "metadata": {},
   "outputs": [
    {
     "data": {
      "text/html": [
       "<div>\n",
       "<style scoped>\n",
       "    .dataframe tbody tr th:only-of-type {\n",
       "        vertical-align: middle;\n",
       "    }\n",
       "\n",
       "    .dataframe tbody tr th {\n",
       "        vertical-align: top;\n",
       "    }\n",
       "\n",
       "    .dataframe thead th {\n",
       "        text-align: right;\n",
       "    }\n",
       "</style>\n",
       "<table border=\"1\" class=\"dataframe\">\n",
       "  <thead>\n",
       "    <tr style=\"text-align: right;\">\n",
       "      <th></th>\n",
       "      <th>RENDERING_NPI</th>\n",
       "      <th>POSTAL_CODE</th>\n",
       "    </tr>\n",
       "  </thead>\n",
       "  <tbody>\n",
       "    <tr>\n",
       "      <th>0</th>\n",
       "      <td>1003003781</td>\n",
       "      <td>95131</td>\n",
       "    </tr>\n",
       "    <tr>\n",
       "      <th>1</th>\n",
       "      <td>1003004698</td>\n",
       "      <td>91067</td>\n",
       "    </tr>\n",
       "    <tr>\n",
       "      <th>2</th>\n",
       "      <td>1003009440</td>\n",
       "      <td>93432</td>\n",
       "    </tr>\n",
       "    <tr>\n",
       "      <th>3</th>\n",
       "      <td>1003010372</td>\n",
       "      <td>95632</td>\n",
       "    </tr>\n",
       "    <tr>\n",
       "      <th>4</th>\n",
       "      <td>1003011172</td>\n",
       "      <td>95761</td>\n",
       "    </tr>\n",
       "  </tbody>\n",
       "</table>\n",
       "</div>"
      ],
      "text/plain": [
       "   RENDERING_NPI POSTAL_CODE\n",
       "0     1003003781       95131\n",
       "1     1003004698       91067\n",
       "2     1003009440       93432\n",
       "3     1003010372       95632\n",
       "4     1003011172       95761"
      ]
     },
     "execution_count": 53,
     "metadata": {},
     "output_type": "execute_result"
    }
   ],
   "source": [
    "from faker import Faker\n",
    "\n",
    "fake = Faker('en_US')\n",
    "\n",
    "df_npi_unique = df['RENDERING_NPI'].unique()\n",
    "\n",
    "npi_postal_codes = []\n",
    "\n",
    "for npi in df_npi_unique:\n",
    "    try:\n",
    "        postal_code_5_digits = fake.zipcode_in_state(state_abbr='CA')\n",
    "        \n",
    "    except (requests.exceptions.RequestException, KeyError, IndexError) as e:\n",
    "        print(f\"Failed to retrieve real postal code for NPI {npi}. Reason: {e}\")\n",
    "        \n",
    "    finally:\n",
    "        npi_postal_codes.append({'RENDERING_NPI': npi, 'POSTAL_CODE': postal_code_5_digits})\n",
    "\n",
    "df_npi_postal_codes = pd.DataFrame(npi_postal_codes)\n",
    "df_npi_postal_codes.head(5)"
   ]
  },
  {
   "cell_type": "markdown",
   "id": "bc7f28bc",
   "metadata": {},
   "source": [
    "Besides postal code, I think it'd be safe to assume the following:\n",
    "* **TXMT_TO_EXAM_RATIO**: Average Treatment Service, can be determined by $\\frac{Treatment Service Count}{Exam Service Count}$, a higher value of this indicate that the clinic focuses more on advanced treatment.\n",
    "* **PREV_TO_EXAM_RATIO**: Average Preventive Servce, can be determined by $\\frac{Preventive Service Count}{Exam Service Count}$, a higher value of this would show otherwise, puts more emphasis on preventive care.\n",
    "\n",
    "Adding these columns to the data"
   ]
  },
  {
   "cell_type": "code",
   "execution_count": null,
   "id": "f7d698e9",
   "metadata": {},
   "outputs": [
    {
     "data": {
      "text/html": [
       "<div>\n",
       "<style scoped>\n",
       "    .dataframe tbody tr th:only-of-type {\n",
       "        vertical-align: middle;\n",
       "    }\n",
       "\n",
       "    .dataframe tbody tr th {\n",
       "        vertical-align: top;\n",
       "    }\n",
       "\n",
       "    .dataframe thead th {\n",
       "        text-align: right;\n",
       "    }\n",
       "</style>\n",
       "<table border=\"1\" class=\"dataframe\">\n",
       "  <thead>\n",
       "    <tr style=\"text-align: right;\">\n",
       "      <th></th>\n",
       "      <th>RENDERING_NPI</th>\n",
       "      <th>PROVIDER_LEGAL_NAME</th>\n",
       "      <th>CALENDAR_YEAR</th>\n",
       "      <th>DELIVERY_SYSTEM</th>\n",
       "      <th>DELIVERY_SYSTEM_ENCODED</th>\n",
       "      <th>PROVIDER_TYPE</th>\n",
       "      <th>PROVIDER_TYPE_ENCODED</th>\n",
       "      <th>AGE_GROUP</th>\n",
       "      <th>AGE_GROUP_ENCODED</th>\n",
       "      <th>ADV_USER_CNT</th>\n",
       "      <th>...</th>\n",
       "      <th>TXMT_USER_ ANNOTATION_CODE</th>\n",
       "      <th>TXMT_SVC_CNT</th>\n",
       "      <th>TXMT_SVC_ANNOTATION_CODE</th>\n",
       "      <th>EXAM_USER_CNT</th>\n",
       "      <th>EXAM_USER_ANNOTATION_CODE</th>\n",
       "      <th>EXAM_SVC_CNT</th>\n",
       "      <th>EXAM_SVC_ANNOTATION_CODE</th>\n",
       "      <th>PREV_TO_EXAM_RATIO</th>\n",
       "      <th>TXMT_TO_EXAM_RATIO</th>\n",
       "      <th>ADV_TO_EXAM_RATIO</th>\n",
       "    </tr>\n",
       "  </thead>\n",
       "  <tbody>\n",
       "    <tr>\n",
       "      <th>0</th>\n",
       "      <td>1003003781</td>\n",
       "      <td>CHOTI SUPAK</td>\n",
       "      <td>2018</td>\n",
       "      <td>FFS</td>\n",
       "      <td>0</td>\n",
       "      <td>RENDERING</td>\n",
       "      <td>0</td>\n",
       "      <td>AGE 0-20</td>\n",
       "      <td>0</td>\n",
       "      <td>101.0</td>\n",
       "      <td>...</td>\n",
       "      <td>-1.0</td>\n",
       "      <td>115.0</td>\n",
       "      <td>-1.0</td>\n",
       "      <td>83.0</td>\n",
       "      <td>-1.0</td>\n",
       "      <td>98.0</td>\n",
       "      <td>-1.0</td>\n",
       "      <td>2.204082</td>\n",
       "      <td>1.173469</td>\n",
       "      <td>8.642857</td>\n",
       "    </tr>\n",
       "    <tr>\n",
       "      <th>1</th>\n",
       "      <td>1003003781</td>\n",
       "      <td>CHOTI SUPAK</td>\n",
       "      <td>2018</td>\n",
       "      <td>FFS</td>\n",
       "      <td>0</td>\n",
       "      <td>RENDERING</td>\n",
       "      <td>0</td>\n",
       "      <td>AGE 21+</td>\n",
       "      <td>1</td>\n",
       "      <td>67.0</td>\n",
       "      <td>...</td>\n",
       "      <td>-1.0</td>\n",
       "      <td>73.0</td>\n",
       "      <td>-1.0</td>\n",
       "      <td>15.0</td>\n",
       "      <td>-1.0</td>\n",
       "      <td>15.0</td>\n",
       "      <td>-1.0</td>\n",
       "      <td>2.000000</td>\n",
       "      <td>4.866667</td>\n",
       "      <td>16.866667</td>\n",
       "    </tr>\n",
       "    <tr>\n",
       "      <th>2</th>\n",
       "      <td>1003004698</td>\n",
       "      <td>GODFREY III, MERLE FRANKLIN,</td>\n",
       "      <td>2018</td>\n",
       "      <td>FFS</td>\n",
       "      <td>0</td>\n",
       "      <td>RENDERING</td>\n",
       "      <td>0</td>\n",
       "      <td>AGE 21+</td>\n",
       "      <td>1</td>\n",
       "      <td>357.0</td>\n",
       "      <td>...</td>\n",
       "      <td>-1.0</td>\n",
       "      <td>712.0</td>\n",
       "      <td>-1.0</td>\n",
       "      <td>316.0</td>\n",
       "      <td>-1.0</td>\n",
       "      <td>316.0</td>\n",
       "      <td>-1.0</td>\n",
       "      <td>0.414557</td>\n",
       "      <td>2.253165</td>\n",
       "      <td>3.838608</td>\n",
       "    </tr>\n",
       "    <tr>\n",
       "      <th>3</th>\n",
       "      <td>1003009440</td>\n",
       "      <td>VONTELA REKHA</td>\n",
       "      <td>2018</td>\n",
       "      <td>FFS</td>\n",
       "      <td>0</td>\n",
       "      <td>RENDERING</td>\n",
       "      <td>0</td>\n",
       "      <td>AGE 0-20</td>\n",
       "      <td>0</td>\n",
       "      <td>975.0</td>\n",
       "      <td>...</td>\n",
       "      <td>-1.0</td>\n",
       "      <td>456.0</td>\n",
       "      <td>-1.0</td>\n",
       "      <td>919.0</td>\n",
       "      <td>-1.0</td>\n",
       "      <td>1081.0</td>\n",
       "      <td>-1.0</td>\n",
       "      <td>3.452359</td>\n",
       "      <td>0.421832</td>\n",
       "      <td>8.124884</td>\n",
       "    </tr>\n",
       "    <tr>\n",
       "      <th>4</th>\n",
       "      <td>1003009440</td>\n",
       "      <td>VONTELA REKHA</td>\n",
       "      <td>2018</td>\n",
       "      <td>FFS</td>\n",
       "      <td>0</td>\n",
       "      <td>RENDERING</td>\n",
       "      <td>0</td>\n",
       "      <td>AGE 21+</td>\n",
       "      <td>1</td>\n",
       "      <td>837.0</td>\n",
       "      <td>...</td>\n",
       "      <td>-1.0</td>\n",
       "      <td>824.0</td>\n",
       "      <td>-1.0</td>\n",
       "      <td>744.0</td>\n",
       "      <td>-1.0</td>\n",
       "      <td>744.0</td>\n",
       "      <td>-1.0</td>\n",
       "      <td>1.876344</td>\n",
       "      <td>1.107527</td>\n",
       "      <td>7.173387</td>\n",
       "    </tr>\n",
       "  </tbody>\n",
       "</table>\n",
       "<p>5 rows × 28 columns</p>\n",
       "</div>"
      ],
      "text/plain": [
       "   RENDERING_NPI           PROVIDER_LEGAL_NAME  CALENDAR_YEAR DELIVERY_SYSTEM  \\\n",
       "0     1003003781                   CHOTI SUPAK           2018             FFS   \n",
       "1     1003003781                   CHOTI SUPAK           2018             FFS   \n",
       "2     1003004698  GODFREY III, MERLE FRANKLIN,           2018             FFS   \n",
       "3     1003009440                 VONTELA REKHA           2018             FFS   \n",
       "4     1003009440                 VONTELA REKHA           2018             FFS   \n",
       "\n",
       "   DELIVERY_SYSTEM_ENCODED PROVIDER_TYPE  PROVIDER_TYPE_ENCODED AGE_GROUP  \\\n",
       "0                        0     RENDERING                      0  AGE 0-20   \n",
       "1                        0     RENDERING                      0   AGE 21+   \n",
       "2                        0     RENDERING                      0   AGE 21+   \n",
       "3                        0     RENDERING                      0  AGE 0-20   \n",
       "4                        0     RENDERING                      0   AGE 21+   \n",
       "\n",
       "   AGE_GROUP_ENCODED  ADV_USER_CNT  ...  TXMT_USER_ ANNOTATION_CODE  \\\n",
       "0                  0         101.0  ...                        -1.0   \n",
       "1                  1          67.0  ...                        -1.0   \n",
       "2                  1         357.0  ...                        -1.0   \n",
       "3                  0         975.0  ...                        -1.0   \n",
       "4                  1         837.0  ...                        -1.0   \n",
       "\n",
       "   TXMT_SVC_CNT  TXMT_SVC_ANNOTATION_CODE  EXAM_USER_CNT  \\\n",
       "0         115.0                      -1.0           83.0   \n",
       "1          73.0                      -1.0           15.0   \n",
       "2         712.0                      -1.0          316.0   \n",
       "3         456.0                      -1.0          919.0   \n",
       "4         824.0                      -1.0          744.0   \n",
       "\n",
       "   EXAM_USER_ANNOTATION_CODE  EXAM_SVC_CNT  EXAM_SVC_ANNOTATION_CODE  \\\n",
       "0                       -1.0          98.0                      -1.0   \n",
       "1                       -1.0          15.0                      -1.0   \n",
       "2                       -1.0         316.0                      -1.0   \n",
       "3                       -1.0        1081.0                      -1.0   \n",
       "4                       -1.0         744.0                      -1.0   \n",
       "\n",
       "   PREV_TO_EXAM_RATIO  TXMT_TO_EXAM_RATIO  ADV_TO_EXAM_RATIO  \n",
       "0            2.204082            1.173469           8.642857  \n",
       "1            2.000000            4.866667          16.866667  \n",
       "2            0.414557            2.253165           3.838608  \n",
       "3            3.452359            0.421832           8.124884  \n",
       "4            1.876344            1.107527           7.173387  \n",
       "\n",
       "[5 rows x 28 columns]"
      ]
     },
     "execution_count": 70,
     "metadata": {},
     "output_type": "execute_result"
    }
   ],
   "source": [
    "import pandas as pd\n",
    "import numpy as np\n",
    "\n",
    "service_prefixes = ['PREV', 'TXMT', 'ADV']\n",
    "\n",
    "for prefix in service_prefixes:\n",
    "    feature = f'{prefix}_SVC_CNT'\n",
    "    df[f'{prefix}_TO_EXAM_RATIO'] = np.where(df['EXAM_SVC_CNT'] > 0, \n",
    "                                        df[feature] / df['EXAM_SVC_CNT'], \n",
    "                                        0)\n",
    "    \n",
    "df.head(5)"
   ]
  },
  {
   "cell_type": "markdown",
   "id": "d8a1a11d",
   "metadata": {},
   "source": [
    "In theory, here's how it could work:\n",
    "\n",
    "**Data Collection & Profiling**\n",
    "\n",
    "**Clinic Profile**:\\\n",
    "This would include\n",
    "* Postal Code\n",
    "* Demographic: Age group\n",
    "* Business Model: **RENDERING** or **RENDERING SNC** as provider types, and **FFS**, **GMC**, **PHP** as delivery system types.\n",
    "* Service Demand: **PREV_TO_EXAM_RATIO**, **TXMT_TO_EXAM_RATIO**, **ADV_TO_EXAM_RATIO**\n",
    "\n",
    "**Lab Profile**:\\\n",
    "This would include:\n",
    "* Postal Code\n",
    "* Specialization: *Restorative*, *Cosmetic*, *Preventive*\n",
    "* Business Model: Pricing structure, example: flat fee, or volume discounts"
   ]
  },
  {
   "cell_type": "markdown",
   "id": "cf0a8162",
   "metadata": {},
   "source": [
    "**The Matching Algorithm**\\\n",
    "Once both sets of data are profiled, the AI model performs a similarity-based matching process. The goal is to calculate a score for each potential clinic-lab pair based on how well they align.\n",
    "\n",
    "**Proximity Scoring**: The model calculates a proximity score by comparing the clinic's postal code to each lab's postal code. The closer the two are, the higher the score. A direct zip code match would be the highest score.\n",
    "\n",
    "**Specialization Scoring**: The model compares the clinic's service demand profile with the lab's specializations.\n",
    "\n",
    "If a clinic has a high **TXMT_TO_EXAM_RATIO**, the model will give a higher score to a lab that specializes in crowns and bridges.\n",
    "\n",
    "If a clinic has a high **PREV_TO_EXAM_RATIO**, the model will give a high score to a lab that focuses on mouthguards and retainers.\n",
    "\n",
    "**Business Model Scoring**: The model will align business models based on provider type (**RENDERING / RENDERING SNC**) or the delivery method (**FFS, GMC, PHP**)."
   ]
  },
  {
   "cell_type": "markdown",
   "id": "f5baf38f",
   "metadata": {},
   "source": [
    "**Performing splits**"
   ]
  },
  {
   "cell_type": "code",
   "execution_count": null,
   "id": "62765b4d",
   "metadata": {},
   "outputs": [
    {
     "data": {
      "text/plain": [
       "Index(['RENDERING_NPI', 'PROVIDER_LEGAL_NAME', 'CALENDAR_YEAR',\n",
       "       'DELIVERY_SYSTEM', 'DELIVERY_SYSTEM_ENCODED', 'PROVIDER_TYPE',\n",
       "       'PROVIDER_TYPE_ENCODED', 'AGE_GROUP', 'AGE_GROUP_ENCODED',\n",
       "       'ADV_USER_CNT', 'ADV_USER_ANNOTATION_CODE', 'ADV_SVC_CNT',\n",
       "       'ADV_SVC_ANNOTATION_CODE', 'PREV_USER_CNT', 'PREV_USER_ANNOTATION_CODE',\n",
       "       'PREV_SVC_CNT', 'PREV_SVC_ANNOTATION_CODE', 'TXMT_USER_CNT',\n",
       "       'TXMT_USER_ ANNOTATION_CODE', 'TXMT_SVC_CNT',\n",
       "       'TXMT_SVC_ANNOTATION_CODE', 'EXAM_USER_CNT',\n",
       "       'EXAM_USER_ANNOTATION_CODE', 'EXAM_SVC_CNT', 'EXAM_SVC_ANNOTATION_CODE',\n",
       "       'PREV_TO_EXAM_RATIO', 'TXMT_TO_EXAM_RATIO', 'ADV_TO_EXAM_RATIO'],\n",
       "      dtype='object')"
      ]
     },
     "execution_count": 88,
     "metadata": {},
     "output_type": "execute_result"
    }
   ],
   "source": [
    "df.columns"
   ]
  },
  {
   "cell_type": "code",
   "execution_count": null,
   "id": "739d4feb",
   "metadata": {},
   "outputs": [
    {
     "data": {
      "text/html": [
       "<div>\n",
       "<style scoped>\n",
       "    .dataframe tbody tr th:only-of-type {\n",
       "        vertical-align: middle;\n",
       "    }\n",
       "\n",
       "    .dataframe tbody tr th {\n",
       "        vertical-align: top;\n",
       "    }\n",
       "\n",
       "    .dataframe thead th {\n",
       "        text-align: right;\n",
       "    }\n",
       "</style>\n",
       "<table border=\"1\" class=\"dataframe\">\n",
       "  <thead>\n",
       "    <tr style=\"text-align: right;\">\n",
       "      <th></th>\n",
       "      <th>RENDERING_NPI</th>\n",
       "      <th>PROVIDER_LEGAL_NAME</th>\n",
       "      <th>CALENDAR_YEAR</th>\n",
       "      <th>DELIVERY_SYSTEM</th>\n",
       "      <th>DELIVERY_SYSTEM_ENCODED</th>\n",
       "      <th>PROVIDER_TYPE</th>\n",
       "      <th>PROVIDER_TYPE_ENCODED</th>\n",
       "      <th>AGE_GROUP</th>\n",
       "      <th>AGE_GROUP_ENCODED</th>\n",
       "      <th>ADV_USER_CNT</th>\n",
       "      <th>...</th>\n",
       "      <th>TXMT_USER_ ANNOTATION_CODE</th>\n",
       "      <th>TXMT_SVC_CNT</th>\n",
       "      <th>TXMT_SVC_ANNOTATION_CODE</th>\n",
       "      <th>EXAM_USER_CNT</th>\n",
       "      <th>EXAM_USER_ANNOTATION_CODE</th>\n",
       "      <th>EXAM_SVC_CNT</th>\n",
       "      <th>EXAM_SVC_ANNOTATION_CODE</th>\n",
       "      <th>PREV_TO_EXAM_RATIO</th>\n",
       "      <th>TXMT_TO_EXAM_RATIO</th>\n",
       "      <th>ADV_TO_EXAM_RATIO</th>\n",
       "    </tr>\n",
       "  </thead>\n",
       "  <tbody>\n",
       "    <tr>\n",
       "      <th>0</th>\n",
       "      <td>1003003781</td>\n",
       "      <td>CHOTI SUPAK</td>\n",
       "      <td>2018</td>\n",
       "      <td>FFS</td>\n",
       "      <td>0</td>\n",
       "      <td>RENDERING</td>\n",
       "      <td>0</td>\n",
       "      <td>AGE 0-20</td>\n",
       "      <td>0</td>\n",
       "      <td>101.0</td>\n",
       "      <td>...</td>\n",
       "      <td>-1.0</td>\n",
       "      <td>115.0</td>\n",
       "      <td>-1.0</td>\n",
       "      <td>83.0</td>\n",
       "      <td>-1.0</td>\n",
       "      <td>98.0</td>\n",
       "      <td>-1.0</td>\n",
       "      <td>2.204082</td>\n",
       "      <td>1.173469</td>\n",
       "      <td>8.642857</td>\n",
       "    </tr>\n",
       "  </tbody>\n",
       "</table>\n",
       "<p>1 rows × 28 columns</p>\n",
       "</div>"
      ],
      "text/plain": [
       "   RENDERING_NPI PROVIDER_LEGAL_NAME  CALENDAR_YEAR DELIVERY_SYSTEM  \\\n",
       "0     1003003781         CHOTI SUPAK           2018             FFS   \n",
       "\n",
       "   DELIVERY_SYSTEM_ENCODED PROVIDER_TYPE  PROVIDER_TYPE_ENCODED AGE_GROUP  \\\n",
       "0                        0     RENDERING                      0  AGE 0-20   \n",
       "\n",
       "   AGE_GROUP_ENCODED  ADV_USER_CNT  ...  TXMT_USER_ ANNOTATION_CODE  \\\n",
       "0                  0         101.0  ...                        -1.0   \n",
       "\n",
       "   TXMT_SVC_CNT  TXMT_SVC_ANNOTATION_CODE  EXAM_USER_CNT  \\\n",
       "0         115.0                      -1.0           83.0   \n",
       "\n",
       "   EXAM_USER_ANNOTATION_CODE  EXAM_SVC_CNT  EXAM_SVC_ANNOTATION_CODE  \\\n",
       "0                       -1.0          98.0                      -1.0   \n",
       "\n",
       "   PREV_TO_EXAM_RATIO  TXMT_TO_EXAM_RATIO  ADV_TO_EXAM_RATIO  \n",
       "0            2.204082            1.173469           8.642857  \n",
       "\n",
       "[1 rows x 28 columns]"
      ]
     },
     "execution_count": 78,
     "metadata": {},
     "output_type": "execute_result"
    }
   ],
   "source": [
    "df.head(1)"
   ]
  },
  {
   "cell_type": "markdown",
   "id": "a1bbf34a",
   "metadata": {},
   "source": [
    "**D-Numeric: all-numeric data**"
   ]
  },
  {
   "cell_type": "code",
   "execution_count": null,
   "id": "257a69be",
   "metadata": {},
   "outputs": [
    {
     "data": {
      "text/html": [
       "<div>\n",
       "<style scoped>\n",
       "    .dataframe tbody tr th:only-of-type {\n",
       "        vertical-align: middle;\n",
       "    }\n",
       "\n",
       "    .dataframe tbody tr th {\n",
       "        vertical-align: top;\n",
       "    }\n",
       "\n",
       "    .dataframe thead th {\n",
       "        text-align: right;\n",
       "    }\n",
       "</style>\n",
       "<table border=\"1\" class=\"dataframe\">\n",
       "  <thead>\n",
       "    <tr style=\"text-align: right;\">\n",
       "      <th></th>\n",
       "      <th>RENDERING_NPI</th>\n",
       "      <th>DELIVERY_SYSTEM_ENCODED</th>\n",
       "      <th>PROVIDER_TYPE_ENCODED</th>\n",
       "      <th>AGE_GROUP_ENCODED</th>\n",
       "      <th>ADV_USER_CNT</th>\n",
       "      <th>ADV_USER_ANNOTATION_CODE</th>\n",
       "      <th>ADV_SVC_CNT</th>\n",
       "      <th>ADV_SVC_ANNOTATION_CODE</th>\n",
       "      <th>PREV_USER_CNT</th>\n",
       "      <th>PREV_USER_ANNOTATION_CODE</th>\n",
       "      <th>...</th>\n",
       "      <th>TXMT_USER_ ANNOTATION_CODE</th>\n",
       "      <th>TXMT_SVC_CNT</th>\n",
       "      <th>TXMT_SVC_ANNOTATION_CODE</th>\n",
       "      <th>EXAM_USER_CNT</th>\n",
       "      <th>EXAM_USER_ANNOTATION_CODE</th>\n",
       "      <th>EXAM_SVC_CNT</th>\n",
       "      <th>EXAM_SVC_ANNOTATION_CODE</th>\n",
       "      <th>PREV_TO_EXAM_RATIO</th>\n",
       "      <th>TXMT_TO_EXAM_RATIO</th>\n",
       "      <th>ADV_TO_EXAM_RATIO</th>\n",
       "    </tr>\n",
       "  </thead>\n",
       "  <tbody>\n",
       "    <tr>\n",
       "      <th>0</th>\n",
       "      <td>1003003781</td>\n",
       "      <td>0</td>\n",
       "      <td>0</td>\n",
       "      <td>0</td>\n",
       "      <td>101.0</td>\n",
       "      <td>-1.0</td>\n",
       "      <td>847.0</td>\n",
       "      <td>-1.0</td>\n",
       "      <td>89.0</td>\n",
       "      <td>-1.0</td>\n",
       "      <td>...</td>\n",
       "      <td>-1.0</td>\n",
       "      <td>115.0</td>\n",
       "      <td>-1.0</td>\n",
       "      <td>83.0</td>\n",
       "      <td>-1.0</td>\n",
       "      <td>98.0</td>\n",
       "      <td>-1.0</td>\n",
       "      <td>2.204082</td>\n",
       "      <td>1.173469</td>\n",
       "      <td>8.642857</td>\n",
       "    </tr>\n",
       "  </tbody>\n",
       "</table>\n",
       "<p>1 rows × 23 columns</p>\n",
       "</div>"
      ],
      "text/plain": [
       "   RENDERING_NPI  DELIVERY_SYSTEM_ENCODED  PROVIDER_TYPE_ENCODED  \\\n",
       "0     1003003781                        0                      0   \n",
       "\n",
       "   AGE_GROUP_ENCODED  ADV_USER_CNT  ADV_USER_ANNOTATION_CODE  ADV_SVC_CNT  \\\n",
       "0                  0         101.0                      -1.0        847.0   \n",
       "\n",
       "   ADV_SVC_ANNOTATION_CODE  PREV_USER_CNT  PREV_USER_ANNOTATION_CODE  ...  \\\n",
       "0                     -1.0           89.0                       -1.0  ...   \n",
       "\n",
       "   TXMT_USER_ ANNOTATION_CODE  TXMT_SVC_CNT  TXMT_SVC_ANNOTATION_CODE  \\\n",
       "0                        -1.0         115.0                      -1.0   \n",
       "\n",
       "   EXAM_USER_CNT  EXAM_USER_ANNOTATION_CODE  EXAM_SVC_CNT  \\\n",
       "0           83.0                       -1.0          98.0   \n",
       "\n",
       "   EXAM_SVC_ANNOTATION_CODE  PREV_TO_EXAM_RATIO  TXMT_TO_EXAM_RATIO  \\\n",
       "0                      -1.0            2.204082            1.173469   \n",
       "\n",
       "   ADV_TO_EXAM_RATIO  \n",
       "0           8.642857  \n",
       "\n",
       "[1 rows x 23 columns]"
      ]
     },
     "execution_count": 99,
     "metadata": {},
     "output_type": "execute_result"
    }
   ],
   "source": [
    "df_num_main = df[['RENDERING_NPI', 'DELIVERY_SYSTEM_ENCODED', 'PROVIDER_TYPE_ENCODED', 'AGE_GROUP_ENCODED', 'ADV_USER_CNT', 'ADV_USER_ANNOTATION_CODE', 'ADV_SVC_CNT',\n",
    "       'ADV_SVC_ANNOTATION_CODE', 'PREV_USER_CNT', 'PREV_USER_ANNOTATION_CODE',\n",
    "       'PREV_SVC_CNT', 'PREV_SVC_ANNOTATION_CODE', 'TXMT_USER_CNT',\n",
    "       'TXMT_USER_ ANNOTATION_CODE', 'TXMT_SVC_CNT',\n",
    "       'TXMT_SVC_ANNOTATION_CODE', 'EXAM_USER_CNT',\n",
    "       'EXAM_USER_ANNOTATION_CODE', 'EXAM_SVC_CNT', 'EXAM_SVC_ANNOTATION_CODE',\n",
    "       'PREV_TO_EXAM_RATIO', 'TXMT_TO_EXAM_RATIO', 'ADV_TO_EXAM_RATIO']].copy()\n",
    "df_num_main.head(1)"
   ]
  },
  {
   "cell_type": "code",
   "execution_count": null,
   "id": "b9547758",
   "metadata": {},
   "outputs": [],
   "source": [
    "df_num_main.to_csv('./data/trial/csv/all_numerical_v1.csv', index=False)\n",
    "df_num_main.to_excel('./data/trial/xlsx/all_numerical_v1.xlsx', index=False)"
   ]
  },
  {
   "cell_type": "markdown",
   "id": "9f58fb55",
   "metadata": {},
   "source": [
    "**D-General: NPI, Legal Name**"
   ]
  },
  {
   "cell_type": "code",
   "execution_count": null,
   "id": "c9e0d550",
   "metadata": {},
   "outputs": [],
   "source": [
    "df_general = df[['RENDERING_NPI', 'PROVIDER_LEGAL_NAME']].copy()"
   ]
  },
  {
   "cell_type": "code",
   "execution_count": null,
   "id": "35e55573",
   "metadata": {},
   "outputs": [],
   "source": [
    "df_general.to_csv('./data/trial/csv/d_general.csv', index=False)\n",
    "df_general.to_excel('./data/trial/xlsx/cleaned_v1.xlsx', index=False)"
   ]
  },
  {
   "cell_type": "markdown",
   "id": "50e009df",
   "metadata": {},
   "source": [
    "**D-Encoded: Delivery System, Provider Type, Age Group**"
   ]
  },
  {
   "cell_type": "code",
   "execution_count": null,
   "id": "9bfcc8a6",
   "metadata": {},
   "outputs": [
    {
     "data": {
      "text/html": [
       "<div>\n",
       "<style scoped>\n",
       "    .dataframe tbody tr th:only-of-type {\n",
       "        vertical-align: middle;\n",
       "    }\n",
       "\n",
       "    .dataframe tbody tr th {\n",
       "        vertical-align: top;\n",
       "    }\n",
       "\n",
       "    .dataframe thead th {\n",
       "        text-align: right;\n",
       "    }\n",
       "</style>\n",
       "<table border=\"1\" class=\"dataframe\">\n",
       "  <thead>\n",
       "    <tr style=\"text-align: right;\">\n",
       "      <th></th>\n",
       "      <th>DELIVERY_SYSTEM</th>\n",
       "      <th>DELIVERY_SYSTEM_ENCODED</th>\n",
       "    </tr>\n",
       "  </thead>\n",
       "  <tbody>\n",
       "    <tr>\n",
       "      <th>0</th>\n",
       "      <td>FFS</td>\n",
       "      <td>0</td>\n",
       "    </tr>\n",
       "    <tr>\n",
       "      <th>34</th>\n",
       "      <td>GMC</td>\n",
       "      <td>1</td>\n",
       "    </tr>\n",
       "    <tr>\n",
       "      <th>9</th>\n",
       "      <td>PHP</td>\n",
       "      <td>2</td>\n",
       "    </tr>\n",
       "  </tbody>\n",
       "</table>\n",
       "</div>"
      ],
      "text/plain": [
       "   DELIVERY_SYSTEM  DELIVERY_SYSTEM_ENCODED\n",
       "0              FFS                        0\n",
       "34             GMC                        1\n",
       "9              PHP                        2"
      ]
     },
     "execution_count": 96,
     "metadata": {},
     "output_type": "execute_result"
    }
   ],
   "source": [
    "d_encoded_delivery = df[['DELIVERY_SYSTEM', 'DELIVERY_SYSTEM_ENCODED']].drop_duplicates().sort_values('DELIVERY_SYSTEM_ENCODED').copy()\n",
    "d_encoded_delivery"
   ]
  },
  {
   "cell_type": "code",
   "execution_count": null,
   "id": "c1e6b34c",
   "metadata": {},
   "outputs": [],
   "source": [
    "d_encoded_delivery.to_csv('./data/trial/csv/d_encoded_delivery.csv', index=False)"
   ]
  },
  {
   "cell_type": "code",
   "execution_count": null,
   "id": "58d5b10e",
   "metadata": {},
   "outputs": [
    {
     "data": {
      "text/html": [
       "<div>\n",
       "<style scoped>\n",
       "    .dataframe tbody tr th:only-of-type {\n",
       "        vertical-align: middle;\n",
       "    }\n",
       "\n",
       "    .dataframe tbody tr th {\n",
       "        vertical-align: top;\n",
       "    }\n",
       "\n",
       "    .dataframe thead th {\n",
       "        text-align: right;\n",
       "    }\n",
       "</style>\n",
       "<table border=\"1\" class=\"dataframe\">\n",
       "  <thead>\n",
       "    <tr style=\"text-align: right;\">\n",
       "      <th></th>\n",
       "      <th>PROVIDER_TYPE</th>\n",
       "      <th>PROVIDER_TYPE_ENCODED</th>\n",
       "    </tr>\n",
       "  </thead>\n",
       "  <tbody>\n",
       "    <tr>\n",
       "      <th>0</th>\n",
       "      <td>RENDERING</td>\n",
       "      <td>0</td>\n",
       "    </tr>\n",
       "    <tr>\n",
       "      <th>19698</th>\n",
       "      <td>RENDERING SNC</td>\n",
       "      <td>1</td>\n",
       "    </tr>\n",
       "  </tbody>\n",
       "</table>\n",
       "</div>"
      ],
      "text/plain": [
       "       PROVIDER_TYPE  PROVIDER_TYPE_ENCODED\n",
       "0          RENDERING                      0\n",
       "19698  RENDERING SNC                      1"
      ]
     },
     "execution_count": 97,
     "metadata": {},
     "output_type": "execute_result"
    }
   ],
   "source": [
    "d_encoded_provider = df[['PROVIDER_TYPE', 'PROVIDER_TYPE_ENCODED']].drop_duplicates().sort_values('PROVIDER_TYPE_ENCODED').copy()\n",
    "d_encoded_provider"
   ]
  },
  {
   "cell_type": "code",
   "execution_count": null,
   "id": "2df08c9c",
   "metadata": {},
   "outputs": [],
   "source": [
    "d_encoded_provider.to_csv('./data/trial/csv/d_encoded_provider.csv', index=False)"
   ]
  },
  {
   "cell_type": "code",
   "execution_count": null,
   "id": "fa50e3be",
   "metadata": {},
   "outputs": [
    {
     "data": {
      "text/html": [
       "<div>\n",
       "<style scoped>\n",
       "    .dataframe tbody tr th:only-of-type {\n",
       "        vertical-align: middle;\n",
       "    }\n",
       "\n",
       "    .dataframe tbody tr th {\n",
       "        vertical-align: top;\n",
       "    }\n",
       "\n",
       "    .dataframe thead th {\n",
       "        text-align: right;\n",
       "    }\n",
       "</style>\n",
       "<table border=\"1\" class=\"dataframe\">\n",
       "  <thead>\n",
       "    <tr style=\"text-align: right;\">\n",
       "      <th></th>\n",
       "      <th>AGE_GROUP</th>\n",
       "      <th>AGE_GROUP_ENCODED</th>\n",
       "    </tr>\n",
       "  </thead>\n",
       "  <tbody>\n",
       "    <tr>\n",
       "      <th>0</th>\n",
       "      <td>AGE 0-20</td>\n",
       "      <td>0</td>\n",
       "    </tr>\n",
       "    <tr>\n",
       "      <th>1</th>\n",
       "      <td>AGE 21+</td>\n",
       "      <td>1</td>\n",
       "    </tr>\n",
       "  </tbody>\n",
       "</table>\n",
       "</div>"
      ],
      "text/plain": [
       "  AGE_GROUP  AGE_GROUP_ENCODED\n",
       "0  AGE 0-20                  0\n",
       "1   AGE 21+                  1"
      ]
     },
     "execution_count": 98,
     "metadata": {},
     "output_type": "execute_result"
    }
   ],
   "source": [
    "d_encoded_age = df[['AGE_GROUP', 'AGE_GROUP_ENCODED']].drop_duplicates().sort_values('AGE_GROUP_ENCODED').copy()\n",
    "d_encoded_age"
   ]
  },
  {
   "cell_type": "code",
   "execution_count": null,
   "id": "dd84e0ab",
   "metadata": {},
   "outputs": [],
   "source": [
    "d_encoded_age.to_csv('./data/trial/csv/d_encoded_age.csv', index=False)"
   ]
  },
  {
   "cell_type": "markdown",
   "id": "259ca907",
   "metadata": {},
   "source": [
    "**Generating artificial data for the lab-side using Faker library**"
   ]
  },
  {
   "cell_type": "code",
   "execution_count": null,
   "id": "cb495eb9",
   "metadata": {},
   "outputs": [
    {
     "name": "stdout",
     "output_type": "stream",
     "text": [
      "Successfully generated 10000 artificial lab records and saved to 'artificial_lab_data.csv'\n",
      "\n",
      "First 5 rows of the generated data:\n",
      "   lab_id                     lab_name postal_code  specialization_type  \\\n",
      "0       1  Cooper, Carter and Harrison       92023                    0   \n",
      "1       2    Wolf, Tanner and Chandler       93421                    2   \n",
      "2       3                  Jones Group       93701                    2   \n",
      "3       4                    Brown Inc       94655                    1   \n",
      "4       5             Trevino and Sons       91310                    2   \n",
      "\n",
      "   business_model  \n",
      "0               1  \n",
      "1               0  \n",
      "2               0  \n",
      "3               2  \n",
      "4               0  \n"
     ]
    }
   ],
   "source": [
    "import pandas as pd\n",
    "from faker import Faker\n",
    "import random\n",
    "\n",
    "fake = Faker('en_US')\n",
    "\n",
    "specialization_types = {\n",
    "    'restorative': 0,\n",
    "    'preventive': 1,\n",
    "    'cosmetic': 2\n",
    "}\n",
    "\n",
    "business_models = {\n",
    "    'full_service_lab': 0,\n",
    "    'specialty_lab': 1,\n",
    "    'milling_center': 2\n",
    "}\n",
    "\n",
    "num_records = 10000\n",
    "\n",
    "lab_ids = list(range(1, num_records + 1))\n",
    "lab_names = [fake.company() for _ in range(num_records)]\n",
    "postal_codes = [fake.zipcode_in_state(state_abbr='CA') for _ in range(num_records)]\n",
    "specializations = [random.choice(list(specialization_types.values())) for _ in range(num_records)]\n",
    "business_model_types = [random.choice(list(business_models.values())) for _ in range(num_records)]\n",
    "\n",
    "data = {\n",
    "    'lab_id': lab_ids,\n",
    "    'lab_name': lab_names,\n",
    "    'postal_code': postal_codes,\n",
    "    'specialization_type': specializations,\n",
    "    'business_model': business_model_types\n",
    "}\n",
    "\n",
    "df_lab = pd.DataFrame(data)\n",
    "print(df.head(5))"
   ]
  },
  {
   "cell_type": "code",
   "execution_count": null,
   "id": "7a1656a3",
   "metadata": {},
   "outputs": [],
   "source": [
    "df_lab.to_csv('./data/trial/artificial_lab_data.csv', index=False)"
   ]
  },
  {
   "cell_type": "markdown",
   "id": "e69bc840",
   "metadata": {},
   "source": [
    "**Combining clinic data and lab data to build a training dataset for machine learning algorithm - through custom logic**"
   ]
  },
  {
   "cell_type": "code",
   "execution_count": null,
   "id": "7fe9dc8d",
   "metadata": {},
   "outputs": [],
   "source": []
  }
 ],
 "metadata": {
  "kernelspec": {
   "display_name": "Python 3 (ipykernel)",
   "language": "python",
   "name": "python3"
  },
  "language_info": {
   "codemirror_mode": {
    "name": "ipython",
    "version": 3
   },
   "file_extension": ".py",
   "mimetype": "text/x-python",
   "name": "python",
   "nbconvert_exporter": "python",
   "pygments_lexer": "ipython3",
   "version": "3.9.23"
  }
 },
 "nbformat": 4,
 "nbformat_minor": 5
}
