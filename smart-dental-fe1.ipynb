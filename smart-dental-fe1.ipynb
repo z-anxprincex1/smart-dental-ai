{
  "cells": [
    {
      "cell_type": "code",
      "execution_count": null,
      "metadata": {
        "id": "ijlSlMeTJ9ro"
      },
      "outputs": [],
      "source": [
        "import pandas as pd\n",
        "import numpy as np\n",
        "from tqdm import tqdm"
      ]
    },
    {
      "cell_type": "code",
      "execution_count": null,
      "metadata": {
        "id": "L2mqP3xCO3-e"
      },
      "outputs": [],
      "source": [
        "df_synthetic = pd.read_csv('/content/d_all_synth.csv')"
      ]
    },
    {
      "cell_type": "code",
      "execution_count": null,
      "metadata": {
        "id": "ErLObt1sPQDE"
      },
      "outputs": [],
      "source": [
        "df_lab = pd.read_csv('/content/d_lab_400.csv')"
      ]
    },
    {
      "cell_type": "code",
      "execution_count": null,
      "metadata": {
        "colab": {
          "base_uri": "https://localhost:8080/"
        },
        "id": "dAlqu6oZPgzZ",
        "outputId": "74c94046-4662-4362-d82f-35b8b9ac78d6"
      },
      "outputs": [
        {
          "name": "stdout",
          "output_type": "stream",
          "text": [
            "Requirement already satisfied: tqdm in /usr/local/lib/python3.12/dist-packages (4.67.1)\n"
          ]
        }
      ],
      "source": [
        "!pip install tqdm"
      ]
    },
    {
      "cell_type": "code",
      "execution_count": null,
      "metadata": {
        "id": "DGxGmyttPa5X"
      },
      "outputs": [],
      "source": [
        "import pandas as pd\n",
        "import numpy as np\n",
        "from tqdm import tqdm\n",
        "\n",
        "tqdm.pandas()\n",
        "\n",
        "def retrieve_id_postal_for_match(postal_code, spec, bsns, df_lab):\n",
        "    \"\"\"\n",
        "    Searches for an eligible lab by expanding the numeric postal code range.\n",
        "    If no local match is found, it assigns a random lab that meets the\n",
        "    specialization and business model criteria.\n",
        "    \"\"\"\n",
        "    if pd.isna(postal_code) or pd.isna(spec) or pd.isna(bsns):\n",
        "         return {'FINAL_LAB_ID': [np.nan], 'FINAL_LAB_POSTAL_CODE': [np.nan]}\n",
        "\n",
        "    postal_code = int(postal_code)\n",
        "\n",
        "    full_eligible_pool = df_lab[\n",
        "        (df_lab['LAB_SPECIALIZATION'] == spec) &\n",
        "        (df_lab['LAB_TYPE'] == bsns)\n",
        "    ].copy()\n",
        "\n",
        "    search_increments = range(100, 6131, 100)\n",
        "\n",
        "    for current_increment in search_increments:\n",
        "        lower_bound = postal_code - current_increment\n",
        "        upper_bound = postal_code + current_increment\n",
        "\n",
        "        local_eligible_labs = full_eligible_pool[\n",
        "            (full_eligible_pool['LAB_POSTAL_CODE_INT'] >= lower_bound) &\n",
        "            (full_eligible_pool['LAB_POSTAL_CODE_INT'] <= upper_bound)\n",
        "        ][['LAB_ID', 'LAB_POSTAL_CODE']]\n",
        "\n",
        "        if not local_eligible_labs.empty:\n",
        "            best_match = local_eligible_labs.sample(n=1).iloc[0]\n",
        "\n",
        "            return {\n",
        "                'FINAL_LAB_ID': [int(best_match['LAB_ID'])],\n",
        "                'FINAL_LAB_POSTAL_CODE': [int(best_match['LAB_POSTAL_CODE'])]\n",
        "            }\n",
        "\n",
        "    if not full_eligible_pool.empty:\n",
        "        default_match = full_eligible_pool[['LAB_ID', 'LAB_POSTAL_CODE']].sample(n=1).iloc[0]\n",
        "\n",
        "        return {\n",
        "            'FINAL_LAB_ID': [int(default_match['LAB_ID'])],\n",
        "            'FINAL_LAB_POSTAL_CODE': [int(default_match['LAB_POSTAL_CODE'])]\n",
        "        }\n",
        "\n",
        "    return {'FINAL_LAB_ID': [int(-1)], 'FINAL_LAB_POSTAL_CODE': [int(0)]}\n",
        "\n",
        "\n",
        "def assign_final_lab_match(d, df_lab):\n",
        "    \"\"\"\n",
        "    Applies the lab matching logic to the df_synthetic DataFrame and\n",
        "    shows progress for large datasets.\n",
        "    \"\"\"\n",
        "\n",
        "    d['POSTAL_CODE'] = pd.to_numeric(d['POSTAL_CODE'].astype(str).str.zfill(5), errors='coerce').astype('Int64')\n",
        "    df_lab['LAB_POSTAL_CODE'] = df_lab['LAB_POSTAL_CODE'].astype(str).str.zfill(5)\n",
        "\n",
        "    df_lab['LAB_POSTAL_CODE_INT'] = df_lab['LAB_POSTAL_CODE'].astype(int)\n",
        "\n",
        "\n",
        "    match_results = d.progress_apply(\n",
        "        lambda row: retrieve_id_postal_for_match(\n",
        "            row['POSTAL_CODE'],\n",
        "            row['REQUIRED_SPEC'],\n",
        "            row['REQUIRED_LAB_TYPE'],\n",
        "            df_lab\n",
        "        ),\n",
        "        axis=1\n",
        "    )\n",
        "\n",
        "    match_df = match_results.apply(pd.Series)\n",
        "\n",
        "    d['LAB_ID'] = match_df['FINAL_LAB_ID'].str[0].astype(int)\n",
        "    d['LAB_POSTAL_CODE'] = match_df['FINAL_LAB_POSTAL_CODE'].str[0].astype(int)\n",
        "\n",
        "    df_lab.drop(columns=['LAB_POSTAL_CODE_INT'], inplace=True)\n",
        "\n",
        "    return d"
      ]
    },
    {
      "cell_type": "code",
      "execution_count": 12,
      "metadata": {
        "colab": {
          "base_uri": "https://localhost:8080/"
        },
        "id": "c69O16tuPfdj",
        "outputId": "739ee92b-be14-4e52-ad50-f71a33f7c4b2"
      },
      "outputs": [
        {
          "name": "stderr",
          "output_type": "stream",
          "text": [
            "100%|██████████| 1792615/1792615 [1:53:16<00:00, 263.75it/s]\n"
          ]
        }
      ],
      "source": [
        "df_synthetic = assign_final_lab_match(df_synthetic, df_lab)"
      ]
    },
    {
      "cell_type": "code",
      "execution_count": 13,
      "metadata": {
        "colab": {
          "base_uri": "https://localhost:8080/",
          "height": 118
        },
        "id": "SI7JrFIvxNPI",
        "outputId": "caff7a44-8166-4cb1-fe1e-fce1845f0659"
      },
      "outputs": [
        {
          "data": {
            "application/vnd.google.colaboratory.intrinsic+json": {
              "type": "dataframe",
              "variable_name": "df_synthetic"
            },
            "text/html": [
              "\n",
              "  <div id=\"df-1446b545-4433-47d1-95ab-aeeafc32bbc9\" class=\"colab-df-container\">\n",
              "    <div>\n",
              "<style scoped>\n",
              "    .dataframe tbody tr th:only-of-type {\n",
              "        vertical-align: middle;\n",
              "    }\n",
              "\n",
              "    .dataframe tbody tr th {\n",
              "        vertical-align: top;\n",
              "    }\n",
              "\n",
              "    .dataframe thead th {\n",
              "        text-align: right;\n",
              "    }\n",
              "</style>\n",
              "<table border=\"1\" class=\"dataframe\">\n",
              "  <thead>\n",
              "    <tr style=\"text-align: right;\">\n",
              "      <th></th>\n",
              "      <th>Unnamed: 0</th>\n",
              "      <th>RENDERING_NPI</th>\n",
              "      <th>POSTAL_CODE</th>\n",
              "      <th>DELIVERY_SYSTEM_ENCODED</th>\n",
              "      <th>PROVIDER_TYPE_ENCODED</th>\n",
              "      <th>AGE_GROUP_ENCODED</th>\n",
              "      <th>PREV</th>\n",
              "      <th>TXMT</th>\n",
              "      <th>ADV</th>\n",
              "      <th>CASE_ID</th>\n",
              "      <th>REQUIRED_SPEC</th>\n",
              "      <th>EXPEDITED</th>\n",
              "      <th>REQUIRED_LAB_TYPE</th>\n",
              "      <th>LAB_ID</th>\n",
              "      <th>LAB_POSTAL_CODE</th>\n",
              "    </tr>\n",
              "  </thead>\n",
              "  <tbody>\n",
              "    <tr>\n",
              "      <th>0</th>\n",
              "      <td>0</td>\n",
              "      <td>1952483117</td>\n",
              "      <td>94538</td>\n",
              "      <td>0</td>\n",
              "      <td>0</td>\n",
              "      <td>0</td>\n",
              "      <td>1</td>\n",
              "      <td>0</td>\n",
              "      <td>0</td>\n",
              "      <td>1379044</td>\n",
              "      <td>1</td>\n",
              "      <td>0</td>\n",
              "      <td>0</td>\n",
              "      <td>488</td>\n",
              "      <td>94461</td>\n",
              "    </tr>\n",
              "  </tbody>\n",
              "</table>\n",
              "</div>\n",
              "    <div class=\"colab-df-buttons\">\n",
              "\n",
              "  <div class=\"colab-df-container\">\n",
              "    <button class=\"colab-df-convert\" onclick=\"convertToInteractive('df-1446b545-4433-47d1-95ab-aeeafc32bbc9')\"\n",
              "            title=\"Convert this dataframe to an interactive table.\"\n",
              "            style=\"display:none;\">\n",
              "\n",
              "  <svg xmlns=\"http://www.w3.org/2000/svg\" height=\"24px\" viewBox=\"0 -960 960 960\">\n",
              "    <path d=\"M120-120v-720h720v720H120Zm60-500h600v-160H180v160Zm220 220h160v-160H400v160Zm0 220h160v-160H400v160ZM180-400h160v-160H180v160Zm440 0h160v-160H620v160ZM180-180h160v-160H180v160Zm440 0h160v-160H620v160Z\"/>\n",
              "  </svg>\n",
              "    </button>\n",
              "\n",
              "  <style>\n",
              "    .colab-df-container {\n",
              "      display:flex;\n",
              "      gap: 12px;\n",
              "    }\n",
              "\n",
              "    .colab-df-convert {\n",
              "      background-color: #E8F0FE;\n",
              "      border: none;\n",
              "      border-radius: 50%;\n",
              "      cursor: pointer;\n",
              "      display: none;\n",
              "      fill: #1967D2;\n",
              "      height: 32px;\n",
              "      padding: 0 0 0 0;\n",
              "      width: 32px;\n",
              "    }\n",
              "\n",
              "    .colab-df-convert:hover {\n",
              "      background-color: #E2EBFA;\n",
              "      box-shadow: 0px 1px 2px rgba(60, 64, 67, 0.3), 0px 1px 3px 1px rgba(60, 64, 67, 0.15);\n",
              "      fill: #174EA6;\n",
              "    }\n",
              "\n",
              "    .colab-df-buttons div {\n",
              "      margin-bottom: 4px;\n",
              "    }\n",
              "\n",
              "    [theme=dark] .colab-df-convert {\n",
              "      background-color: #3B4455;\n",
              "      fill: #D2E3FC;\n",
              "    }\n",
              "\n",
              "    [theme=dark] .colab-df-convert:hover {\n",
              "      background-color: #434B5C;\n",
              "      box-shadow: 0px 1px 3px 1px rgba(0, 0, 0, 0.15);\n",
              "      filter: drop-shadow(0px 1px 2px rgba(0, 0, 0, 0.3));\n",
              "      fill: #FFFFFF;\n",
              "    }\n",
              "  </style>\n",
              "\n",
              "    <script>\n",
              "      const buttonEl =\n",
              "        document.querySelector('#df-1446b545-4433-47d1-95ab-aeeafc32bbc9 button.colab-df-convert');\n",
              "      buttonEl.style.display =\n",
              "        google.colab.kernel.accessAllowed ? 'block' : 'none';\n",
              "\n",
              "      async function convertToInteractive(key) {\n",
              "        const element = document.querySelector('#df-1446b545-4433-47d1-95ab-aeeafc32bbc9');\n",
              "        const dataTable =\n",
              "          await google.colab.kernel.invokeFunction('convertToInteractive',\n",
              "                                                    [key], {});\n",
              "        if (!dataTable) return;\n",
              "\n",
              "        const docLinkHtml = 'Like what you see? Visit the ' +\n",
              "          '<a target=\"_blank\" href=https://colab.research.google.com/notebooks/data_table.ipynb>data table notebook</a>'\n",
              "          + ' to learn more about interactive tables.';\n",
              "        element.innerHTML = '';\n",
              "        dataTable['output_type'] = 'display_data';\n",
              "        await google.colab.output.renderOutput(dataTable, element);\n",
              "        const docLink = document.createElement('div');\n",
              "        docLink.innerHTML = docLinkHtml;\n",
              "        element.appendChild(docLink);\n",
              "      }\n",
              "    </script>\n",
              "  </div>\n",
              "\n",
              "\n",
              "    </div>\n",
              "  </div>\n"
            ],
            "text/plain": [
              "   Unnamed: 0  RENDERING_NPI  POSTAL_CODE  DELIVERY_SYSTEM_ENCODED  \\\n",
              "0           0     1952483117        94538                        0   \n",
              "\n",
              "   PROVIDER_TYPE_ENCODED  AGE_GROUP_ENCODED  PREV  TXMT  ADV  CASE_ID  \\\n",
              "0                      0                  0     1     0    0  1379044   \n",
              "\n",
              "   REQUIRED_SPEC  EXPEDITED  REQUIRED_LAB_TYPE  LAB_ID  LAB_POSTAL_CODE  \n",
              "0              1          0                  0     488            94461  "
            ]
          },
          "execution_count": 13,
          "metadata": {},
          "output_type": "execute_result"
        }
      ],
      "source": [
        "df_synthetic.head(1)"
      ]
    },
    {
      "cell_type": "code",
      "execution_count": 20,
      "metadata": {
        "id": "05SChhZHNwg1"
      },
      "outputs": [],
      "source": [
        "df_synthetic.drop(columns=['Unnamed: 0'], inplace=True)"
      ]
    },
    {
      "cell_type": "code",
      "execution_count": 21,
      "metadata": {
        "colab": {
          "base_uri": "https://localhost:8080/"
        },
        "id": "j6defBH7xOtu",
        "outputId": "414a0aa7-17d4-47c1-965d-4598d0584e1d"
      },
      "outputs": [
        {
          "data": {
            "text/plain": [
              "Index(['RENDERING_NPI', 'POSTAL_CODE', 'DELIVERY_SYSTEM_ENCODED',\n",
              "       'PROVIDER_TYPE_ENCODED', 'AGE_GROUP_ENCODED', 'PREV', 'TXMT', 'ADV',\n",
              "       'CASE_ID', 'REQUIRED_SPEC', 'EXPEDITED', 'REQUIRED_LAB_TYPE', 'LAB_ID',\n",
              "       'LAB_POSTAL_CODE'],\n",
              "      dtype='object')"
            ]
          },
          "execution_count": 21,
          "metadata": {},
          "output_type": "execute_result"
        }
      ],
      "source": [
        "df_synthetic.columns"
      ]
    },
    {
      "cell_type": "code",
      "execution_count": null,
      "metadata": {
        "id": "iYaJtyNXNlnR"
      },
      "outputs": [],
      "source": [
        "df_synthetic.to_csv('/content/d_all_synthetic_training.csv')"
      ]
    }
  ],
  "metadata": {
    "accelerator": "GPU",
    "colab": {
      "gpuType": "T4",
      "provenance": []
    },
    "kernelspec": {
      "display_name": "Python 3",
      "name": "python3"
    },
    "language_info": {
      "name": "python"
    }
  },
  "nbformat": 4,
  "nbformat_minor": 0
}
