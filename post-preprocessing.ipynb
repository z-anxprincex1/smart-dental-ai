{
 "cells": [
  {
   "cell_type": "code",
   "execution_count": 41,
   "id": "3aa22396",
   "metadata": {},
   "outputs": [],
   "source": [
    "import pandas as pd\n",
    "\n",
    "df_main = pd.read_csv('./data/csv/d_training_main.csv')\n",
    "df_lab = pd.read_csv('./data/artificial_lab_data.csv')"
   ]
  },
  {
   "cell_type": "code",
   "execution_count": 42,
   "id": "2cb04364",
   "metadata": {},
   "outputs": [
    {
     "data": {
      "text/plain": [
       "8149"
      ]
     },
     "execution_count": 42,
     "metadata": {},
     "output_type": "execute_result"
    }
   ],
   "source": [
    "len(df_main['RENDERING_NPI'].unique())"
   ]
  },
  {
   "cell_type": "markdown",
   "id": "ff44aafa",
   "metadata": {},
   "source": [
    "Just realized the low accuracy could be because of not enough instances present for each NPI to train on, there's hardly 1-2/NPI that's then being classified into 10,000 different laboratories, which is highly imbalanced.\n",
    "\n",
    "**Alternative Approach:** \\\n",
    "Instead of taking total service counts for each NPI, we can separate each instance into the type of service required by choosing between ADV / TXMT / PREV using binary encoding, that can then be classified into the most suitable lab_id based on the clinic's postal code and the type of service required and business model. So each instance would represent only one entry for one service under one NPI, instead of taking a service count we would divide this into individual entries of service required and assigned labs."
   ]
  },
  {
   "cell_type": "code",
   "execution_count": 43,
   "id": "677e2438",
   "metadata": {},
   "outputs": [
    {
     "data": {
      "text/plain": [
       "Index(['RENDERING_NPI', 'POSTAL_CODE', 'DELIVERY_SYSTEM_ENCODED',\n",
       "       'PROVIDER_TYPE_ENCODED', 'AGE_GROUP_ENCODED', 'ADV_USER_CNT',\n",
       "       'ADV_SVC_CNT', 'PREV_USER_CNT', 'PREV_SVC_CNT', 'TXMT_USER_CNT',\n",
       "       'TXMT_SVC_CNT', 'EXAM_USER_CNT', 'EXAM_SVC_CNT', 'PREV_TO_EXAM_RATIO',\n",
       "       'TXMT_TO_EXAM_RATIO', 'ADV_TO_EXAM_RATIO', 'REQUIRED_SPEC',\n",
       "       'REQUIRED_BSNS_MODEL', 'LAB_ID', 'LAB_POSTAL_CODE'],\n",
       "      dtype='object')"
      ]
     },
     "execution_count": 43,
     "metadata": {},
     "output_type": "execute_result"
    }
   ],
   "source": [
    "df_main.columns"
   ]
  },
  {
   "cell_type": "code",
   "execution_count": 44,
   "id": "b20df6b8",
   "metadata": {},
   "outputs": [
    {
     "name": "stdout",
     "output_type": "stream",
     "text": [
      "Total rows created: 1,792,615\n",
      "Number of unique NPIs used: 8149\n"
     ]
    }
   ],
   "source": [
    "import pandas as pd\n",
    "import numpy as np\n",
    "from faker import Faker\n",
    "import random\n",
    "\n",
    "fake = Faker('en_US')\n",
    "\n",
    "df_main['POSTAL_CODE'] = df_main['POSTAL_CODE'].astype(str).str.zfill(5)\n",
    "\n",
    "\n",
    "npi_base_features = df_main[[\n",
    "    'RENDERING_NPI', \n",
    "    'POSTAL_CODE', \n",
    "    'DELIVERY_SYSTEM_ENCODED',\n",
    "    'PROVIDER_TYPE_ENCODED'\n",
    "]].drop_duplicates().reset_index(drop=True)\n",
    "\n",
    "MIN_INSTANCES = 100\n",
    "MAX_INSTANCES = 300\n",
    "\n",
    "def generate_npi_instances(row):\n",
    "    \"\"\"Generates a random number of case entries for a single NPI.\"\"\"\n",
    "    n_entries = random.randint(MIN_INSTANCES, MAX_INSTANCES)\n",
    "\n",
    "    data = {col: [row[col]] * n_entries for col in npi_base_features.columns}\n",
    "    \n",
    "    data['AGE_GROUP_ENCODED'] = np.random.choice(\n",
    "        [0, 1],\n",
    "        size=n_entries, \n",
    "        p=[0.5, 0.5]\n",
    "    )\n",
    "\n",
    "    service_indicators = np.zeros((n_entries, 3), dtype=int)\n",
    "    \n",
    "    random_indices = np.random.randint(0, 3, size=n_entries) \n",
    "    service_indicators[np.arange(n_entries), random_indices] = 1\n",
    "\n",
    "    data['PREV'] = service_indicators[:, 0]\n",
    "    data['TXMT'] = service_indicators[:, 1]\n",
    "    data['ADV'] = service_indicators[:, 2]\n",
    "\n",
    "    return pd.DataFrame(data)\n",
    "\n",
    "list_of_dfs = npi_base_features.apply(generate_npi_instances, axis=1).tolist()\n",
    "df_synthetic = pd.concat(list_of_dfs, ignore_index=True)\n",
    "\n",
    "df_synthetic['CASE_ID'] = range(1, len(df_synthetic) + 1)\n",
    "\n",
    "df_synthetic = df_synthetic.sample(frac=1, random_state=42).reset_index(drop=True)\n",
    "\n",
    "print(f\"Total rows created: {len(df_synthetic):,}\")\n",
    "print(f\"Number of unique NPIs used: {df_synthetic['RENDERING_NPI'].nunique()}\")"
   ]
  },
  {
   "cell_type": "code",
   "execution_count": 45,
   "id": "db7a3827",
   "metadata": {},
   "outputs": [
    {
     "data": {
      "text/html": [
       "<div>\n",
       "<style scoped>\n",
       "    .dataframe tbody tr th:only-of-type {\n",
       "        vertical-align: middle;\n",
       "    }\n",
       "\n",
       "    .dataframe tbody tr th {\n",
       "        vertical-align: top;\n",
       "    }\n",
       "\n",
       "    .dataframe thead th {\n",
       "        text-align: right;\n",
       "    }\n",
       "</style>\n",
       "<table border=\"1\" class=\"dataframe\">\n",
       "  <thead>\n",
       "    <tr style=\"text-align: right;\">\n",
       "      <th></th>\n",
       "      <th>RENDERING_NPI</th>\n",
       "      <th>POSTAL_CODE</th>\n",
       "      <th>DELIVERY_SYSTEM_ENCODED</th>\n",
       "      <th>PROVIDER_TYPE_ENCODED</th>\n",
       "      <th>AGE_GROUP_ENCODED</th>\n",
       "      <th>PREV</th>\n",
       "      <th>TXMT</th>\n",
       "      <th>ADV</th>\n",
       "      <th>CASE_ID</th>\n",
       "    </tr>\n",
       "  </thead>\n",
       "  <tbody>\n",
       "    <tr>\n",
       "      <th>0</th>\n",
       "      <td>1952483117</td>\n",
       "      <td>94538</td>\n",
       "      <td>0</td>\n",
       "      <td>0</td>\n",
       "      <td>0</td>\n",
       "      <td>1</td>\n",
       "      <td>0</td>\n",
       "      <td>0</td>\n",
       "      <td>1379044</td>\n",
       "    </tr>\n",
       "    <tr>\n",
       "      <th>1</th>\n",
       "      <td>1669575783</td>\n",
       "      <td>94601</td>\n",
       "      <td>0</td>\n",
       "      <td>1</td>\n",
       "      <td>0</td>\n",
       "      <td>0</td>\n",
       "      <td>1</td>\n",
       "      <td>0</td>\n",
       "      <td>1673754</td>\n",
       "    </tr>\n",
       "    <tr>\n",
       "      <th>2</th>\n",
       "      <td>1780781450</td>\n",
       "      <td>90002</td>\n",
       "      <td>0</td>\n",
       "      <td>0</td>\n",
       "      <td>0</td>\n",
       "      <td>0</td>\n",
       "      <td>1</td>\n",
       "      <td>0</td>\n",
       "      <td>1131355</td>\n",
       "    </tr>\n",
       "    <tr>\n",
       "      <th>3</th>\n",
       "      <td>1689050296</td>\n",
       "      <td>92842</td>\n",
       "      <td>0</td>\n",
       "      <td>1</td>\n",
       "      <td>0</td>\n",
       "      <td>1</td>\n",
       "      <td>0</td>\n",
       "      <td>0</td>\n",
       "      <td>1679072</td>\n",
       "    </tr>\n",
       "    <tr>\n",
       "      <th>4</th>\n",
       "      <td>1134573462</td>\n",
       "      <td>92026</td>\n",
       "      <td>0</td>\n",
       "      <td>0</td>\n",
       "      <td>1</td>\n",
       "      <td>1</td>\n",
       "      <td>0</td>\n",
       "      <td>0</td>\n",
       "      <td>203204</td>\n",
       "    </tr>\n",
       "  </tbody>\n",
       "</table>\n",
       "</div>"
      ],
      "text/plain": [
       "   RENDERING_NPI POSTAL_CODE  DELIVERY_SYSTEM_ENCODED  PROVIDER_TYPE_ENCODED  \\\n",
       "0     1952483117       94538                        0                      0   \n",
       "1     1669575783       94601                        0                      1   \n",
       "2     1780781450       90002                        0                      0   \n",
       "3     1689050296       92842                        0                      1   \n",
       "4     1134573462       92026                        0                      0   \n",
       "\n",
       "   AGE_GROUP_ENCODED  PREV  TXMT  ADV  CASE_ID  \n",
       "0                  0     1     0    0  1379044  \n",
       "1                  0     0     1    0  1673754  \n",
       "2                  0     0     1    0  1131355  \n",
       "3                  0     1     0    0  1679072  \n",
       "4                  1     1     0    0   203204  "
      ]
     },
     "execution_count": 45,
     "metadata": {},
     "output_type": "execute_result"
    }
   ],
   "source": [
    "df_synthetic.head(5)"
   ]
  },
  {
   "cell_type": "code",
   "execution_count": 46,
   "id": "631a0821",
   "metadata": {},
   "outputs": [],
   "source": [
    "def calculate_required_spec(d):\n",
    "    ratio_cols = [\"PREV\", \"TXMT\", \"ADV\"]\n",
    "    \n",
    "    d['DOMINANT_RATIO'] = d[ratio_cols].idxmax(axis=1)\n",
    "\n",
    "    encoded_vals = {\n",
    "        'PREV': 1,\n",
    "        'TXMT': 0,\n",
    "        'ADV': 2\n",
    "    }\n",
    "\n",
    "    d['REQUIRED_SPEC'] = d['DOMINANT_RATIO'].map(encoded_vals)\n",
    "\n",
    "    d.drop(columns=['DOMINANT_RATIO'], inplace=True)\n",
    "\n",
    "    return d"
   ]
  },
  {
   "cell_type": "code",
   "execution_count": 47,
   "id": "6c0b3718",
   "metadata": {},
   "outputs": [],
   "source": [
    "df_synthetic = calculate_required_spec(df_synthetic)"
   ]
  },
  {
   "cell_type": "code",
   "execution_count": 48,
   "id": "224a5530",
   "metadata": {},
   "outputs": [
    {
     "data": {
      "text/plain": [
       "259"
      ]
     },
     "execution_count": 48,
     "metadata": {},
     "output_type": "execute_result"
    }
   ],
   "source": [
    "len(df_synthetic[df_synthetic['RENDERING_NPI'] == 1407801871])"
   ]
  },
  {
   "cell_type": "code",
   "execution_count": 49,
   "id": "729db079",
   "metadata": {},
   "outputs": [
    {
     "data": {
      "text/plain": [
       "array([0, 1])"
      ]
     },
     "execution_count": 49,
     "metadata": {},
     "output_type": "execute_result"
    }
   ],
   "source": [
    "df_synthetic['TXMT'].unique()"
   ]
  },
  {
   "cell_type": "code",
   "execution_count": 50,
   "id": "d6a83215",
   "metadata": {},
   "outputs": [],
   "source": [
    "def assign_expedited(d, expedited_rate=0.21):\n",
    "    d['EXPEDITED'] = np.random.choice(\n",
    "        [0, 1], \n",
    "        size=len(d), \n",
    "        p=[1 - expedited_rate, expedited_rate]\n",
    "    ).astype(int)\n",
    "    \n",
    "    return d"
   ]
  },
  {
   "cell_type": "code",
   "execution_count": 51,
   "id": "b66dca0b",
   "metadata": {},
   "outputs": [],
   "source": [
    "def assign_lab_type(d):\n",
    "    REST = 0\n",
    "    PREV = 1\n",
    "    PROS = 2\n",
    "    \n",
    "    FULL_SERVICE = 0\n",
    "    SPECIALTY = 1\n",
    "    MILLING_CENTER = 2\n",
    "\n",
    "    d['EXPEDITED'] = pd.to_numeric(d['EXPEDITED'], errors='coerce').fillna(0).astype(int)\n",
    "    \n",
    "    conditions = [\n",
    "\n",
    "        (d['EXPEDITED'] == 1) & ((d['REQUIRED_SPEC'] == REST) | (d['REQUIRED_SPEC'] == PROS)),\n",
    "        \n",
    "        (d['EXPEDITED'] == 0) & (d['REQUIRED_SPEC'] == PROS),\n",
    "\n",
    "        (d['EXPEDITED'] == 0) & (d['REQUIRED_SPEC'] == REST),\n",
    "\n",
    "        (d['REQUIRED_SPEC'] == PREV)\n",
    "    ]\n",
    "\n",
    "    choices = [\n",
    "        MILLING_CENTER,     # P1: REST/PROS + Expedited --> Milling Center (2)\n",
    "        SPECIALTY,          # P2: PROS + Standard Speed --> Specialty Lab (1)\n",
    "        FULL_SERVICE,       # P3: REST + Standard Speed --> Full-Service Lab (0)\n",
    "        FULL_SERVICE        # P4: PREVENTIVE (Expedited or not) --> Full-Service Lab (0)\n",
    "    ]\n",
    "\n",
    "    d['REQUIRED_LAB_TYPE'] = np.select(\n",
    "        conditions, \n",
    "        choices, \n",
    "        default=FULL_SERVICE\n",
    "    )\n",
    "    \n",
    "    return d"
   ]
  },
  {
   "cell_type": "code",
   "execution_count": 52,
   "id": "841851ff",
   "metadata": {},
   "outputs": [],
   "source": [
    "df_synthetic = assign_expedited(df_synthetic)\n",
    "df_synthetic = assign_lab_type(df_synthetic)"
   ]
  },
  {
   "cell_type": "code",
   "execution_count": 53,
   "id": "2fea3512",
   "metadata": {},
   "outputs": [
    {
     "data": {
      "text/html": [
       "<div>\n",
       "<style scoped>\n",
       "    .dataframe tbody tr th:only-of-type {\n",
       "        vertical-align: middle;\n",
       "    }\n",
       "\n",
       "    .dataframe tbody tr th {\n",
       "        vertical-align: top;\n",
       "    }\n",
       "\n",
       "    .dataframe thead th {\n",
       "        text-align: right;\n",
       "    }\n",
       "</style>\n",
       "<table border=\"1\" class=\"dataframe\">\n",
       "  <thead>\n",
       "    <tr style=\"text-align: right;\">\n",
       "      <th></th>\n",
       "      <th>RENDERING_NPI</th>\n",
       "      <th>POSTAL_CODE</th>\n",
       "      <th>DELIVERY_SYSTEM_ENCODED</th>\n",
       "      <th>PROVIDER_TYPE_ENCODED</th>\n",
       "      <th>AGE_GROUP_ENCODED</th>\n",
       "      <th>PREV</th>\n",
       "      <th>TXMT</th>\n",
       "      <th>ADV</th>\n",
       "      <th>CASE_ID</th>\n",
       "      <th>REQUIRED_SPEC</th>\n",
       "      <th>EXPEDITED</th>\n",
       "      <th>REQUIRED_LAB_TYPE</th>\n",
       "    </tr>\n",
       "  </thead>\n",
       "  <tbody>\n",
       "    <tr>\n",
       "      <th>0</th>\n",
       "      <td>1952483117</td>\n",
       "      <td>94538</td>\n",
       "      <td>0</td>\n",
       "      <td>0</td>\n",
       "      <td>0</td>\n",
       "      <td>1</td>\n",
       "      <td>0</td>\n",
       "      <td>0</td>\n",
       "      <td>1379044</td>\n",
       "      <td>1</td>\n",
       "      <td>0</td>\n",
       "      <td>0</td>\n",
       "    </tr>\n",
       "    <tr>\n",
       "      <th>1</th>\n",
       "      <td>1669575783</td>\n",
       "      <td>94601</td>\n",
       "      <td>0</td>\n",
       "      <td>1</td>\n",
       "      <td>0</td>\n",
       "      <td>0</td>\n",
       "      <td>1</td>\n",
       "      <td>0</td>\n",
       "      <td>1673754</td>\n",
       "      <td>0</td>\n",
       "      <td>1</td>\n",
       "      <td>2</td>\n",
       "    </tr>\n",
       "    <tr>\n",
       "      <th>2</th>\n",
       "      <td>1780781450</td>\n",
       "      <td>90002</td>\n",
       "      <td>0</td>\n",
       "      <td>0</td>\n",
       "      <td>0</td>\n",
       "      <td>0</td>\n",
       "      <td>1</td>\n",
       "      <td>0</td>\n",
       "      <td>1131355</td>\n",
       "      <td>0</td>\n",
       "      <td>0</td>\n",
       "      <td>0</td>\n",
       "    </tr>\n",
       "    <tr>\n",
       "      <th>3</th>\n",
       "      <td>1689050296</td>\n",
       "      <td>92842</td>\n",
       "      <td>0</td>\n",
       "      <td>1</td>\n",
       "      <td>0</td>\n",
       "      <td>1</td>\n",
       "      <td>0</td>\n",
       "      <td>0</td>\n",
       "      <td>1679072</td>\n",
       "      <td>1</td>\n",
       "      <td>0</td>\n",
       "      <td>0</td>\n",
       "    </tr>\n",
       "    <tr>\n",
       "      <th>4</th>\n",
       "      <td>1134573462</td>\n",
       "      <td>92026</td>\n",
       "      <td>0</td>\n",
       "      <td>0</td>\n",
       "      <td>1</td>\n",
       "      <td>1</td>\n",
       "      <td>0</td>\n",
       "      <td>0</td>\n",
       "      <td>203204</td>\n",
       "      <td>1</td>\n",
       "      <td>0</td>\n",
       "      <td>0</td>\n",
       "    </tr>\n",
       "    <tr>\n",
       "      <th>...</th>\n",
       "      <td>...</td>\n",
       "      <td>...</td>\n",
       "      <td>...</td>\n",
       "      <td>...</td>\n",
       "      <td>...</td>\n",
       "      <td>...</td>\n",
       "      <td>...</td>\n",
       "      <td>...</td>\n",
       "      <td>...</td>\n",
       "      <td>...</td>\n",
       "      <td>...</td>\n",
       "      <td>...</td>\n",
       "    </tr>\n",
       "    <tr>\n",
       "      <th>95</th>\n",
       "      <td>1124198296</td>\n",
       "      <td>95129</td>\n",
       "      <td>0</td>\n",
       "      <td>0</td>\n",
       "      <td>1</td>\n",
       "      <td>0</td>\n",
       "      <td>1</td>\n",
       "      <td>0</td>\n",
       "      <td>178002</td>\n",
       "      <td>0</td>\n",
       "      <td>0</td>\n",
       "      <td>0</td>\n",
       "    </tr>\n",
       "    <tr>\n",
       "      <th>96</th>\n",
       "      <td>1982085650</td>\n",
       "      <td>95628</td>\n",
       "      <td>0</td>\n",
       "      <td>0</td>\n",
       "      <td>1</td>\n",
       "      <td>0</td>\n",
       "      <td>1</td>\n",
       "      <td>0</td>\n",
       "      <td>1417783</td>\n",
       "      <td>0</td>\n",
       "      <td>0</td>\n",
       "      <td>0</td>\n",
       "    </tr>\n",
       "    <tr>\n",
       "      <th>97</th>\n",
       "      <td>1992079586</td>\n",
       "      <td>91710</td>\n",
       "      <td>0</td>\n",
       "      <td>0</td>\n",
       "      <td>1</td>\n",
       "      <td>0</td>\n",
       "      <td>1</td>\n",
       "      <td>0</td>\n",
       "      <td>1435297</td>\n",
       "      <td>0</td>\n",
       "      <td>1</td>\n",
       "      <td>2</td>\n",
       "    </tr>\n",
       "    <tr>\n",
       "      <th>98</th>\n",
       "      <td>1174803803</td>\n",
       "      <td>93274</td>\n",
       "      <td>0</td>\n",
       "      <td>1</td>\n",
       "      <td>0</td>\n",
       "      <td>1</td>\n",
       "      <td>0</td>\n",
       "      <td>0</td>\n",
       "      <td>1513021</td>\n",
       "      <td>1</td>\n",
       "      <td>0</td>\n",
       "      <td>0</td>\n",
       "    </tr>\n",
       "    <tr>\n",
       "      <th>99</th>\n",
       "      <td>1720297302</td>\n",
       "      <td>93036</td>\n",
       "      <td>0</td>\n",
       "      <td>0</td>\n",
       "      <td>1</td>\n",
       "      <td>1</td>\n",
       "      <td>0</td>\n",
       "      <td>0</td>\n",
       "      <td>1044582</td>\n",
       "      <td>1</td>\n",
       "      <td>0</td>\n",
       "      <td>0</td>\n",
       "    </tr>\n",
       "  </tbody>\n",
       "</table>\n",
       "<p>100 rows × 12 columns</p>\n",
       "</div>"
      ],
      "text/plain": [
       "    RENDERING_NPI POSTAL_CODE  DELIVERY_SYSTEM_ENCODED  PROVIDER_TYPE_ENCODED  \\\n",
       "0      1952483117       94538                        0                      0   \n",
       "1      1669575783       94601                        0                      1   \n",
       "2      1780781450       90002                        0                      0   \n",
       "3      1689050296       92842                        0                      1   \n",
       "4      1134573462       92026                        0                      0   \n",
       "..            ...         ...                      ...                    ...   \n",
       "95     1124198296       95129                        0                      0   \n",
       "96     1982085650       95628                        0                      0   \n",
       "97     1992079586       91710                        0                      0   \n",
       "98     1174803803       93274                        0                      1   \n",
       "99     1720297302       93036                        0                      0   \n",
       "\n",
       "    AGE_GROUP_ENCODED  PREV  TXMT  ADV  CASE_ID  REQUIRED_SPEC  EXPEDITED  \\\n",
       "0                   0     1     0    0  1379044              1          0   \n",
       "1                   0     0     1    0  1673754              0          1   \n",
       "2                   0     0     1    0  1131355              0          0   \n",
       "3                   0     1     0    0  1679072              1          0   \n",
       "4                   1     1     0    0   203204              1          0   \n",
       "..                ...   ...   ...  ...      ...            ...        ...   \n",
       "95                  1     0     1    0   178002              0          0   \n",
       "96                  1     0     1    0  1417783              0          0   \n",
       "97                  1     0     1    0  1435297              0          1   \n",
       "98                  0     1     0    0  1513021              1          0   \n",
       "99                  1     1     0    0  1044582              1          0   \n",
       "\n",
       "    REQUIRED_LAB_TYPE  \n",
       "0                   0  \n",
       "1                   2  \n",
       "2                   0  \n",
       "3                   0  \n",
       "4                   0  \n",
       "..                ...  \n",
       "95                  0  \n",
       "96                  0  \n",
       "97                  2  \n",
       "98                  0  \n",
       "99                  0  \n",
       "\n",
       "[100 rows x 12 columns]"
      ]
     },
     "execution_count": 53,
     "metadata": {},
     "output_type": "execute_result"
    }
   ],
   "source": [
    "df_synthetic.head(100)"
   ]
  },
  {
   "cell_type": "code",
   "execution_count": 54,
   "id": "5f1d54b1",
   "metadata": {},
   "outputs": [],
   "source": [
    "df_synthetic.to_csv('./data/csv/d_all_synth.csv')"
   ]
  },
  {
   "cell_type": "code",
   "execution_count": 55,
   "id": "04ca7843",
   "metadata": {},
   "outputs": [
    {
     "data": {
      "text/html": [
       "<div>\n",
       "<style scoped>\n",
       "    .dataframe tbody tr th:only-of-type {\n",
       "        vertical-align: middle;\n",
       "    }\n",
       "\n",
       "    .dataframe tbody tr th {\n",
       "        vertical-align: top;\n",
       "    }\n",
       "\n",
       "    .dataframe thead th {\n",
       "        text-align: right;\n",
       "    }\n",
       "</style>\n",
       "<table border=\"1\" class=\"dataframe\">\n",
       "  <thead>\n",
       "    <tr style=\"text-align: right;\">\n",
       "      <th></th>\n",
       "      <th>LAB_ID</th>\n",
       "      <th>LAB_NAME</th>\n",
       "      <th>LAB_POSTAL_CODE</th>\n",
       "      <th>LAB_SPECIALIZATION</th>\n",
       "      <th>LAB_TYPE</th>\n",
       "    </tr>\n",
       "  </thead>\n",
       "  <tbody>\n",
       "    <tr>\n",
       "      <th>0</th>\n",
       "      <td>1</td>\n",
       "      <td>Pope, Ray and Hudson</td>\n",
       "      <td>90601</td>\n",
       "      <td>2</td>\n",
       "      <td>1</td>\n",
       "    </tr>\n",
       "  </tbody>\n",
       "</table>\n",
       "</div>"
      ],
      "text/plain": [
       "   LAB_ID              LAB_NAME  LAB_POSTAL_CODE  LAB_SPECIALIZATION  LAB_TYPE\n",
       "0       1  Pope, Ray and Hudson            90601                   2         1"
      ]
     },
     "execution_count": 55,
     "metadata": {},
     "output_type": "execute_result"
    }
   ],
   "source": [
    "df_lab = pd.read_csv('./data/artificial_lab_data.csv')\n",
    "df_lab.rename(columns={'LAB_BSNS_MODEL': 'LAB_TYPE'}, inplace=True)\n",
    "df_lab.head(1)"
   ]
  },
  {
   "cell_type": "code",
   "execution_count": 56,
   "id": "12fb30b2",
   "metadata": {},
   "outputs": [
    {
     "data": {
      "text/plain": [
       "8149"
      ]
     },
     "execution_count": 56,
     "metadata": {},
     "output_type": "execute_result"
    }
   ],
   "source": [
    "len(df_synthetic['RENDERING_NPI'].unique())"
   ]
  },
  {
   "cell_type": "markdown",
   "id": "150bd3dc",
   "metadata": {},
   "source": [
    "**Taking only 400 labs into consideration to classifiy 8149 unique NPIs**"
   ]
  },
  {
   "cell_type": "code",
   "execution_count": 57,
   "id": "c7a4b9c2",
   "metadata": {},
   "outputs": [],
   "source": [
    "n_consider = 400\n",
    "\n",
    "df_lab = df_lab.sample(n=n_consider, random_state=42).reset_index(drop=True)"
   ]
  },
  {
   "cell_type": "code",
   "execution_count": 58,
   "id": "e2211603",
   "metadata": {},
   "outputs": [
    {
     "name": "stdout",
     "output_type": "stream",
     "text": [
      "number of unique lab ids: 400\n"
     ]
    },
    {
     "data": {
      "text/html": [
       "<div>\n",
       "<style scoped>\n",
       "    .dataframe tbody tr th:only-of-type {\n",
       "        vertical-align: middle;\n",
       "    }\n",
       "\n",
       "    .dataframe tbody tr th {\n",
       "        vertical-align: top;\n",
       "    }\n",
       "\n",
       "    .dataframe thead th {\n",
       "        text-align: right;\n",
       "    }\n",
       "</style>\n",
       "<table border=\"1\" class=\"dataframe\">\n",
       "  <thead>\n",
       "    <tr style=\"text-align: right;\">\n",
       "      <th></th>\n",
       "      <th>LAB_ID</th>\n",
       "      <th>LAB_NAME</th>\n",
       "      <th>LAB_POSTAL_CODE</th>\n",
       "      <th>LAB_SPECIALIZATION</th>\n",
       "      <th>LAB_TYPE</th>\n",
       "    </tr>\n",
       "  </thead>\n",
       "  <tbody>\n",
       "    <tr>\n",
       "      <th>0</th>\n",
       "      <td>6253</td>\n",
       "      <td>Williams, Daugherty and Alvarez</td>\n",
       "      <td>93993</td>\n",
       "      <td>1</td>\n",
       "      <td>2</td>\n",
       "    </tr>\n",
       "    <tr>\n",
       "      <th>1</th>\n",
       "      <td>4685</td>\n",
       "      <td>Salinas-Andersen</td>\n",
       "      <td>95195</td>\n",
       "      <td>1</td>\n",
       "      <td>0</td>\n",
       "    </tr>\n",
       "    <tr>\n",
       "      <th>2</th>\n",
       "      <td>1732</td>\n",
       "      <td>Pittman, Peterson and Hall</td>\n",
       "      <td>90920</td>\n",
       "      <td>0</td>\n",
       "      <td>0</td>\n",
       "    </tr>\n",
       "    <tr>\n",
       "      <th>3</th>\n",
       "      <td>4743</td>\n",
       "      <td>Hernandez LLC</td>\n",
       "      <td>93252</td>\n",
       "      <td>1</td>\n",
       "      <td>2</td>\n",
       "    </tr>\n",
       "    <tr>\n",
       "      <th>4</th>\n",
       "      <td>4522</td>\n",
       "      <td>Green Ltd</td>\n",
       "      <td>90121</td>\n",
       "      <td>1</td>\n",
       "      <td>2</td>\n",
       "    </tr>\n",
       "  </tbody>\n",
       "</table>\n",
       "</div>"
      ],
      "text/plain": [
       "   LAB_ID                         LAB_NAME  LAB_POSTAL_CODE  \\\n",
       "0    6253  Williams, Daugherty and Alvarez            93993   \n",
       "1    4685                 Salinas-Andersen            95195   \n",
       "2    1732       Pittman, Peterson and Hall            90920   \n",
       "3    4743                    Hernandez LLC            93252   \n",
       "4    4522                        Green Ltd            90121   \n",
       "\n",
       "   LAB_SPECIALIZATION  LAB_TYPE  \n",
       "0                   1         2  \n",
       "1                   1         0  \n",
       "2                   0         0  \n",
       "3                   1         2  \n",
       "4                   1         2  "
      ]
     },
     "execution_count": 58,
     "metadata": {},
     "output_type": "execute_result"
    }
   ],
   "source": [
    "print(f\"number of unique lab ids: {len(df_lab['LAB_ID'].unique())}\")\n",
    "df_lab.head(5)"
   ]
  },
  {
   "cell_type": "code",
   "execution_count": 59,
   "id": "22112be0",
   "metadata": {},
   "outputs": [],
   "source": [
    "df_lab.to_csv('./data/csv/d_lab_400.csv')"
   ]
  },
  {
   "cell_type": "code",
   "execution_count": 60,
   "id": "060caa6a",
   "metadata": {},
   "outputs": [
    {
     "data": {
      "text/plain": [
       "6131.0"
      ]
     },
     "execution_count": 60,
     "metadata": {},
     "output_type": "execute_result"
    }
   ],
   "source": [
    "df_lab['LAB_POSTAL_CODE'].describe()['max'] - df_lab['LAB_POSTAL_CODE'].describe()['min']"
   ]
  },
  {
   "cell_type": "markdown",
   "id": "9c0cf12a",
   "metadata": {},
   "source": [
    "***further steps are done in the [smart-dental-fe1.ipynb](smart-dental-fe1.ipynb) through google colab, because the lab id and postal code assignment through complex logic is computationally expensive to run locally, while my i9 14900HX takes 4 hrs to complete the same process takes about 2 hrs on colab. Would definitely help if you have colab pro in case your session crashes.***"
   ]
  }
 ],
 "metadata": {
  "kernelspec": {
   "display_name": "Python 3 (ipykernel)",
   "language": "python",
   "name": "python3"
  }
 },
 "nbformat": 4,
 "nbformat_minor": 5
}
