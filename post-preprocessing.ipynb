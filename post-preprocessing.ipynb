{
 "cells": [
  {
   "cell_type": "code",
   "execution_count": 5,
   "id": "3aa22396",
   "metadata": {},
   "outputs": [],
   "source": [
    "import pandas as pd\n",
    "\n",
    "df_main = pd.read_csv('./data/csv/d_training_main.csv')\n",
    "df_lab = pd.read_csv('./data/artificial_lab_data.csv')"
   ]
  },
  {
   "cell_type": "code",
   "execution_count": 13,
   "id": "2cb04364",
   "metadata": {},
   "outputs": [
    {
     "name": "stdout",
     "output_type": "stream",
     "text": [
      "<class 'pandas.core.frame.DataFrame'>\n",
      "RangeIndex: 15108 entries, 0 to 15107\n",
      "Data columns (total 20 columns):\n",
      " #   Column                   Non-Null Count  Dtype  \n",
      "---  ------                   --------------  -----  \n",
      " 0   RENDERING_NPI            15108 non-null  int64  \n",
      " 1   POSTAL_CODE              15108 non-null  int64  \n",
      " 2   DELIVERY_SYSTEM_ENCODED  15108 non-null  int64  \n",
      " 3   PROVIDER_TYPE_ENCODED    15108 non-null  int64  \n",
      " 4   AGE_GROUP_ENCODED        15108 non-null  int64  \n",
      " 5   ADV_USER_CNT             15108 non-null  float64\n",
      " 6   ADV_SVC_CNT              15108 non-null  float64\n",
      " 7   PREV_USER_CNT            15108 non-null  float64\n",
      " 8   PREV_SVC_CNT             15108 non-null  float64\n",
      " 9   TXMT_USER_CNT            15108 non-null  float64\n",
      " 10  TXMT_SVC_CNT             15108 non-null  float64\n",
      " 11  EXAM_USER_CNT            15108 non-null  float64\n",
      " 12  EXAM_SVC_CNT             15108 non-null  float64\n",
      " 13  PREV_TO_EXAM_RATIO       15108 non-null  float64\n",
      " 14  TXMT_TO_EXAM_RATIO       15108 non-null  float64\n",
      " 15  ADV_TO_EXAM_RATIO        15108 non-null  float64\n",
      " 16  REQUIRED_SPEC            15108 non-null  int64  \n",
      " 17  REQUIRED_BSNS_MODEL      15108 non-null  int64  \n",
      " 18  LAB_ID                   15108 non-null  int64  \n",
      " 19  LAB_POSTAL_CODE          15108 non-null  int64  \n",
      "dtypes: float64(11), int64(9)\n",
      "memory usage: 2.3 MB\n"
     ]
    }
   ],
   "source": [
    "df_main.info()"
   ]
  },
  {
   "cell_type": "code",
   "execution_count": 6,
   "id": "a82aa886",
   "metadata": {},
   "outputs": [
    {
     "name": "stdout",
     "output_type": "stream",
     "text": [
      "Warning: Test set contains labels not in training set. Handling manually.\n",
      "\n",
      "XGBoost Training on 2689 unique LAB_IDs\n"
     ]
    },
    {
     "name": "stderr",
     "output_type": "stream",
     "text": [
      "C:\\Users\\anxpr\\anaconda3\\envs\\sdv1\\lib\\site-packages\\xgboost\\core.py:158: UserWarning: [23:13:31] WARNING: D:\\bld\\xgboost-split_1737531311373\\work\\src\\learner.cc:740: \n",
      "Parameters: { \"use_label_encoder\" } are not used.\n",
      "\n",
      "  warnings.warn(smsg, UserWarning)\n"
     ]
    },
    {
     "name": "stdout",
     "output_type": "stream",
     "text": [
      "training complete\n",
      "accuracy: 0.2959\n"
     ]
    }
   ],
   "source": [
    "import pandas as pd\n",
    "import numpy as np\n",
    "import xgboost as xgb\n",
    "from sklearn.model_selection import train_test_split\n",
    "from sklearn.preprocessing import LabelEncoder\n",
    "from sklearn.metrics import accuracy_score\n",
    "\n",
    "TARGET_COLUMN = 'LAB_ID'\n",
    "\n",
    "EXCLUDE_COLUMNS = [\n",
    "    'RENDERING_NPI', \n",
    "    TARGET_COLUMN\n",
    "]\n",
    "\n",
    "features = [col for col in df_main.columns if col not in EXCLUDE_COLUMNS]\n",
    "\n",
    "X = df_main[features].copy()\n",
    "y = df_main[TARGET_COLUMN].copy()\n",
    "\n",
    "postal_encoder = LabelEncoder()\n",
    "X['POSTAL_CODE_ENCODED'] = postal_encoder.fit_transform(X['POSTAL_CODE'])\n",
    "X.drop(columns=['POSTAL_CODE'], inplace=True) \n",
    "\n",
    "lab_postal_encoder = LabelEncoder()\n",
    "X['LAB_POSTAL_CODE_ENCODED'] = lab_postal_encoder.fit_transform(X['LAB_POSTAL_CODE'])\n",
    "X.drop(columns=['LAB_POSTAL_CODE'], inplace=True) \n",
    "\n",
    "X_train, X_test, y_train, y_test_original = train_test_split(\n",
    "    X, \n",
    "    y,\n",
    "    test_size=0.2, \n",
    "    random_state=42\n",
    ")\n",
    "\n",
    "train_label_encoder = LabelEncoder()\n",
    "y_train_encoded = train_label_encoder.fit_transform(y_train)\n",
    "\n",
    "try:\n",
    "    y_test_encoded = train_label_encoder.transform(y_test_original)\n",
    "except ValueError as e:\n",
    "\n",
    "    print(\"Warning: Test set contains labels not in training set. Handling manually.\")\n",
    "    mapping = {label: index for index, label in enumerate(train_label_encoder.classes_)}\n",
    "    y_test_encoded = np.array([mapping.get(label, -1) for label in y_test_original])\n",
    "\n",
    "n_classes_train = len(train_label_encoder.classes_)\n",
    "\n",
    "xgb_model = xgb.XGBClassifier(\n",
    "    objective='multi:softmax',\n",
    "    num_class=n_classes_train,\n",
    "    n_estimators=100,\n",
    "    learning_rate=0.1,\n",
    "    n_jobs=-1,\n",
    "    use_label_encoder=False,\n",
    "    eval_metric='mlogloss',\n",
    "    random_state=42\n",
    ")\n",
    "\n",
    "print(f\"\\nXGBoost Training on {n_classes_train} unique LAB_IDs\")\n",
    "xgb_model.fit(X_train, y_train_encoded) \n",
    "print(\"training complete\")\n",
    "\n",
    "valid_test_indices = y_test_encoded != -1\n",
    "y_test_valid = y_test_encoded[valid_test_indices]\n",
    "X_test_valid = X_test.iloc[valid_test_indices]\n",
    "\n",
    "y_proba = xgb_model.predict_proba(X_test_valid) \n",
    "y_pred = xgb_model.predict(X_test_valid)\n",
    "\n",
    "accuracy = accuracy_score(y_test_valid, y_pred)\n",
    "\n",
    "print(f\"accuracy: {accuracy:.4f}\")\n",
    "# print(f\"Shape of Probability Output (y_proba): {y_proba.shape}\")"
   ]
  },
  {
   "cell_type": "code",
   "execution_count": 14,
   "id": "cedc8ac7",
   "metadata": {},
   "outputs": [
    {
     "ename": "ValueError",
     "evalue": "y contains previously unseen labels: [np.int64(94210)]",
     "output_type": "error",
     "traceback": [
      "\u001b[1;31m---------------------------------------------------------------------------\u001b[0m",
      "\u001b[1;31mValueError\u001b[0m                                Traceback (most recent call last)",
      "Cell \u001b[1;32mIn[14], line 42\u001b[0m\n\u001b[0;32m     38\u001b[0m X_new_raw \u001b[38;5;241m=\u001b[39m pd\u001b[38;5;241m.\u001b[39mDataFrame([test_case_raw_data])\n\u001b[0;32m     40\u001b[0m X_new \u001b[38;5;241m=\u001b[39m X_new_raw\u001b[38;5;241m.\u001b[39mdrop(columns\u001b[38;5;241m=\u001b[39m[\u001b[38;5;124m'\u001b[39m\u001b[38;5;124mRENDERING_NPI\u001b[39m\u001b[38;5;124m'\u001b[39m])\u001b[38;5;241m.\u001b[39mcopy()\n\u001b[1;32m---> 42\u001b[0m X_new[\u001b[38;5;124m'\u001b[39m\u001b[38;5;124mPOSTAL_CODE_ENCODED\u001b[39m\u001b[38;5;124m'\u001b[39m] \u001b[38;5;241m=\u001b[39m \u001b[43mpostal_encoder\u001b[49m\u001b[38;5;241;43m.\u001b[39;49m\u001b[43mtransform\u001b[49m\u001b[43m(\u001b[49m\u001b[43mX_new\u001b[49m\u001b[43m[\u001b[49m\u001b[38;5;124;43m'\u001b[39;49m\u001b[38;5;124;43mPOSTAL_CODE\u001b[39;49m\u001b[38;5;124;43m'\u001b[39;49m\u001b[43m]\u001b[49m\u001b[43m)\u001b[49m\n\u001b[0;32m     43\u001b[0m X_new\u001b[38;5;241m.\u001b[39mdrop(columns\u001b[38;5;241m=\u001b[39m[\u001b[38;5;124m'\u001b[39m\u001b[38;5;124mPOSTAL_CODE\u001b[39m\u001b[38;5;124m'\u001b[39m], inplace\u001b[38;5;241m=\u001b[39m\u001b[38;5;28;01mTrue\u001b[39;00m)\n\u001b[0;32m     45\u001b[0m X_new[\u001b[38;5;124m'\u001b[39m\u001b[38;5;124mLAB_POSTAL_CODE_ENCODED\u001b[39m\u001b[38;5;124m'\u001b[39m] \u001b[38;5;241m=\u001b[39m lab_postal_encoder\u001b[38;5;241m.\u001b[39mtransform(X_new[\u001b[38;5;124m'\u001b[39m\u001b[38;5;124mLAB_POSTAL_CODE\u001b[39m\u001b[38;5;124m'\u001b[39m])\n",
      "File \u001b[1;32m~\\anaconda3\\envs\\sdv1\\lib\\site-packages\\sklearn\\preprocessing\\_label.py:134\u001b[0m, in \u001b[0;36mLabelEncoder.transform\u001b[1;34m(self, y)\u001b[0m\n\u001b[0;32m    131\u001b[0m \u001b[38;5;28;01mif\u001b[39;00m _num_samples(y) \u001b[38;5;241m==\u001b[39m \u001b[38;5;241m0\u001b[39m:\n\u001b[0;32m    132\u001b[0m     \u001b[38;5;28;01mreturn\u001b[39;00m xp\u001b[38;5;241m.\u001b[39masarray([])\n\u001b[1;32m--> 134\u001b[0m \u001b[38;5;28;01mreturn\u001b[39;00m \u001b[43m_encode\u001b[49m\u001b[43m(\u001b[49m\u001b[43my\u001b[49m\u001b[43m,\u001b[49m\u001b[43m \u001b[49m\u001b[43muniques\u001b[49m\u001b[38;5;241;43m=\u001b[39;49m\u001b[38;5;28;43mself\u001b[39;49m\u001b[38;5;241;43m.\u001b[39;49m\u001b[43mclasses_\u001b[49m\u001b[43m)\u001b[49m\n",
      "File \u001b[1;32m~\\anaconda3\\envs\\sdv1\\lib\\site-packages\\sklearn\\utils\\_encode.py:242\u001b[0m, in \u001b[0;36m_encode\u001b[1;34m(values, uniques, check_unknown)\u001b[0m\n\u001b[0;32m    240\u001b[0m     diff \u001b[38;5;241m=\u001b[39m _check_unknown(values, uniques)\n\u001b[0;32m    241\u001b[0m     \u001b[38;5;28;01mif\u001b[39;00m diff:\n\u001b[1;32m--> 242\u001b[0m         \u001b[38;5;28;01mraise\u001b[39;00m \u001b[38;5;167;01mValueError\u001b[39;00m(\u001b[38;5;124mf\u001b[39m\u001b[38;5;124m\"\u001b[39m\u001b[38;5;124my contains previously unseen labels: \u001b[39m\u001b[38;5;132;01m{\u001b[39;00m\u001b[38;5;28mstr\u001b[39m(diff)\u001b[38;5;132;01m}\u001b[39;00m\u001b[38;5;124m\"\u001b[39m)\n\u001b[0;32m    243\u001b[0m \u001b[38;5;28;01mreturn\u001b[39;00m _searchsorted(uniques, values, xp\u001b[38;5;241m=\u001b[39mxp)\n",
      "\u001b[1;31mValueError\u001b[0m: y contains previously unseen labels: [np.int64(94210)]"
     ]
    }
   ],
   "source": [
    "import pandas as pd\n",
    "import numpy as np\n",
    "import xgboost as xgb\n",
    "from sklearn.preprocessing import LabelEncoder\n",
    "from sklearn.metrics import accuracy_score\n",
    "import joblib\n",
    "test_case_data = {\n",
    "    # Direct Input Features:\n",
    "    'RENDERING_NPI': 1234567890,           # Placeholder NPI (will be dropped)\n",
    "    'POSTAL_CODE': '90210',                # Clinic Location (will be encoded)\n",
    "    'LAB_POSTAL_CODE': '90001',            # Default Lab Location (will be encoded)\n",
    "    'DELIVERY_SYSTEM_ENCODED': 0,\n",
    "    'PROVIDER_TYPE_ENCODED': 1,\n",
    "    'REQUIRED_BSNS_MODEL': 0,              # Full-Service Lab (Direct input)\n",
    "\n",
    "    # Imputed/Calculated Features:\n",
    "    'AGE_GROUP_ENCODED': 2,                # Imputed default\n",
    "    \n",
    "    # Imputed Raw Service Counts (Assuming ADV is the focus, others are minimal)\n",
    "    'ADV_USER_CNT': 10,\n",
    "    'ADV_SVC_CNT': 5,\n",
    "    'PREV_USER_CNT': 0,\n",
    "    'PREV_SVC_CNT': 0,\n",
    "    'TXMT_USER_CNT': 0,\n",
    "    'TXMT_SVC_CNT': 0,\n",
    "    'EXAM_USER_CNT': 10,                   # Baseline for denominator\n",
    "    'EXAM_SVC_CNT': 5,                     # Baseline for denominator\n",
    "\n",
    "    # Calculated Ratios (Must be calculated by the backend before encoding)\n",
    "    'PREV_TO_EXAM_RATIO': 0.0,             # 0 / 5\n",
    "    'TXMT_TO_EXAM_RATIO': 0.0,             # 0 / 5\n",
    "    'ADV_TO_EXAM_RATIO': 1.0,              # 5 / 5\n",
    "    \n",
    "    # Inferred Specialization (From 'ADV' service requirement)\n",
    "    'REQUIRED_SPEC': 2,                    # Prosthodontic (Inferred from ADV service need)\n",
    "}\n",
    "\n",
    "X_new_raw = pd.DataFrame([test_case_raw_data])\n",
    "\n",
    "X_new = X_new_raw.drop(columns=['RENDERING_NPI']).copy()\n",
    "\n",
    "X_new['POSTAL_CODE_ENCODED'] = postal_encoder.transform(X_new['POSTAL_CODE'])\n",
    "X_new.drop(columns=['POSTAL_CODE'], inplace=True)\n",
    "\n",
    "X_new['LAB_POSTAL_CODE_ENCODED'] = lab_postal_encoder.transform(X_new['LAB_POSTAL_CODE'])\n",
    "X_new.drop(columns=['LAB_POSTAL_CODE'], inplace=True)\n",
    "\n",
    "X_new_processed = X_new.reindex(columns=X_train.columns, fill_value=0)\n",
    "\n",
    "\n",
    "probabilities = xgb_model.predict_proba(X_new_processed)\n",
    "\n",
    "top_5_indices = np.argsort(probabilities[0])[-5:][::-1]\n",
    "\n",
    "top_5_lab_ids = train_label_encoder.inverse_transform(top_5_indices)\n",
    "top_5_probabilities = probabilities[0][top_5_indices]\n",
    "\n",
    "\n",
    "print(\"\\nRecommendation Results for New Clinic Case\")\n",
    "print(f\"Top 5 Recommended LAB_IDs (Out of {n_classes_train} total):\\n\")\n",
    "\n",
    "for lab_id, prob in zip(top_5_lab_ids, top_5_probabilities):\n",
    "    print(f\"LAB_ID {lab_id:<10}: Probability = {prob * 100:.2f}%\")\n",
    "\n",
    "df_lab[df_lab['LAB_ID'] == top_5_lab_ids[0]]"
   ]
  },
  {
   "cell_type": "code",
   "execution_count": null,
   "id": "b20df6b8",
   "metadata": {},
   "outputs": [],
   "source": []
  }
 ],
 "metadata": {
  "kernelspec": {
   "display_name": "Python 3 (ipykernel)",
   "language": "python",
   "name": "python3"
  },
  "language_info": {
   "codemirror_mode": {
    "name": "ipython",
    "version": 3
   },
   "file_extension": ".py",
   "mimetype": "text/x-python",
   "name": "python",
   "nbconvert_exporter": "python",
   "pygments_lexer": "ipython3",
   "version": "3.9.23"
  }
 },
 "nbformat": 4,
 "nbformat_minor": 5
}
